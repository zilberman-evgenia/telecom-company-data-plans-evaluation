{
 "cells": [
  {
   "cell_type": "markdown",
   "metadata": {},
   "source": [
    "<h1 style=\"color:green; margin-bottom:15px;font-size:30px\">Telecom Company Data Plans Evaluation</h1>"
   ]
  },
  {
   "cell_type": "markdown",
   "metadata": {},
   "source": [
    "# The Goal of the Project\n",
    "\n",
    "The dataset has the data of 500 customers of a imaginary Telecom company called Megaline (who they are, where they come from, which data plan they have use, how many calls and messages they've sent in 2018). \n",
    "\n",
    "The goal of this project is to analyze the behavior of customers and choose the data plan to promote in ads."
   ]
  },
  {
   "cell_type": "markdown",
   "metadata": {},
   "source": [
    "# Data Plans Descriptions\n",
    "\n",
    "**Ultra Plan**\n",
    "\n",
    "<ul>\n",
    "<li>Monthly fee: 1950 rubles</li>\n",
    "<li>3000 minutes of calls, 1000 messages and 30 GB of data included</li>\n",
    "<li>The cost of services beyond the package:<br>\n",
    "     1 minute of conversation: 1 ruble; <br>\n",
    "     1 message: 1 ruble; <br>\n",
    "     1 GB of Internet traffic: 150 rubles.\n",
    "</li>\n",
    "</ul>\n",
    "\n",
    "**Smart Plan**\n",
    "\n",
    "<ul>\n",
    "<li>Monthly fee: 550 rubles</li>\n",
    "<li>500 minutes of calls, 50 messages and 15 GB of data included</li>\n",
    "<li>The cost of services beyond the package: <br>\n",
    "     1 minute of conversation: 3 rubles; <br>\n",
    "     1 message: 3 rubles; <br>\n",
    "     1 GB of Internet traffic: 200 rubles.<br>\n",
    "</li>\n",
    "</ul>"
   ]
  },
  {
   "cell_type": "markdown",
   "metadata": {},
   "source": [
    "# Note:\n",
    "\n",
    "Megaline always rounds up minutes and megabytes. For web traffic, individual sessions are not counted. Instead, the monthly total is rounded up. If a subscriber used 1025 megabytes this month, they will be charged for 2 gigabytes."
   ]
  },
  {
   "cell_type": "markdown",
   "metadata": {},
   "source": [
    "<h1>Contents<span class=\"tocSkip\"></span></h1>\n",
    "<ol>\n",
    "<li>Libraries Import</li>\n",
    "<li>Data Import</li>\n",
    "<li>Data Description </li>\n",
    "<li>Data Preparation</li>\n",
    "<li>Data Analysis</li>\n",
    "<li>Hypotheses Testing</li>\n",
    "<li>Conclusion and Recommendations</li>\n",
    "</ol>"
   ]
  },
  {
   "cell_type": "markdown",
   "metadata": {},
   "source": [
    "# 1. Libraries Import"
   ]
  },
  {
   "cell_type": "code",
   "execution_count": 1,
   "metadata": {},
   "outputs": [],
   "source": [
    "import pandas as pd\n",
    "import math\n",
    "import numpy as np\n",
    "from scipy import stats as st\n",
    "import warnings\n",
    "warnings.filterwarnings('ignore')"
   ]
  },
  {
   "cell_type": "markdown",
   "metadata": {},
   "source": [
    "# 2. Data Import"
   ]
  },
  {
   "cell_type": "code",
   "execution_count": 2,
   "metadata": {},
   "outputs": [
    {
     "data": {
      "text/html": [
       "<div>\n",
       "<style scoped>\n",
       "    .dataframe tbody tr th:only-of-type {\n",
       "        vertical-align: middle;\n",
       "    }\n",
       "\n",
       "    .dataframe tbody tr th {\n",
       "        vertical-align: top;\n",
       "    }\n",
       "\n",
       "    .dataframe thead th {\n",
       "        text-align: right;\n",
       "    }\n",
       "</style>\n",
       "<table border=\"1\" class=\"dataframe\">\n",
       "  <thead>\n",
       "    <tr style=\"text-align: right;\">\n",
       "      <th></th>\n",
       "      <th>user_id</th>\n",
       "      <th>age</th>\n",
       "      <th>churn_date</th>\n",
       "      <th>city</th>\n",
       "      <th>first_name</th>\n",
       "      <th>last_name</th>\n",
       "      <th>reg_date</th>\n",
       "      <th>tariff</th>\n",
       "    </tr>\n",
       "  </thead>\n",
       "  <tbody>\n",
       "    <tr>\n",
       "      <th>0</th>\n",
       "      <td>1000</td>\n",
       "      <td>52</td>\n",
       "      <td>NaN</td>\n",
       "      <td>Краснодар</td>\n",
       "      <td>Рафаил</td>\n",
       "      <td>Верещагин</td>\n",
       "      <td>2018-05-25</td>\n",
       "      <td>ultra</td>\n",
       "    </tr>\n",
       "    <tr>\n",
       "      <th>1</th>\n",
       "      <td>1001</td>\n",
       "      <td>41</td>\n",
       "      <td>NaN</td>\n",
       "      <td>Москва</td>\n",
       "      <td>Иван</td>\n",
       "      <td>Ежов</td>\n",
       "      <td>2018-11-01</td>\n",
       "      <td>smart</td>\n",
       "    </tr>\n",
       "    <tr>\n",
       "      <th>2</th>\n",
       "      <td>1002</td>\n",
       "      <td>59</td>\n",
       "      <td>NaN</td>\n",
       "      <td>Стерлитамак</td>\n",
       "      <td>Евгений</td>\n",
       "      <td>Абрамович</td>\n",
       "      <td>2018-06-17</td>\n",
       "      <td>smart</td>\n",
       "    </tr>\n",
       "    <tr>\n",
       "      <th>3</th>\n",
       "      <td>1003</td>\n",
       "      <td>23</td>\n",
       "      <td>NaN</td>\n",
       "      <td>Москва</td>\n",
       "      <td>Белла</td>\n",
       "      <td>Белякова</td>\n",
       "      <td>2018-08-17</td>\n",
       "      <td>ultra</td>\n",
       "    </tr>\n",
       "    <tr>\n",
       "      <th>4</th>\n",
       "      <td>1004</td>\n",
       "      <td>68</td>\n",
       "      <td>NaN</td>\n",
       "      <td>Новокузнецк</td>\n",
       "      <td>Татьяна</td>\n",
       "      <td>Авдеенко</td>\n",
       "      <td>2018-05-14</td>\n",
       "      <td>ultra</td>\n",
       "    </tr>\n",
       "  </tbody>\n",
       "</table>\n",
       "</div>"
      ],
      "text/plain": [
       "   user_id  age churn_date         city first_name  last_name    reg_date  \\\n",
       "0     1000   52        NaN    Краснодар     Рафаил  Верещагин  2018-05-25   \n",
       "1     1001   41        NaN       Москва       Иван       Ежов  2018-11-01   \n",
       "2     1002   59        NaN  Стерлитамак    Евгений  Абрамович  2018-06-17   \n",
       "3     1003   23        NaN       Москва      Белла   Белякова  2018-08-17   \n",
       "4     1004   68        NaN  Новокузнецк    Татьяна   Авдеенко  2018-05-14   \n",
       "\n",
       "  tariff  \n",
       "0  ultra  \n",
       "1  smart  \n",
       "2  smart  \n",
       "3  ultra  \n",
       "4  ultra  "
      ]
     },
     "metadata": {},
     "output_type": "display_data"
    },
    {
     "name": "stdout",
     "output_type": "stream",
     "text": [
      "<class 'pandas.core.frame.DataFrame'>\n",
      "RangeIndex: 500 entries, 0 to 499\n",
      "Data columns (total 8 columns):\n",
      " #   Column      Non-Null Count  Dtype \n",
      "---  ------      --------------  ----- \n",
      " 0   user_id     500 non-null    int64 \n",
      " 1   age         500 non-null    int64 \n",
      " 2   churn_date  38 non-null     object\n",
      " 3   city        500 non-null    object\n",
      " 4   first_name  500 non-null    object\n",
      " 5   last_name   500 non-null    object\n",
      " 6   reg_date    500 non-null    object\n",
      " 7   tariff      500 non-null    object\n",
      "dtypes: int64(2), object(6)\n",
      "memory usage: 31.4+ KB\n"
     ]
    },
    {
     "data": {
      "text/plain": [
       "None"
      ]
     },
     "metadata": {},
     "output_type": "display_data"
    },
    {
     "data": {
      "text/html": [
       "<div>\n",
       "<style scoped>\n",
       "    .dataframe tbody tr th:only-of-type {\n",
       "        vertical-align: middle;\n",
       "    }\n",
       "\n",
       "    .dataframe tbody tr th {\n",
       "        vertical-align: top;\n",
       "    }\n",
       "\n",
       "    .dataframe thead th {\n",
       "        text-align: right;\n",
       "    }\n",
       "</style>\n",
       "<table border=\"1\" class=\"dataframe\">\n",
       "  <thead>\n",
       "    <tr style=\"text-align: right;\">\n",
       "      <th></th>\n",
       "      <th>count</th>\n",
       "      <th>mean</th>\n",
       "      <th>std</th>\n",
       "      <th>min</th>\n",
       "      <th>25%</th>\n",
       "      <th>50%</th>\n",
       "      <th>75%</th>\n",
       "      <th>max</th>\n",
       "    </tr>\n",
       "  </thead>\n",
       "  <tbody>\n",
       "    <tr>\n",
       "      <th>user_id</th>\n",
       "      <td>500.0</td>\n",
       "      <td>1249.500</td>\n",
       "      <td>144.481833</td>\n",
       "      <td>1000.0</td>\n",
       "      <td>1124.75</td>\n",
       "      <td>1249.5</td>\n",
       "      <td>1374.25</td>\n",
       "      <td>1499.0</td>\n",
       "    </tr>\n",
       "    <tr>\n",
       "      <th>age</th>\n",
       "      <td>500.0</td>\n",
       "      <td>46.588</td>\n",
       "      <td>16.667630</td>\n",
       "      <td>18.0</td>\n",
       "      <td>32.00</td>\n",
       "      <td>46.0</td>\n",
       "      <td>62.00</td>\n",
       "      <td>75.0</td>\n",
       "    </tr>\n",
       "  </tbody>\n",
       "</table>\n",
       "</div>"
      ],
      "text/plain": [
       "         count      mean         std     min      25%     50%      75%     max\n",
       "user_id  500.0  1249.500  144.481833  1000.0  1124.75  1249.5  1374.25  1499.0\n",
       "age      500.0    46.588   16.667630    18.0    32.00    46.0    62.00    75.0"
      ]
     },
     "execution_count": 2,
     "metadata": {},
     "output_type": "execute_result"
    }
   ],
   "source": [
    "calls=pd.read_csv('calls.csv', sep='\\,', parse_dates=['call_date'])\n",
    "internet=pd.read_csv('internet.csv', sep='\\,', index_col=0, parse_dates=['session_date'])\n",
    "messages=pd.read_csv('messages.csv', sep='\\,', parse_dates=['message_date'])\n",
    "tariffs=pd.read_csv('tariffs.csv', sep='\\,')\n",
    "users=pd.read_csv('users.csv', sep='\\,')\n",
    "\n",
    "display(users.head(5))\n",
    "display(users.info())\n",
    "users.describe().T"
   ]
  },
  {
   "cell_type": "code",
   "execution_count": 3,
   "metadata": {},
   "outputs": [
    {
     "data": {
      "text/html": [
       "<div>\n",
       "<style scoped>\n",
       "    .dataframe tbody tr th:only-of-type {\n",
       "        vertical-align: middle;\n",
       "    }\n",
       "\n",
       "    .dataframe tbody tr th {\n",
       "        vertical-align: top;\n",
       "    }\n",
       "\n",
       "    .dataframe thead th {\n",
       "        text-align: right;\n",
       "    }\n",
       "</style>\n",
       "<table border=\"1\" class=\"dataframe\">\n",
       "  <thead>\n",
       "    <tr style=\"text-align: right;\">\n",
       "      <th></th>\n",
       "      <th>id</th>\n",
       "      <th>call_date</th>\n",
       "      <th>duration</th>\n",
       "      <th>user_id</th>\n",
       "    </tr>\n",
       "  </thead>\n",
       "  <tbody>\n",
       "    <tr>\n",
       "      <th>0</th>\n",
       "      <td>1000_0</td>\n",
       "      <td>2018-07-25</td>\n",
       "      <td>0.00</td>\n",
       "      <td>1000</td>\n",
       "    </tr>\n",
       "    <tr>\n",
       "      <th>1</th>\n",
       "      <td>1000_1</td>\n",
       "      <td>2018-08-17</td>\n",
       "      <td>0.00</td>\n",
       "      <td>1000</td>\n",
       "    </tr>\n",
       "    <tr>\n",
       "      <th>2</th>\n",
       "      <td>1000_2</td>\n",
       "      <td>2018-06-11</td>\n",
       "      <td>2.85</td>\n",
       "      <td>1000</td>\n",
       "    </tr>\n",
       "    <tr>\n",
       "      <th>3</th>\n",
       "      <td>1000_3</td>\n",
       "      <td>2018-09-21</td>\n",
       "      <td>13.80</td>\n",
       "      <td>1000</td>\n",
       "    </tr>\n",
       "    <tr>\n",
       "      <th>4</th>\n",
       "      <td>1000_4</td>\n",
       "      <td>2018-12-15</td>\n",
       "      <td>5.18</td>\n",
       "      <td>1000</td>\n",
       "    </tr>\n",
       "  </tbody>\n",
       "</table>\n",
       "</div>"
      ],
      "text/plain": [
       "       id  call_date  duration  user_id\n",
       "0  1000_0 2018-07-25      0.00     1000\n",
       "1  1000_1 2018-08-17      0.00     1000\n",
       "2  1000_2 2018-06-11      2.85     1000\n",
       "3  1000_3 2018-09-21     13.80     1000\n",
       "4  1000_4 2018-12-15      5.18     1000"
      ]
     },
     "metadata": {},
     "output_type": "display_data"
    },
    {
     "name": "stdout",
     "output_type": "stream",
     "text": [
      "<class 'pandas.core.frame.DataFrame'>\n",
      "RangeIndex: 202607 entries, 0 to 202606\n",
      "Data columns (total 4 columns):\n",
      " #   Column     Non-Null Count   Dtype         \n",
      "---  ------     --------------   -----         \n",
      " 0   id         202607 non-null  object        \n",
      " 1   call_date  202607 non-null  datetime64[ns]\n",
      " 2   duration   202607 non-null  float64       \n",
      " 3   user_id    202607 non-null  int64         \n",
      "dtypes: datetime64[ns](1), float64(1), int64(1), object(1)\n",
      "memory usage: 6.2+ MB\n"
     ]
    },
    {
     "data": {
      "text/plain": [
       "None"
      ]
     },
     "metadata": {},
     "output_type": "display_data"
    },
    {
     "data": {
      "text/html": [
       "<div>\n",
       "<style scoped>\n",
       "    .dataframe tbody tr th:only-of-type {\n",
       "        vertical-align: middle;\n",
       "    }\n",
       "\n",
       "    .dataframe tbody tr th {\n",
       "        vertical-align: top;\n",
       "    }\n",
       "\n",
       "    .dataframe thead th {\n",
       "        text-align: right;\n",
       "    }\n",
       "</style>\n",
       "<table border=\"1\" class=\"dataframe\">\n",
       "  <thead>\n",
       "    <tr style=\"text-align: right;\">\n",
       "      <th></th>\n",
       "      <th>count</th>\n",
       "      <th>mean</th>\n",
       "      <th>std</th>\n",
       "      <th>min</th>\n",
       "      <th>25%</th>\n",
       "      <th>50%</th>\n",
       "      <th>75%</th>\n",
       "      <th>max</th>\n",
       "    </tr>\n",
       "  </thead>\n",
       "  <tbody>\n",
       "    <tr>\n",
       "      <th>duration</th>\n",
       "      <td>202607.0</td>\n",
       "      <td>6.755887</td>\n",
       "      <td>5.843365</td>\n",
       "      <td>0.0</td>\n",
       "      <td>1.3</td>\n",
       "      <td>6.0</td>\n",
       "      <td>10.7</td>\n",
       "      <td>38.0</td>\n",
       "    </tr>\n",
       "    <tr>\n",
       "      <th>user_id</th>\n",
       "      <td>202607.0</td>\n",
       "      <td>1253.940619</td>\n",
       "      <td>144.722751</td>\n",
       "      <td>1000.0</td>\n",
       "      <td>1126.0</td>\n",
       "      <td>1260.0</td>\n",
       "      <td>1379.0</td>\n",
       "      <td>1499.0</td>\n",
       "    </tr>\n",
       "  </tbody>\n",
       "</table>\n",
       "</div>"
      ],
      "text/plain": [
       "             count         mean         std     min     25%     50%     75%  \\\n",
       "duration  202607.0     6.755887    5.843365     0.0     1.3     6.0    10.7   \n",
       "user_id   202607.0  1253.940619  144.722751  1000.0  1126.0  1260.0  1379.0   \n",
       "\n",
       "             max  \n",
       "duration    38.0  \n",
       "user_id   1499.0  "
      ]
     },
     "execution_count": 3,
     "metadata": {},
     "output_type": "execute_result"
    }
   ],
   "source": [
    "display(calls.head(5))\n",
    "display(calls.info())\n",
    "calls.describe().T"
   ]
  },
  {
   "cell_type": "code",
   "execution_count": 4,
   "metadata": {},
   "outputs": [
    {
     "data": {
      "text/html": [
       "<div>\n",
       "<style scoped>\n",
       "    .dataframe tbody tr th:only-of-type {\n",
       "        vertical-align: middle;\n",
       "    }\n",
       "\n",
       "    .dataframe tbody tr th {\n",
       "        vertical-align: top;\n",
       "    }\n",
       "\n",
       "    .dataframe thead th {\n",
       "        text-align: right;\n",
       "    }\n",
       "</style>\n",
       "<table border=\"1\" class=\"dataframe\">\n",
       "  <thead>\n",
       "    <tr style=\"text-align: right;\">\n",
       "      <th></th>\n",
       "      <th>id</th>\n",
       "      <th>message_date</th>\n",
       "      <th>user_id</th>\n",
       "    </tr>\n",
       "  </thead>\n",
       "  <tbody>\n",
       "    <tr>\n",
       "      <th>0</th>\n",
       "      <td>1000_0</td>\n",
       "      <td>2018-06-27</td>\n",
       "      <td>1000</td>\n",
       "    </tr>\n",
       "    <tr>\n",
       "      <th>1</th>\n",
       "      <td>1000_1</td>\n",
       "      <td>2018-10-08</td>\n",
       "      <td>1000</td>\n",
       "    </tr>\n",
       "    <tr>\n",
       "      <th>2</th>\n",
       "      <td>1000_2</td>\n",
       "      <td>2018-08-04</td>\n",
       "      <td>1000</td>\n",
       "    </tr>\n",
       "    <tr>\n",
       "      <th>3</th>\n",
       "      <td>1000_3</td>\n",
       "      <td>2018-06-16</td>\n",
       "      <td>1000</td>\n",
       "    </tr>\n",
       "    <tr>\n",
       "      <th>4</th>\n",
       "      <td>1000_4</td>\n",
       "      <td>2018-12-05</td>\n",
       "      <td>1000</td>\n",
       "    </tr>\n",
       "  </tbody>\n",
       "</table>\n",
       "</div>"
      ],
      "text/plain": [
       "       id message_date  user_id\n",
       "0  1000_0   2018-06-27     1000\n",
       "1  1000_1   2018-10-08     1000\n",
       "2  1000_2   2018-08-04     1000\n",
       "3  1000_3   2018-06-16     1000\n",
       "4  1000_4   2018-12-05     1000"
      ]
     },
     "metadata": {},
     "output_type": "display_data"
    },
    {
     "name": "stdout",
     "output_type": "stream",
     "text": [
      "<class 'pandas.core.frame.DataFrame'>\n",
      "RangeIndex: 123036 entries, 0 to 123035\n",
      "Data columns (total 3 columns):\n",
      " #   Column        Non-Null Count   Dtype         \n",
      "---  ------        --------------   -----         \n",
      " 0   id            123036 non-null  object        \n",
      " 1   message_date  123036 non-null  datetime64[ns]\n",
      " 2   user_id       123036 non-null  int64         \n",
      "dtypes: datetime64[ns](1), int64(1), object(1)\n",
      "memory usage: 2.8+ MB\n"
     ]
    },
    {
     "data": {
      "text/plain": [
       "None"
      ]
     },
     "metadata": {},
     "output_type": "display_data"
    },
    {
     "data": {
      "text/html": [
       "<div>\n",
       "<style scoped>\n",
       "    .dataframe tbody tr th:only-of-type {\n",
       "        vertical-align: middle;\n",
       "    }\n",
       "\n",
       "    .dataframe tbody tr th {\n",
       "        vertical-align: top;\n",
       "    }\n",
       "\n",
       "    .dataframe thead th {\n",
       "        text-align: right;\n",
       "    }\n",
       "</style>\n",
       "<table border=\"1\" class=\"dataframe\">\n",
       "  <thead>\n",
       "    <tr style=\"text-align: right;\">\n",
       "      <th></th>\n",
       "      <th>count</th>\n",
       "      <th>mean</th>\n",
       "      <th>std</th>\n",
       "      <th>min</th>\n",
       "      <th>25%</th>\n",
       "      <th>50%</th>\n",
       "      <th>75%</th>\n",
       "      <th>max</th>\n",
       "    </tr>\n",
       "  </thead>\n",
       "  <tbody>\n",
       "    <tr>\n",
       "      <th>user_id</th>\n",
       "      <td>123036.0</td>\n",
       "      <td>1256.98941</td>\n",
       "      <td>143.523967</td>\n",
       "      <td>1000.0</td>\n",
       "      <td>1134.0</td>\n",
       "      <td>1271.0</td>\n",
       "      <td>1381.0</td>\n",
       "      <td>1499.0</td>\n",
       "    </tr>\n",
       "  </tbody>\n",
       "</table>\n",
       "</div>"
      ],
      "text/plain": [
       "            count        mean         std     min     25%     50%     75%  \\\n",
       "user_id  123036.0  1256.98941  143.523967  1000.0  1134.0  1271.0  1381.0   \n",
       "\n",
       "            max  \n",
       "user_id  1499.0  "
      ]
     },
     "execution_count": 4,
     "metadata": {},
     "output_type": "execute_result"
    }
   ],
   "source": [
    "display(messages.head(5))\n",
    "display(messages.info())\n",
    "messages.describe().T"
   ]
  },
  {
   "cell_type": "code",
   "execution_count": 5,
   "metadata": {},
   "outputs": [
    {
     "data": {
      "text/html": [
       "<div>\n",
       "<style scoped>\n",
       "    .dataframe tbody tr th:only-of-type {\n",
       "        vertical-align: middle;\n",
       "    }\n",
       "\n",
       "    .dataframe tbody tr th {\n",
       "        vertical-align: top;\n",
       "    }\n",
       "\n",
       "    .dataframe thead th {\n",
       "        text-align: right;\n",
       "    }\n",
       "</style>\n",
       "<table border=\"1\" class=\"dataframe\">\n",
       "  <thead>\n",
       "    <tr style=\"text-align: right;\">\n",
       "      <th></th>\n",
       "      <th>id</th>\n",
       "      <th>mb_used</th>\n",
       "      <th>session_date</th>\n",
       "      <th>user_id</th>\n",
       "    </tr>\n",
       "  </thead>\n",
       "  <tbody>\n",
       "    <tr>\n",
       "      <th>0</th>\n",
       "      <td>1000_0</td>\n",
       "      <td>112.95</td>\n",
       "      <td>2018-11-25</td>\n",
       "      <td>1000</td>\n",
       "    </tr>\n",
       "    <tr>\n",
       "      <th>1</th>\n",
       "      <td>1000_1</td>\n",
       "      <td>1052.81</td>\n",
       "      <td>2018-09-07</td>\n",
       "      <td>1000</td>\n",
       "    </tr>\n",
       "    <tr>\n",
       "      <th>2</th>\n",
       "      <td>1000_2</td>\n",
       "      <td>1197.26</td>\n",
       "      <td>2018-06-25</td>\n",
       "      <td>1000</td>\n",
       "    </tr>\n",
       "    <tr>\n",
       "      <th>3</th>\n",
       "      <td>1000_3</td>\n",
       "      <td>550.27</td>\n",
       "      <td>2018-08-22</td>\n",
       "      <td>1000</td>\n",
       "    </tr>\n",
       "    <tr>\n",
       "      <th>4</th>\n",
       "      <td>1000_4</td>\n",
       "      <td>302.56</td>\n",
       "      <td>2018-09-24</td>\n",
       "      <td>1000</td>\n",
       "    </tr>\n",
       "  </tbody>\n",
       "</table>\n",
       "</div>"
      ],
      "text/plain": [
       "       id  mb_used session_date  user_id\n",
       "0  1000_0   112.95   2018-11-25     1000\n",
       "1  1000_1  1052.81   2018-09-07     1000\n",
       "2  1000_2  1197.26   2018-06-25     1000\n",
       "3  1000_3   550.27   2018-08-22     1000\n",
       "4  1000_4   302.56   2018-09-24     1000"
      ]
     },
     "metadata": {},
     "output_type": "display_data"
    },
    {
     "name": "stdout",
     "output_type": "stream",
     "text": [
      "<class 'pandas.core.frame.DataFrame'>\n",
      "Int64Index: 149396 entries, 0 to 149395\n",
      "Data columns (total 4 columns):\n",
      " #   Column        Non-Null Count   Dtype         \n",
      "---  ------        --------------   -----         \n",
      " 0   id            149396 non-null  object        \n",
      " 1   mb_used       149396 non-null  float64       \n",
      " 2   session_date  149396 non-null  datetime64[ns]\n",
      " 3   user_id       149396 non-null  int64         \n",
      "dtypes: datetime64[ns](1), float64(1), int64(1), object(1)\n",
      "memory usage: 5.7+ MB\n"
     ]
    },
    {
     "data": {
      "text/plain": [
       "None"
      ]
     },
     "metadata": {},
     "output_type": "display_data"
    },
    {
     "data": {
      "text/html": [
       "<div>\n",
       "<style scoped>\n",
       "    .dataframe tbody tr th:only-of-type {\n",
       "        vertical-align: middle;\n",
       "    }\n",
       "\n",
       "    .dataframe tbody tr th {\n",
       "        vertical-align: top;\n",
       "    }\n",
       "\n",
       "    .dataframe thead th {\n",
       "        text-align: right;\n",
       "    }\n",
       "</style>\n",
       "<table border=\"1\" class=\"dataframe\">\n",
       "  <thead>\n",
       "    <tr style=\"text-align: right;\">\n",
       "      <th></th>\n",
       "      <th>count</th>\n",
       "      <th>mean</th>\n",
       "      <th>std</th>\n",
       "      <th>min</th>\n",
       "      <th>25%</th>\n",
       "      <th>50%</th>\n",
       "      <th>75%</th>\n",
       "      <th>max</th>\n",
       "    </tr>\n",
       "  </thead>\n",
       "  <tbody>\n",
       "    <tr>\n",
       "      <th>mb_used</th>\n",
       "      <td>149396.0</td>\n",
       "      <td>370.192426</td>\n",
       "      <td>278.300951</td>\n",
       "      <td>0.0</td>\n",
       "      <td>138.1875</td>\n",
       "      <td>348.015</td>\n",
       "      <td>559.5525</td>\n",
       "      <td>1724.83</td>\n",
       "    </tr>\n",
       "    <tr>\n",
       "      <th>user_id</th>\n",
       "      <td>149396.0</td>\n",
       "      <td>1252.099842</td>\n",
       "      <td>144.050823</td>\n",
       "      <td>1000.0</td>\n",
       "      <td>1130.0000</td>\n",
       "      <td>1251.000</td>\n",
       "      <td>1380.0000</td>\n",
       "      <td>1499.00</td>\n",
       "    </tr>\n",
       "  </tbody>\n",
       "</table>\n",
       "</div>"
      ],
      "text/plain": [
       "            count         mean         std     min        25%       50%  \\\n",
       "mb_used  149396.0   370.192426  278.300951     0.0   138.1875   348.015   \n",
       "user_id  149396.0  1252.099842  144.050823  1000.0  1130.0000  1251.000   \n",
       "\n",
       "               75%      max  \n",
       "mb_used   559.5525  1724.83  \n",
       "user_id  1380.0000  1499.00  "
      ]
     },
     "execution_count": 5,
     "metadata": {},
     "output_type": "execute_result"
    }
   ],
   "source": [
    "display(internet.head(5))\n",
    "display(internet.info())\n",
    "internet.describe().T"
   ]
  },
  {
   "cell_type": "code",
   "execution_count": 6,
   "metadata": {},
   "outputs": [
    {
     "data": {
      "text/html": [
       "<div>\n",
       "<style scoped>\n",
       "    .dataframe tbody tr th:only-of-type {\n",
       "        vertical-align: middle;\n",
       "    }\n",
       "\n",
       "    .dataframe tbody tr th {\n",
       "        vertical-align: top;\n",
       "    }\n",
       "\n",
       "    .dataframe thead th {\n",
       "        text-align: right;\n",
       "    }\n",
       "</style>\n",
       "<table border=\"1\" class=\"dataframe\">\n",
       "  <thead>\n",
       "    <tr style=\"text-align: right;\">\n",
       "      <th></th>\n",
       "      <th>messages_included</th>\n",
       "      <th>mb_per_month_included</th>\n",
       "      <th>minutes_included</th>\n",
       "      <th>rub_monthly_fee</th>\n",
       "      <th>rub_per_gb</th>\n",
       "      <th>rub_per_message</th>\n",
       "      <th>rub_per_minute</th>\n",
       "      <th>tariff_name</th>\n",
       "    </tr>\n",
       "  </thead>\n",
       "  <tbody>\n",
       "    <tr>\n",
       "      <th>0</th>\n",
       "      <td>50</td>\n",
       "      <td>15360</td>\n",
       "      <td>500</td>\n",
       "      <td>550</td>\n",
       "      <td>200</td>\n",
       "      <td>3</td>\n",
       "      <td>3</td>\n",
       "      <td>smart</td>\n",
       "    </tr>\n",
       "    <tr>\n",
       "      <th>1</th>\n",
       "      <td>1000</td>\n",
       "      <td>30720</td>\n",
       "      <td>3000</td>\n",
       "      <td>1950</td>\n",
       "      <td>150</td>\n",
       "      <td>1</td>\n",
       "      <td>1</td>\n",
       "      <td>ultra</td>\n",
       "    </tr>\n",
       "  </tbody>\n",
       "</table>\n",
       "</div>"
      ],
      "text/plain": [
       "   messages_included  mb_per_month_included  minutes_included  \\\n",
       "0                 50                  15360               500   \n",
       "1               1000                  30720              3000   \n",
       "\n",
       "   rub_monthly_fee  rub_per_gb  rub_per_message  rub_per_minute tariff_name  \n",
       "0              550         200                3               3       smart  \n",
       "1             1950         150                1               1       ultra  "
      ]
     },
     "metadata": {},
     "output_type": "display_data"
    },
    {
     "name": "stdout",
     "output_type": "stream",
     "text": [
      "<class 'pandas.core.frame.DataFrame'>\n",
      "RangeIndex: 2 entries, 0 to 1\n",
      "Data columns (total 8 columns):\n",
      " #   Column                 Non-Null Count  Dtype \n",
      "---  ------                 --------------  ----- \n",
      " 0   messages_included      2 non-null      int64 \n",
      " 1   mb_per_month_included  2 non-null      int64 \n",
      " 2   minutes_included       2 non-null      int64 \n",
      " 3   rub_monthly_fee        2 non-null      int64 \n",
      " 4   rub_per_gb             2 non-null      int64 \n",
      " 5   rub_per_message        2 non-null      int64 \n",
      " 6   rub_per_minute         2 non-null      int64 \n",
      " 7   tariff_name            2 non-null      object\n",
      "dtypes: int64(7), object(1)\n",
      "memory usage: 256.0+ bytes\n"
     ]
    },
    {
     "data": {
      "text/plain": [
       "None"
      ]
     },
     "metadata": {},
     "output_type": "display_data"
    },
    {
     "data": {
      "text/html": [
       "<div>\n",
       "<style scoped>\n",
       "    .dataframe tbody tr th:only-of-type {\n",
       "        vertical-align: middle;\n",
       "    }\n",
       "\n",
       "    .dataframe tbody tr th {\n",
       "        vertical-align: top;\n",
       "    }\n",
       "\n",
       "    .dataframe thead th {\n",
       "        text-align: right;\n",
       "    }\n",
       "</style>\n",
       "<table border=\"1\" class=\"dataframe\">\n",
       "  <thead>\n",
       "    <tr style=\"text-align: right;\">\n",
       "      <th></th>\n",
       "      <th>count</th>\n",
       "      <th>mean</th>\n",
       "      <th>std</th>\n",
       "      <th>min</th>\n",
       "      <th>25%</th>\n",
       "      <th>50%</th>\n",
       "      <th>75%</th>\n",
       "      <th>max</th>\n",
       "    </tr>\n",
       "  </thead>\n",
       "  <tbody>\n",
       "    <tr>\n",
       "      <th>messages_included</th>\n",
       "      <td>2.0</td>\n",
       "      <td>525.0</td>\n",
       "      <td>671.751442</td>\n",
       "      <td>50.0</td>\n",
       "      <td>287.5</td>\n",
       "      <td>525.0</td>\n",
       "      <td>762.5</td>\n",
       "      <td>1000.0</td>\n",
       "    </tr>\n",
       "    <tr>\n",
       "      <th>mb_per_month_included</th>\n",
       "      <td>2.0</td>\n",
       "      <td>23040.0</td>\n",
       "      <td>10861.160159</td>\n",
       "      <td>15360.0</td>\n",
       "      <td>19200.0</td>\n",
       "      <td>23040.0</td>\n",
       "      <td>26880.0</td>\n",
       "      <td>30720.0</td>\n",
       "    </tr>\n",
       "    <tr>\n",
       "      <th>minutes_included</th>\n",
       "      <td>2.0</td>\n",
       "      <td>1750.0</td>\n",
       "      <td>1767.766953</td>\n",
       "      <td>500.0</td>\n",
       "      <td>1125.0</td>\n",
       "      <td>1750.0</td>\n",
       "      <td>2375.0</td>\n",
       "      <td>3000.0</td>\n",
       "    </tr>\n",
       "    <tr>\n",
       "      <th>rub_monthly_fee</th>\n",
       "      <td>2.0</td>\n",
       "      <td>1250.0</td>\n",
       "      <td>989.949494</td>\n",
       "      <td>550.0</td>\n",
       "      <td>900.0</td>\n",
       "      <td>1250.0</td>\n",
       "      <td>1600.0</td>\n",
       "      <td>1950.0</td>\n",
       "    </tr>\n",
       "    <tr>\n",
       "      <th>rub_per_gb</th>\n",
       "      <td>2.0</td>\n",
       "      <td>175.0</td>\n",
       "      <td>35.355339</td>\n",
       "      <td>150.0</td>\n",
       "      <td>162.5</td>\n",
       "      <td>175.0</td>\n",
       "      <td>187.5</td>\n",
       "      <td>200.0</td>\n",
       "    </tr>\n",
       "    <tr>\n",
       "      <th>rub_per_message</th>\n",
       "      <td>2.0</td>\n",
       "      <td>2.0</td>\n",
       "      <td>1.414214</td>\n",
       "      <td>1.0</td>\n",
       "      <td>1.5</td>\n",
       "      <td>2.0</td>\n",
       "      <td>2.5</td>\n",
       "      <td>3.0</td>\n",
       "    </tr>\n",
       "    <tr>\n",
       "      <th>rub_per_minute</th>\n",
       "      <td>2.0</td>\n",
       "      <td>2.0</td>\n",
       "      <td>1.414214</td>\n",
       "      <td>1.0</td>\n",
       "      <td>1.5</td>\n",
       "      <td>2.0</td>\n",
       "      <td>2.5</td>\n",
       "      <td>3.0</td>\n",
       "    </tr>\n",
       "  </tbody>\n",
       "</table>\n",
       "</div>"
      ],
      "text/plain": [
       "                       count     mean           std      min      25%  \\\n",
       "messages_included        2.0    525.0    671.751442     50.0    287.5   \n",
       "mb_per_month_included    2.0  23040.0  10861.160159  15360.0  19200.0   \n",
       "minutes_included         2.0   1750.0   1767.766953    500.0   1125.0   \n",
       "rub_monthly_fee          2.0   1250.0    989.949494    550.0    900.0   \n",
       "rub_per_gb               2.0    175.0     35.355339    150.0    162.5   \n",
       "rub_per_message          2.0      2.0      1.414214      1.0      1.5   \n",
       "rub_per_minute           2.0      2.0      1.414214      1.0      1.5   \n",
       "\n",
       "                           50%      75%      max  \n",
       "messages_included        525.0    762.5   1000.0  \n",
       "mb_per_month_included  23040.0  26880.0  30720.0  \n",
       "minutes_included        1750.0   2375.0   3000.0  \n",
       "rub_monthly_fee         1250.0   1600.0   1950.0  \n",
       "rub_per_gb               175.0    187.5    200.0  \n",
       "rub_per_message            2.0      2.5      3.0  \n",
       "rub_per_minute             2.0      2.5      3.0  "
      ]
     },
     "execution_count": 6,
     "metadata": {},
     "output_type": "execute_result"
    }
   ],
   "source": [
    "display(tariffs.head(5))\n",
    "display(tariffs.info())\n",
    "tariffs.describe().T"
   ]
  },
  {
   "cell_type": "markdown",
   "metadata": {},
   "source": [
    "# 3. Data Description\n",
    "\n",
    "**The dataset contains 5 tables**\n",
    "\n",
    "**users table** has 500 users and 8 variables\n",
    "<ol>\n",
    "<li>user_id</li>\n",
    "<li>first_name</li>\n",
    "<li>last_name</li>\n",
    "<li>age &mdash; in years</li>\n",
    "<li>reg_date &mdash; data plan starting date for this user (day, month, year)</li>\n",
    "<li>churn_date &mdash; the date when the user switched data plan or left the company (if the value is omitted, then the plan was still valid at the time of data export)</li>\n",
    "<li>city</li>\n",
    "<li>tarif - data plan</li>\n",
    "</ol>\n",
    "\n",
    "**calls table** has 202607 calls and 4 variables\n",
    "<ol>\n",
    "<li>id &mdash; call id</li>\n",
    "<li>call_date</li>\n",
    "<li>duration &mdash; in minutes</li>\n",
    "<li>user_id &mdash; id of the user that made a call</li>\n",
    "</ol>\n",
    "\n",
    "**messages table** has 123036 messages и 3 variables\n",
    "<ol>\n",
    "<li>id &mdash; message id</li>\n",
    "<li>message_date</li>\n",
    "<li>user_id &mdash; id of the user that sent the message</li>\n",
    "</ol>\n",
    "\n",
    "**internet sessions table** has 149396 internet sessions and 4 variables\n",
    "<ol>\n",
    "<li>id &mdash; session id</li>\n",
    "<li>mb_used</li>\n",
    "<li>session_date</li>\n",
    "<li>user_id &mdash; id of the user that had a session</li>\n",
    "</ol>\n",
    "\n",
    "**tariffs (data plans) table** содержит 2 тарифа и 8 переменных\n",
    "<ol>\n",
    "<li>tariff_name &mdash; - data plan name</li>\n",
    "<li>rub_monthly_fee &mdash; monthly fee in rubles</li>\n",
    "<li>minutes_included &mdash; minutes included</li>\n",
    "<li>messages_included &mdash; messages included</li>\n",
    "<li>mb_per_month_included &mdash; MB of internet traffic included</li>\n",
    "<li>rub_per_minute &mdash; fee for 1 minute beyond the package, in rubles</li>\n",
    "<li>rub_per_message &mdash; fee for 1 message beyond the package, in rubles</li>\n",
    "<li>rub_per_gb &mdash; fee for 1 GB beyond the package, in rubles</li>\n",
    "</ol>\n",
    "\n",
    "**The first 4 tables (users, internet sessions, calls and messages) are linked by the key user_id.<br>\n",
    "The users and tariffs are linked by tariff_name - data plan.**"
   ]
  },
  {
   "cell_type": "markdown",
   "metadata": {},
   "source": [
    "# 4. Data Preparation\n",
    "<ol>\n",
    "<li>Convert types where necessary</li>\n",
    "<li>Find and correct data errors</li>\n",
    "<li>Count for each user:</li>\n",
    "- the number of calls made and spent minutes of conversation by month;<br>\n",
    "- number of sent messages by month;<br>\n",
    "- the amount of Internet traffic per month;<br>\n",
    "- monthly revenue per user."
   ]
  },
  {
   "cell_type": "markdown",
   "metadata": {},
   "source": [
    "# 4.1. Preprocessing the table with users\n",
    "<ol>\n",
    "<li>Let's remove the columns *age*, *first_name*, *last_name*, *reg_date* as we won't need them further</li>\n",
    "<li>Let's convert the *city* variable into boolean categorical variable with 2 values '1 - Moscow' and '0 - not Moscow' for memory optimization</li>\n",
    "<li>Let's onvert the *tariff* (data plan) into boolean categorical variable with 2 values '1 - ultra' and '0 - smart'for memory optimization</li>"
   ]
  },
  {
   "cell_type": "code",
   "execution_count": 7,
   "metadata": {},
   "outputs": [
    {
     "data": {
      "text/plain": [
       "'users:'"
      ]
     },
     "metadata": {},
     "output_type": "display_data"
    },
    {
     "name": "stdout",
     "output_type": "stream",
     "text": [
      "<class 'pandas.core.frame.DataFrame'>\n",
      "RangeIndex: 500 entries, 0 to 499\n",
      "Data columns (total 8 columns):\n",
      " #   Column      Non-Null Count  Dtype \n",
      "---  ------      --------------  ----- \n",
      " 0   user_id     500 non-null    int64 \n",
      " 1   age         500 non-null    int64 \n",
      " 2   churn_date  38 non-null     object\n",
      " 3   city        500 non-null    object\n",
      " 4   first_name  500 non-null    object\n",
      " 5   last_name   500 non-null    object\n",
      " 6   reg_date    500 non-null    object\n",
      " 7   tariff      500 non-null    object\n",
      "dtypes: int64(2), object(6)\n",
      "memory usage: 31.4+ KB\n"
     ]
    },
    {
     "data": {
      "text/plain": [
       "None"
      ]
     },
     "metadata": {},
     "output_type": "display_data"
    },
    {
     "name": "stdout",
     "output_type": "stream",
     "text": [
      "<class 'pandas.core.frame.DataFrame'>\n",
      "RangeIndex: 500 entries, 0 to 499\n",
      "Data columns (total 4 columns):\n",
      " #   Column      Non-Null Count  Dtype \n",
      "---  ------      --------------  ----- \n",
      " 0   user_id     500 non-null    int64 \n",
      " 1   churn_date  38 non-null     object\n",
      " 2   city        500 non-null    bool  \n",
      " 3   tariff      500 non-null    bool  \n",
      "dtypes: bool(2), int64(1), object(1)\n",
      "memory usage: 8.9+ KB\n"
     ]
    },
    {
     "data": {
      "text/plain": [
       "None"
      ]
     },
     "metadata": {},
     "output_type": "display_data"
    }
   ],
   "source": [
    "display('users:')\n",
    "display(users.info())\n",
    "\n",
    "del users['age']\n",
    "del users['first_name']\n",
    "del users['last_name']\n",
    "del users['reg_date']\n",
    "\n",
    "users.loc[users['city'] != 'Москва', 'city'] = 0 #not Moscow\n",
    "users.loc[users['city'] == 'Москва', 'city'] = 1 #Moscow\n",
    "users['city'] = users['city'].astype('bool')\n",
    "\n",
    "users.loc[users['tariff'] == 'ultra', 'tariff'] = 0 #ultra\n",
    "users.loc[users['tariff'] == 'smart', 'tariff'] = 1 #smart\n",
    "users['tariff'] = users['tariff'].astype('bool')\n",
    "\n",
    "display(users.info())"
   ]
  },
  {
   "cell_type": "markdown",
   "metadata": {},
   "source": [
    "# 4.2. Preprocessing the table with calls\n",
    "<ol>\n",
    "<li>Calls with zero duration are missed calls, they should not be deleted</li>\n",
    "<li>Let's remove call id variable, we won't need it for analysis</li>\n",
    "<li>Since all calls were made in 2018, and we only need a month for further analysis, we'll convert the date of the call to the month of the call and the variable type to int</li>\n",
    "<li>Let's convert the duration to an integer type, rounding it up according to the Megaline rules</li>"
   ]
  },
  {
   "cell_type": "code",
   "execution_count": 8,
   "metadata": {},
   "outputs": [
    {
     "data": {
      "text/plain": [
       "'calls table:'"
      ]
     },
     "metadata": {},
     "output_type": "display_data"
    },
    {
     "name": "stdout",
     "output_type": "stream",
     "text": [
      "<class 'pandas.core.frame.DataFrame'>\n",
      "RangeIndex: 202607 entries, 0 to 202606\n",
      "Data columns (total 4 columns):\n",
      " #   Column     Non-Null Count   Dtype         \n",
      "---  ------     --------------   -----         \n",
      " 0   id         202607 non-null  object        \n",
      " 1   call_date  202607 non-null  datetime64[ns]\n",
      " 2   duration   202607 non-null  float64       \n",
      " 3   user_id    202607 non-null  int64         \n",
      "dtypes: datetime64[ns](1), float64(1), int64(1), object(1)\n",
      "memory usage: 6.2+ MB\n"
     ]
    },
    {
     "data": {
      "text/plain": [
       "None"
      ]
     },
     "metadata": {},
     "output_type": "display_data"
    },
    {
     "name": "stdout",
     "output_type": "stream",
     "text": [
      "<class 'pandas.core.frame.DataFrame'>\n",
      "RangeIndex: 202607 entries, 0 to 202606\n",
      "Data columns (total 3 columns):\n",
      " #   Column    Non-Null Count   Dtype\n",
      "---  ------    --------------   -----\n",
      " 0   duration  202607 non-null  int32\n",
      " 1   user_id   202607 non-null  int64\n",
      " 2   month     202607 non-null  int64\n",
      "dtypes: int32(1), int64(2)\n",
      "memory usage: 3.9 MB\n"
     ]
    },
    {
     "data": {
      "text/plain": [
       "None"
      ]
     },
     "metadata": {},
     "output_type": "display_data"
    }
   ],
   "source": [
    "display('calls table:')\n",
    "display(calls.info())\n",
    "\n",
    "del calls['id']\n",
    "\n",
    "calls['month'] = calls['call_date'].dt.month\n",
    "del calls['call_date']\n",
    "\n",
    "calls['duration'] = calls['duration'].apply(math.ceil)\n",
    "calls['duration'] = calls['duration'].astype(int)\n",
    "\n",
    "display(calls.info())"
   ]
  },
  {
   "cell_type": "markdown",
   "metadata": {},
   "source": [
    "# 4.3. Preprocessing the table with messages\n",
    "<ol>\n",
    "<li>Let's remove the message id variable, we won't need it further</li>\n",
    "<li>Let's convert date to month and variable type to int</li>"
   ]
  },
  {
   "cell_type": "code",
   "execution_count": 9,
   "metadata": {},
   "outputs": [
    {
     "data": {
      "text/plain": [
       "'messages table:'"
      ]
     },
     "metadata": {},
     "output_type": "display_data"
    },
    {
     "name": "stdout",
     "output_type": "stream",
     "text": [
      "<class 'pandas.core.frame.DataFrame'>\n",
      "RangeIndex: 123036 entries, 0 to 123035\n",
      "Data columns (total 3 columns):\n",
      " #   Column        Non-Null Count   Dtype         \n",
      "---  ------        --------------   -----         \n",
      " 0   id            123036 non-null  object        \n",
      " 1   message_date  123036 non-null  datetime64[ns]\n",
      " 2   user_id       123036 non-null  int64         \n",
      "dtypes: datetime64[ns](1), int64(1), object(1)\n",
      "memory usage: 2.8+ MB\n"
     ]
    },
    {
     "data": {
      "text/plain": [
       "None"
      ]
     },
     "metadata": {},
     "output_type": "display_data"
    },
    {
     "name": "stdout",
     "output_type": "stream",
     "text": [
      "<class 'pandas.core.frame.DataFrame'>\n",
      "RangeIndex: 123036 entries, 0 to 123035\n",
      "Data columns (total 2 columns):\n",
      " #   Column   Non-Null Count   Dtype\n",
      "---  ------   --------------   -----\n",
      " 0   user_id  123036 non-null  int64\n",
      " 1   month    123036 non-null  int64\n",
      "dtypes: int64(2)\n",
      "memory usage: 1.9 MB\n"
     ]
    },
    {
     "data": {
      "text/plain": [
       "None"
      ]
     },
     "metadata": {},
     "output_type": "display_data"
    }
   ],
   "source": [
    "display('messages table:')\n",
    "display(messages.info())\n",
    "\n",
    "del messages['id']\n",
    "\n",
    "messages['month'] = messages['message_date'].dt.month\n",
    "del messages['message_date']\n",
    "\n",
    "display(messages.info())"
   ]
  },
  {
   "cell_type": "markdown",
   "metadata": {},
   "source": [
    "# 4.4. Preprocessing the table with internet sessions\n",
    "<ol>\n",
    "<li>Let's remove the id variable, we won't need it further</li>\n",
    "<li>Let's convert date to month and variable type to int</li>\n",
    "<li>Let's remove the lines with zero internet sessions (19598 lines), since they will not affect the total cost (apparently these are some kind of network failures)</li>"
   ]
  },
  {
   "cell_type": "code",
   "execution_count": 10,
   "metadata": {},
   "outputs": [
    {
     "data": {
      "text/plain": [
       "'internet sessions table:'"
      ]
     },
     "metadata": {},
     "output_type": "display_data"
    },
    {
     "data": {
      "text/html": [
       "<div>\n",
       "<style scoped>\n",
       "    .dataframe tbody tr th:only-of-type {\n",
       "        vertical-align: middle;\n",
       "    }\n",
       "\n",
       "    .dataframe tbody tr th {\n",
       "        vertical-align: top;\n",
       "    }\n",
       "\n",
       "    .dataframe thead th {\n",
       "        text-align: right;\n",
       "    }\n",
       "</style>\n",
       "<table border=\"1\" class=\"dataframe\">\n",
       "  <thead>\n",
       "    <tr style=\"text-align: right;\">\n",
       "      <th></th>\n",
       "      <th>id</th>\n",
       "      <th>mb_used</th>\n",
       "      <th>session_date</th>\n",
       "      <th>user_id</th>\n",
       "    </tr>\n",
       "  </thead>\n",
       "  <tbody>\n",
       "    <tr>\n",
       "      <th>0</th>\n",
       "      <td>1000_0</td>\n",
       "      <td>112.95</td>\n",
       "      <td>2018-11-25</td>\n",
       "      <td>1000</td>\n",
       "    </tr>\n",
       "    <tr>\n",
       "      <th>1</th>\n",
       "      <td>1000_1</td>\n",
       "      <td>1052.81</td>\n",
       "      <td>2018-09-07</td>\n",
       "      <td>1000</td>\n",
       "    </tr>\n",
       "    <tr>\n",
       "      <th>2</th>\n",
       "      <td>1000_2</td>\n",
       "      <td>1197.26</td>\n",
       "      <td>2018-06-25</td>\n",
       "      <td>1000</td>\n",
       "    </tr>\n",
       "    <tr>\n",
       "      <th>3</th>\n",
       "      <td>1000_3</td>\n",
       "      <td>550.27</td>\n",
       "      <td>2018-08-22</td>\n",
       "      <td>1000</td>\n",
       "    </tr>\n",
       "    <tr>\n",
       "      <th>4</th>\n",
       "      <td>1000_4</td>\n",
       "      <td>302.56</td>\n",
       "      <td>2018-09-24</td>\n",
       "      <td>1000</td>\n",
       "    </tr>\n",
       "  </tbody>\n",
       "</table>\n",
       "</div>"
      ],
      "text/plain": [
       "       id  mb_used session_date  user_id\n",
       "0  1000_0   112.95   2018-11-25     1000\n",
       "1  1000_1  1052.81   2018-09-07     1000\n",
       "2  1000_2  1197.26   2018-06-25     1000\n",
       "3  1000_3   550.27   2018-08-22     1000\n",
       "4  1000_4   302.56   2018-09-24     1000"
      ]
     },
     "metadata": {},
     "output_type": "display_data"
    },
    {
     "name": "stdout",
     "output_type": "stream",
     "text": [
      "<class 'pandas.core.frame.DataFrame'>\n",
      "Int64Index: 149396 entries, 0 to 149395\n",
      "Data columns (total 4 columns):\n",
      " #   Column        Non-Null Count   Dtype         \n",
      "---  ------        --------------   -----         \n",
      " 0   id            149396 non-null  object        \n",
      " 1   mb_used       149396 non-null  float64       \n",
      " 2   session_date  149396 non-null  datetime64[ns]\n",
      " 3   user_id       149396 non-null  int64         \n",
      "dtypes: datetime64[ns](1), float64(1), int64(1), object(1)\n",
      "memory usage: 5.7+ MB\n"
     ]
    },
    {
     "data": {
      "text/plain": [
       "None"
      ]
     },
     "metadata": {},
     "output_type": "display_data"
    },
    {
     "name": "stdout",
     "output_type": "stream",
     "text": [
      "<class 'pandas.core.frame.DataFrame'>\n",
      "Int64Index: 149396 entries, 0 to 149395\n",
      "Data columns (total 3 columns):\n",
      " #   Column   Non-Null Count   Dtype  \n",
      "---  ------   --------------   -----  \n",
      " 0   mb_used  149396 non-null  float64\n",
      " 1   user_id  149396 non-null  int64  \n",
      " 2   month    149396 non-null  int64  \n",
      "dtypes: float64(1), int64(2)\n",
      "memory usage: 4.6 MB\n"
     ]
    },
    {
     "data": {
      "text/plain": [
       "None"
      ]
     },
     "metadata": {},
     "output_type": "display_data"
    },
    {
     "data": {
      "text/html": [
       "<div>\n",
       "<style scoped>\n",
       "    .dataframe tbody tr th:only-of-type {\n",
       "        vertical-align: middle;\n",
       "    }\n",
       "\n",
       "    .dataframe tbody tr th {\n",
       "        vertical-align: top;\n",
       "    }\n",
       "\n",
       "    .dataframe thead th {\n",
       "        text-align: right;\n",
       "    }\n",
       "</style>\n",
       "<table border=\"1\" class=\"dataframe\">\n",
       "  <thead>\n",
       "    <tr style=\"text-align: right;\">\n",
       "      <th></th>\n",
       "      <th>mb_used</th>\n",
       "      <th>user_id</th>\n",
       "      <th>month</th>\n",
       "    </tr>\n",
       "  </thead>\n",
       "  <tbody>\n",
       "    <tr>\n",
       "      <th>0</th>\n",
       "      <td>112.95</td>\n",
       "      <td>1000</td>\n",
       "      <td>11</td>\n",
       "    </tr>\n",
       "    <tr>\n",
       "      <th>1</th>\n",
       "      <td>1052.81</td>\n",
       "      <td>1000</td>\n",
       "      <td>9</td>\n",
       "    </tr>\n",
       "    <tr>\n",
       "      <th>2</th>\n",
       "      <td>1197.26</td>\n",
       "      <td>1000</td>\n",
       "      <td>6</td>\n",
       "    </tr>\n",
       "    <tr>\n",
       "      <th>3</th>\n",
       "      <td>550.27</td>\n",
       "      <td>1000</td>\n",
       "      <td>8</td>\n",
       "    </tr>\n",
       "    <tr>\n",
       "      <th>4</th>\n",
       "      <td>302.56</td>\n",
       "      <td>1000</td>\n",
       "      <td>9</td>\n",
       "    </tr>\n",
       "  </tbody>\n",
       "</table>\n",
       "</div>"
      ],
      "text/plain": [
       "   mb_used  user_id  month\n",
       "0   112.95     1000     11\n",
       "1  1052.81     1000      9\n",
       "2  1197.26     1000      6\n",
       "3   550.27     1000      8\n",
       "4   302.56     1000      9"
      ]
     },
     "metadata": {},
     "output_type": "display_data"
    }
   ],
   "source": [
    "display('internet sessions table:')\n",
    "display(internet.head(5))\n",
    "display(internet.info())\n",
    "\n",
    "del internet['id']\n",
    "\n",
    "internet['month'] = internet['session_date'].dt.month\n",
    "del internet['session_date']\n",
    "\n",
    "display(internet.info())\n",
    "display(internet.head(5))"
   ]
  },
  {
   "cell_type": "code",
   "execution_count": 11,
   "metadata": {
    "scrolled": false
   },
   "outputs": [
    {
     "name": "stdout",
     "output_type": "stream",
     "text": [
      "<class 'pandas.core.frame.DataFrame'>\n",
      "Int64Index: 129798 entries, 0 to 149395\n",
      "Data columns (total 3 columns):\n",
      " #   Column   Non-Null Count   Dtype  \n",
      "---  ------   --------------   -----  \n",
      " 0   mb_used  129798 non-null  float64\n",
      " 1   user_id  129798 non-null  int64  \n",
      " 2   month    129798 non-null  int64  \n",
      "dtypes: float64(1), int64(2)\n",
      "memory usage: 4.0 MB\n"
     ]
    },
    {
     "data": {
      "text/plain": [
       "None"
      ]
     },
     "metadata": {},
     "output_type": "display_data"
    }
   ],
   "source": [
    "internet['mb_used'].value_counts().sort_values()\n",
    "internet.drop(internet[internet['mb_used'] == 0].index, inplace=True)\n",
    "display(internet.info())"
   ]
  },
  {
   "cell_type": "markdown",
   "metadata": {},
   "source": [
    "# 4.5. Preprocessing the table with tariffs (data plans)\n",
    "<ol>\n",
    "<li>Let's rename 'tariff_name' into 'tariff' to match the users table</li>\n",
    "<li>Let's convert MB into GB</li>\n",
    "</ol>\n"
   ]
  },
  {
   "cell_type": "code",
   "execution_count": 12,
   "metadata": {},
   "outputs": [
    {
     "data": {
      "text/plain": [
       "'tariffs table:'"
      ]
     },
     "metadata": {},
     "output_type": "display_data"
    },
    {
     "name": "stdout",
     "output_type": "stream",
     "text": [
      "<class 'pandas.core.frame.DataFrame'>\n",
      "RangeIndex: 2 entries, 0 to 1\n",
      "Data columns (total 8 columns):\n",
      " #   Column                 Non-Null Count  Dtype \n",
      "---  ------                 --------------  ----- \n",
      " 0   messages_included      2 non-null      int64 \n",
      " 1   mb_per_month_included  2 non-null      int64 \n",
      " 2   minutes_included       2 non-null      int64 \n",
      " 3   rub_monthly_fee        2 non-null      int64 \n",
      " 4   rub_per_gb             2 non-null      int64 \n",
      " 5   rub_per_message        2 non-null      int64 \n",
      " 6   rub_per_minute         2 non-null      int64 \n",
      " 7   tariff_name            2 non-null      object\n",
      "dtypes: int64(7), object(1)\n",
      "memory usage: 256.0+ bytes\n"
     ]
    },
    {
     "data": {
      "text/plain": [
       "None"
      ]
     },
     "metadata": {},
     "output_type": "display_data"
    },
    {
     "name": "stdout",
     "output_type": "stream",
     "text": [
      "<class 'pandas.core.frame.DataFrame'>\n",
      "RangeIndex: 2 entries, 0 to 1\n",
      "Data columns (total 8 columns):\n",
      " #   Column             Non-Null Count  Dtype\n",
      "---  ------             --------------  -----\n",
      " 0   messages_included  2 non-null      int64\n",
      " 1   minutes_included   2 non-null      int64\n",
      " 2   rub_monthly_fee    2 non-null      int64\n",
      " 3   rub_per_gb         2 non-null      int64\n",
      " 4   rub_per_message    2 non-null      int64\n",
      " 5   rub_per_minute     2 non-null      int64\n",
      " 6   tariff             2 non-null      bool \n",
      " 7   gb_included        2 non-null      int32\n",
      "dtypes: bool(1), int32(1), int64(6)\n",
      "memory usage: 234.0 bytes\n"
     ]
    },
    {
     "data": {
      "text/plain": [
       "None"
      ]
     },
     "metadata": {},
     "output_type": "display_data"
    }
   ],
   "source": [
    "display('tariffs table:')\n",
    "display(tariffs.info())\n",
    "\n",
    "tariffs.loc[tariffs['tariff_name'] == 'ultra', 'tariff_name'] = 0 #ultra\n",
    "tariffs.loc[tariffs['tariff_name'] == 'smart', 'tariff_name'] = 1 #smart\n",
    "tariffs['tariff'] = tariffs['tariff_name'].astype('bool')\n",
    "del tariffs['tariff_name']\n",
    "\n",
    "tariffs['gb_included'] = tariffs['mb_per_month_included'] / 1024\n",
    "tariffs['gb_included'] = tariffs['gb_included'].astype('int')\n",
    "del tariffs['mb_per_month_included']\n",
    "\n",
    "display(tariffs.info())"
   ]
  },
  {
   "cell_type": "code",
   "execution_count": 13,
   "metadata": {},
   "outputs": [
    {
     "data": {
      "text/html": [
       "<div>\n",
       "<style scoped>\n",
       "    .dataframe tbody tr th:only-of-type {\n",
       "        vertical-align: middle;\n",
       "    }\n",
       "\n",
       "    .dataframe tbody tr th {\n",
       "        vertical-align: top;\n",
       "    }\n",
       "\n",
       "    .dataframe thead th {\n",
       "        text-align: right;\n",
       "    }\n",
       "</style>\n",
       "<table border=\"1\" class=\"dataframe\">\n",
       "  <thead>\n",
       "    <tr style=\"text-align: right;\">\n",
       "      <th></th>\n",
       "      <th>messages_included</th>\n",
       "      <th>minutes_included</th>\n",
       "      <th>rub_monthly_fee</th>\n",
       "      <th>rub_per_gb</th>\n",
       "      <th>rub_per_message</th>\n",
       "      <th>rub_per_minute</th>\n",
       "      <th>tariff</th>\n",
       "      <th>gb_included</th>\n",
       "    </tr>\n",
       "  </thead>\n",
       "  <tbody>\n",
       "    <tr>\n",
       "      <th>0</th>\n",
       "      <td>50</td>\n",
       "      <td>500</td>\n",
       "      <td>550</td>\n",
       "      <td>200</td>\n",
       "      <td>3</td>\n",
       "      <td>3</td>\n",
       "      <td>True</td>\n",
       "      <td>15</td>\n",
       "    </tr>\n",
       "    <tr>\n",
       "      <th>1</th>\n",
       "      <td>1000</td>\n",
       "      <td>3000</td>\n",
       "      <td>1950</td>\n",
       "      <td>150</td>\n",
       "      <td>1</td>\n",
       "      <td>1</td>\n",
       "      <td>False</td>\n",
       "      <td>30</td>\n",
       "    </tr>\n",
       "  </tbody>\n",
       "</table>\n",
       "</div>"
      ],
      "text/plain": [
       "   messages_included  minutes_included  rub_monthly_fee  rub_per_gb  \\\n",
       "0                 50               500              550         200   \n",
       "1               1000              3000             1950         150   \n",
       "\n",
       "   rub_per_message  rub_per_minute  tariff  gb_included  \n",
       "0                3               3    True           15  \n",
       "1                1               1   False           30  "
      ]
     },
     "execution_count": 13,
     "metadata": {},
     "output_type": "execute_result"
    }
   ],
   "source": [
    "tariffs"
   ]
  },
  {
   "cell_type": "code",
   "execution_count": 14,
   "metadata": {},
   "outputs": [
    {
     "name": "stdout",
     "output_type": "stream",
     "text": [
      "Memory in MB used before data preprosessing\n",
      "14.7\n"
     ]
    }
   ],
   "source": [
    "print('Memory in MB used before data preprosessing')\n",
    "a = round(6.2 + 2.8 + 5.7,2)\n",
    "print(a)"
   ]
  },
  {
   "cell_type": "code",
   "execution_count": 15,
   "metadata": {},
   "outputs": [
    {
     "name": "stdout",
     "output_type": "stream",
     "text": [
      "Memory in MB used after data preprosessing\n",
      "9.3\n"
     ]
    }
   ],
   "source": [
    "print('Memory in MB used after data preprosessing')\n",
    "b = round(4 + 1.9 + 3.4,2)\n",
    "print(b)"
   ]
  },
  {
   "cell_type": "code",
   "execution_count": 16,
   "metadata": {},
   "outputs": [
    {
     "name": "stdout",
     "output_type": "stream",
     "text": [
      "Memory saved: 37.00%\n"
     ]
    }
   ],
   "source": [
    "print('Memory saved: {:.2%}'.format(round(1-b/a,2)))"
   ]
  },
  {
   "cell_type": "markdown",
   "metadata": {},
   "source": [
    "Tables preprocessed, 37% of memory saved."
   ]
  },
  {
   "cell_type": "markdown",
   "metadata": {},
   "source": [
    "# 4.6. Preparing joined table for analysis\n",
    "\n",
    "**1. Let's calculate for each user:**<br>\n",
    "- the number of calls made, minutes spent, messages sent and GB used (rounded according to the company's rules) per month;\n",
    "- monthly revenue from each user in accordance to the tariff plan by subtracting free minutes, MB and messages from the total number of minutes, GB and messages and multiplying the remainder by the tariff plan prices and adding the monthly fee.\n",
    "\n",
    "**2. Let's delete the users who changed the tariff plan and the column with the date of the tariff change, since we will no longer need it**<br>\n",
    "\n",
    "**3. Negative values in the number of calls, messages and Internet traffic mean that the user has used less minutes, messages or Internet traffic. We will replace all negative values in the number of calls, messages and Internet traffic with 0 so that they won't affect the total cost of services**<br>\n",
    "\n",
    "**4. Let's delete the columns with tariff characteristics, we won't need them anymore**<br>"
   ]
  },
  {
   "cell_type": "code",
   "execution_count": 17,
   "metadata": {},
   "outputs": [
    {
     "data": {
      "text/html": [
       "<div>\n",
       "<style scoped>\n",
       "    .dataframe tbody tr th:only-of-type {\n",
       "        vertical-align: middle;\n",
       "    }\n",
       "\n",
       "    .dataframe tbody tr th {\n",
       "        vertical-align: top;\n",
       "    }\n",
       "\n",
       "    .dataframe thead th {\n",
       "        text-align: right;\n",
       "    }\n",
       "</style>\n",
       "<table border=\"1\" class=\"dataframe\">\n",
       "  <thead>\n",
       "    <tr style=\"text-align: right;\">\n",
       "      <th></th>\n",
       "      <th>calls_sum_min</th>\n",
       "      <th>calls_count</th>\n",
       "      <th>message_count</th>\n",
       "      <th>gb_sum</th>\n",
       "      <th>city</th>\n",
       "      <th>tariff</th>\n",
       "      <th>monthly_revenue</th>\n",
       "    </tr>\n",
       "  </thead>\n",
       "  <tbody>\n",
       "    <tr>\n",
       "      <th>0</th>\n",
       "      <td>159.0</td>\n",
       "      <td>22.0</td>\n",
       "      <td>22.0</td>\n",
       "      <td>3.0</td>\n",
       "      <td>False</td>\n",
       "      <td>False</td>\n",
       "      <td>1950.0</td>\n",
       "    </tr>\n",
       "    <tr>\n",
       "      <th>1</th>\n",
       "      <td>172.0</td>\n",
       "      <td>43.0</td>\n",
       "      <td>60.0</td>\n",
       "      <td>23.0</td>\n",
       "      <td>False</td>\n",
       "      <td>False</td>\n",
       "      <td>1950.0</td>\n",
       "    </tr>\n",
       "    <tr>\n",
       "      <th>2</th>\n",
       "      <td>340.0</td>\n",
       "      <td>47.0</td>\n",
       "      <td>75.0</td>\n",
       "      <td>14.0</td>\n",
       "      <td>False</td>\n",
       "      <td>False</td>\n",
       "      <td>1950.0</td>\n",
       "    </tr>\n",
       "    <tr>\n",
       "      <th>3</th>\n",
       "      <td>408.0</td>\n",
       "      <td>52.0</td>\n",
       "      <td>81.0</td>\n",
       "      <td>14.0</td>\n",
       "      <td>False</td>\n",
       "      <td>False</td>\n",
       "      <td>1950.0</td>\n",
       "    </tr>\n",
       "    <tr>\n",
       "      <th>4</th>\n",
       "      <td>466.0</td>\n",
       "      <td>58.0</td>\n",
       "      <td>57.0</td>\n",
       "      <td>15.0</td>\n",
       "      <td>False</td>\n",
       "      <td>False</td>\n",
       "      <td>1950.0</td>\n",
       "    </tr>\n",
       "    <tr>\n",
       "      <th>...</th>\n",
       "      <td>...</td>\n",
       "      <td>...</td>\n",
       "      <td>...</td>\n",
       "      <td>...</td>\n",
       "      <td>...</td>\n",
       "      <td>...</td>\n",
       "      <td>...</td>\n",
       "    </tr>\n",
       "    <tr>\n",
       "      <th>3022</th>\n",
       "      <td>0.0</td>\n",
       "      <td>0.0</td>\n",
       "      <td>17.0</td>\n",
       "      <td>11.0</td>\n",
       "      <td>False</td>\n",
       "      <td>True</td>\n",
       "      <td>550.0</td>\n",
       "    </tr>\n",
       "    <tr>\n",
       "      <th>3023</th>\n",
       "      <td>0.0</td>\n",
       "      <td>0.0</td>\n",
       "      <td>32.0</td>\n",
       "      <td>17.0</td>\n",
       "      <td>False</td>\n",
       "      <td>True</td>\n",
       "      <td>950.0</td>\n",
       "    </tr>\n",
       "    <tr>\n",
       "      <th>3024</th>\n",
       "      <td>0.0</td>\n",
       "      <td>0.0</td>\n",
       "      <td>21.0</td>\n",
       "      <td>20.0</td>\n",
       "      <td>False</td>\n",
       "      <td>True</td>\n",
       "      <td>1550.0</td>\n",
       "    </tr>\n",
       "    <tr>\n",
       "      <th>3025</th>\n",
       "      <td>0.0</td>\n",
       "      <td>0.0</td>\n",
       "      <td>20.0</td>\n",
       "      <td>18.0</td>\n",
       "      <td>False</td>\n",
       "      <td>True</td>\n",
       "      <td>1150.0</td>\n",
       "    </tr>\n",
       "    <tr>\n",
       "      <th>3026</th>\n",
       "      <td>0.0</td>\n",
       "      <td>0.0</td>\n",
       "      <td>35.0</td>\n",
       "      <td>17.0</td>\n",
       "      <td>False</td>\n",
       "      <td>True</td>\n",
       "      <td>950.0</td>\n",
       "    </tr>\n",
       "  </tbody>\n",
       "</table>\n",
       "<p>3027 rows × 7 columns</p>\n",
       "</div>"
      ],
      "text/plain": [
       "      calls_sum_min  calls_count  message_count  gb_sum   city  tariff  \\\n",
       "0             159.0         22.0           22.0     3.0  False   False   \n",
       "1             172.0         43.0           60.0    23.0  False   False   \n",
       "2             340.0         47.0           75.0    14.0  False   False   \n",
       "3             408.0         52.0           81.0    14.0  False   False   \n",
       "4             466.0         58.0           57.0    15.0  False   False   \n",
       "...             ...          ...            ...     ...    ...     ...   \n",
       "3022            0.0          0.0           17.0    11.0  False    True   \n",
       "3023            0.0          0.0           32.0    17.0  False    True   \n",
       "3024            0.0          0.0           21.0    20.0  False    True   \n",
       "3025            0.0          0.0           20.0    18.0  False    True   \n",
       "3026            0.0          0.0           35.0    17.0  False    True   \n",
       "\n",
       "      monthly_revenue  \n",
       "0              1950.0  \n",
       "1              1950.0  \n",
       "2              1950.0  \n",
       "3              1950.0  \n",
       "4              1950.0  \n",
       "...               ...  \n",
       "3022            550.0  \n",
       "3023            950.0  \n",
       "3024           1550.0  \n",
       "3025           1150.0  \n",
       "3026            950.0  \n",
       "\n",
       "[3027 rows x 7 columns]"
      ]
     },
     "metadata": {},
     "output_type": "display_data"
    }
   ],
   "source": [
    "calls_agg = calls.groupby(['user_id', 'month']).agg({'duration' : 'sum'})\n",
    "calls_agg_2 = calls.groupby(['user_id', 'month']).agg({'duration' : 'count'})\n",
    "calls_agg = calls_agg.merge(calls_agg_2, on=['user_id', 'month'], how='right')\n",
    "calls_agg.columns = ['calls_sum_min', 'calls_count']\n",
    "\n",
    "messages_agg = messages.groupby(['user_id', 'month']).agg({'month' : 'count'})\n",
    "messages_agg.columns = ['message_count']\n",
    "\n",
    "internet_agg = internet.groupby(['user_id', 'month']).agg({'mb_used' : 'sum'})\n",
    "internet_agg.columns = ['mb_sum']\n",
    "internet_agg['mb_sum'] = internet_agg['mb_sum'] / 1024\n",
    "internet_agg['mb_sum'] = internet_agg['mb_sum'].apply(math.ceil)\n",
    "internet_agg['mb_sum'] = internet_agg['mb_sum'].astype(int)\n",
    "internet_agg.columns = ['gb_sum']\n",
    "\n",
    "data = calls_agg.merge(messages_agg, on=['user_id', 'month'], how='outer')\n",
    "data = data.merge(internet_agg, on=['user_id', 'month'], how='outer')\n",
    "data = data.merge(users, on=['user_id'], how='outer')\n",
    "data = data.merge(tariffs, on=['tariff'], how='outer')\n",
    "data.fillna(0, inplace=True)\n",
    "\n",
    "data['churn_date'].fillna(0, inplace=True)\n",
    "data.drop(data[data['churn_date'] != 0].index, inplace=True)\n",
    "data = data.reset_index(drop=True) \n",
    "del data['churn_date']\n",
    "\n",
    "data['gb_sum_for_calculation'] = data['gb_sum'] - data['gb_included']\n",
    "data.loc[data['gb_sum_for_calculation'] < 0, 'gb_sum_for_calculation'] = 0\n",
    "\n",
    "data['calls_min_for_calculation'] = data['calls_sum_min'] - data['minutes_included']\n",
    "data.loc[data['calls_min_for_calculation'] < 0, 'calls_min_for_calculation'] = 0\n",
    "\n",
    "data['message_count_for_calculation'] = data['message_count'] - data['messages_included']\n",
    "data.loc[data['message_count_for_calculation'] < 0, 'message_count_for_calculation'] = 0\n",
    "\n",
    "data['monthly_revenue'] = data['rub_monthly_fee']+data['rub_per_gb']*data['gb_sum_for_calculation']+data['calls_min_for_calculation']*data['rub_per_minute']+data['message_count_for_calculation']*data['rub_per_message']\n",
    "\n",
    "del data['gb_included']\n",
    "del data['minutes_included']\n",
    "del data['messages_included']\n",
    "\n",
    "del data['rub_monthly_fee']\n",
    "del data['rub_per_gb']\n",
    "del data['rub_per_message']\n",
    "del data['rub_per_minute']\n",
    "del data['user_id']\n",
    "\n",
    "del data['gb_sum_for_calculation']\n",
    "del data['message_count_for_calculation']\n",
    "del data['calls_min_for_calculation']\n",
    "\n",
    "display(data)"
   ]
  },
  {
   "cell_type": "markdown",
   "metadata": {},
   "source": [
    "# 5. Data Analysis\n",
    "\n",
    "How many minutes, messages and GB do users of each tariff need per month? Let's plot histograms and describe distributions."
   ]
  },
  {
   "cell_type": "markdown",
   "metadata": {},
   "source": [
    "# 5.1. Ultra Data Plan\n",
    "\n",
    "<ul>\n",
    "<li>Monthly fee: 1950 rubles</li>\n",
    "<li>3000 minutes of calls, 1000 messages and 30 GB of data included</li>\n",
    "<li>The cost of services beyond the package:<br>\n",
    "     1 minute of conversation: 1 ruble; <br>\n",
    "     1 message: 1 ruble; <br>\n",
    "     1 GB of Internet traffic: 150 rubles.\n",
    "</li>\n",
    "</ul>"
   ]
  },
  {
   "cell_type": "code",
   "execution_count": 18,
   "metadata": {},
   "outputs": [
    {
     "data": {
      "text/html": [
       "<div>\n",
       "<style scoped>\n",
       "    .dataframe tbody tr th:only-of-type {\n",
       "        vertical-align: middle;\n",
       "    }\n",
       "\n",
       "    .dataframe tbody tr th {\n",
       "        vertical-align: top;\n",
       "    }\n",
       "\n",
       "    .dataframe thead th {\n",
       "        text-align: right;\n",
       "    }\n",
       "</style>\n",
       "<table border=\"1\" class=\"dataframe\">\n",
       "  <thead>\n",
       "    <tr style=\"text-align: right;\">\n",
       "      <th></th>\n",
       "      <th>calls_sum_min</th>\n",
       "      <th>calls_count</th>\n",
       "      <th>message_count</th>\n",
       "      <th>gb_sum</th>\n",
       "      <th>monthly_revenue</th>\n",
       "    </tr>\n",
       "  </thead>\n",
       "  <tbody>\n",
       "    <tr>\n",
       "      <th>count</th>\n",
       "      <td>909.000000</td>\n",
       "      <td>909.000000</td>\n",
       "      <td>909.000000</td>\n",
       "      <td>909.000000</td>\n",
       "      <td>909.000000</td>\n",
       "    </tr>\n",
       "    <tr>\n",
       "      <th>mean</th>\n",
       "      <td>531.930693</td>\n",
       "      <td>74.224422</td>\n",
       "      <td>51.218922</td>\n",
       "      <td>19.610561</td>\n",
       "      <td>2066.996700</td>\n",
       "    </tr>\n",
       "    <tr>\n",
       "      <th>std</th>\n",
       "      <td>320.472257</td>\n",
       "      <td>44.345016</td>\n",
       "      <td>48.344162</td>\n",
       "      <td>9.748723</td>\n",
       "      <td>368.904052</td>\n",
       "    </tr>\n",
       "    <tr>\n",
       "      <th>min</th>\n",
       "      <td>0.000000</td>\n",
       "      <td>0.000000</td>\n",
       "      <td>0.000000</td>\n",
       "      <td>0.000000</td>\n",
       "      <td>1950.000000</td>\n",
       "    </tr>\n",
       "    <tr>\n",
       "      <th>25%</th>\n",
       "      <td>286.000000</td>\n",
       "      <td>41.000000</td>\n",
       "      <td>9.000000</td>\n",
       "      <td>12.000000</td>\n",
       "      <td>1950.000000</td>\n",
       "    </tr>\n",
       "    <tr>\n",
       "      <th>50%</th>\n",
       "      <td>523.000000</td>\n",
       "      <td>75.000000</td>\n",
       "      <td>40.000000</td>\n",
       "      <td>19.000000</td>\n",
       "      <td>1950.000000</td>\n",
       "    </tr>\n",
       "    <tr>\n",
       "      <th>75%</th>\n",
       "      <td>753.000000</td>\n",
       "      <td>104.000000</td>\n",
       "      <td>80.000000</td>\n",
       "      <td>27.000000</td>\n",
       "      <td>1950.000000</td>\n",
       "    </tr>\n",
       "    <tr>\n",
       "      <th>max</th>\n",
       "      <td>1673.000000</td>\n",
       "      <td>244.000000</td>\n",
       "      <td>224.000000</td>\n",
       "      <td>49.000000</td>\n",
       "      <td>4800.000000</td>\n",
       "    </tr>\n",
       "  </tbody>\n",
       "</table>\n",
       "</div>"
      ],
      "text/plain": [
       "       calls_sum_min  calls_count  message_count      gb_sum  monthly_revenue\n",
       "count     909.000000   909.000000     909.000000  909.000000       909.000000\n",
       "mean      531.930693    74.224422      51.218922   19.610561      2066.996700\n",
       "std       320.472257    44.345016      48.344162    9.748723       368.904052\n",
       "min         0.000000     0.000000       0.000000    0.000000      1950.000000\n",
       "25%       286.000000    41.000000       9.000000   12.000000      1950.000000\n",
       "50%       523.000000    75.000000      40.000000   19.000000      1950.000000\n",
       "75%       753.000000   104.000000      80.000000   27.000000      1950.000000\n",
       "max      1673.000000   244.000000     224.000000   49.000000      4800.000000"
      ]
     },
     "execution_count": 18,
     "metadata": {},
     "output_type": "execute_result"
    }
   ],
   "source": [
    "ultra = data[data['tariff']==0]\n",
    "ultra.describe()"
   ]
  },
  {
   "cell_type": "code",
   "execution_count": 19,
   "metadata": {
    "scrolled": false
   },
   "outputs": [
    {
     "name": "stdout",
     "output_type": "stream",
     "text": [
      "Users that exceded the number of included minutes, GB and messages: \n"
     ]
    },
    {
     "data": {
      "text/plain": [
       "calls_sum_min      124\n",
       "calls_count        124\n",
       "message_count      124\n",
       "gb_sum             124\n",
       "city               124\n",
       "tariff             124\n",
       "monthly_revenue    124\n",
       "dtype: int64"
      ]
     },
     "execution_count": 19,
     "metadata": {},
     "output_type": "execute_result"
    }
   ],
   "source": [
    "print(\"Users that exceded the number of included minutes, GB and messages: \")\n",
    "ultra[ultra['monthly_revenue']>1950].count()"
   ]
  },
  {
   "cell_type": "code",
   "execution_count": 20,
   "metadata": {
    "scrolled": false
   },
   "outputs": [
    {
     "name": "stdout",
     "output_type": "stream",
     "text": [
      "monthly_revenue - mean: 2067.00\n",
      "monthly_revenue - variance: 136090.20\n",
      "monthly_revenue - standard deviation: 368.90\n",
      "monthly_revenue - max: 4800.00\n",
      "\n",
      "calls_sum_minutes - mean: 531.93\n",
      "calls_sum_minutes - variance: 102702.47\n",
      "calls_sum_minutes - standard deviation: 320.47\n",
      "calls_sum_minutes - max: 1673.00\n",
      "\n",
      "message_count - mean: 51.22\n",
      "message_count - variance: 2337.16\n",
      "message_count - standard deviation: 48.34\n",
      "message_count - max: 224.00\n",
      "\n",
      "gb_sum - mean: 19.61\n",
      "gb_sum - variance: 95.04\n",
      "gb_sum - standard deviation: 9.75\n",
      "gb_sum - max: 49.00\n"
     ]
    }
   ],
   "source": [
    "mean = ultra['monthly_revenue'].mean()\n",
    "print('monthly_revenue - mean: {:.2f}'.format(mean))\n",
    "variance_estimate =  np.var(ultra['monthly_revenue'], ddof=1)\n",
    "print('monthly_revenue - variance: {:.2f}'.format(variance_estimate))\n",
    "standard_dev = np.std(ultra['monthly_revenue'], ddof=1)\n",
    "print('monthly_revenue - standard deviation: {:.2f}'.format(standard_dev))\n",
    "max = ultra['monthly_revenue'].max()\n",
    "print('monthly_revenue - max: {:.2f}'.format(max))\n",
    "print()\n",
    "\n",
    "mean = ultra['calls_sum_min'].mean()\n",
    "print('calls_sum_minutes - mean: {:.2f}'.format(mean))\n",
    "variance_estimate =  np.var(ultra['calls_sum_min'], ddof=1)\n",
    "print('calls_sum_minutes - variance: {:.2f}'.format(variance_estimate))\n",
    "standard_dev = np.std(ultra['calls_sum_min'], ddof=1)\n",
    "print('calls_sum_minutes - standard deviation: {:.2f}'.format(standard_dev))\n",
    "max = ultra['calls_sum_min'].max()\n",
    "print('calls_sum_minutes - max: {:.2f}'.format(max))\n",
    "print()\n",
    "\n",
    "mean = ultra['message_count'].mean()\n",
    "print('message_count - mean: {:.2f}'.format(mean))\n",
    "variance_estimate =  np.var(ultra['message_count'], ddof=1)\n",
    "print('message_count - variance: {:.2f}'.format(variance_estimate))\n",
    "standard_dev = np.std(ultra['message_count'], ddof=1)\n",
    "print('message_count - standard deviation: {:.2f}'.format(standard_dev))\n",
    "max = ultra['message_count'].max()\n",
    "print('message_count - max: {:.2f}'.format(max))\n",
    "print()\n",
    "\n",
    "mean = ultra['gb_sum'].mean()\n",
    "print('gb_sum - mean: {:.2f}'.format(mean))\n",
    "variance_estimate =  np.var(ultra['gb_sum'], ddof=1)\n",
    "print('gb_sum - variance: {:.2f}'.format(variance_estimate))\n",
    "standard_dev = np.std(ultra['gb_sum'], ddof=1)\n",
    "print('gb_sum - standard deviation: {:.2f}'.format(standard_dev))\n",
    "max = ultra['gb_sum'].max()\n",
    "print('gb_sum - max: {:.2f}'.format(max))"
   ]
  },
  {
   "cell_type": "code",
   "execution_count": 21,
   "metadata": {},
   "outputs": [
    {
     "data": {
      "text/plain": [
       "array([[<AxesSubplot:title={'center':'monthly_revenue'}>]], dtype=object)"
      ]
     },
     "execution_count": 21,
     "metadata": {},
     "output_type": "execute_result"
    },
    {
     "data": {
      "image/png": "[encoded data removed]",
      "text/plain": [
       "<Figure size 432x288 with 1 Axes>"
      ]
     },
     "metadata": {
      "needs_background": "light"
     },
     "output_type": "display_data"
    },
    {
     "data": {
      "image/png": "[encoded data removed]",
      "text/plain": [
       "<Figure size 432x288 with 1 Axes>"
      ]
     },
     "metadata": {
      "needs_background": "light"
     },
     "output_type": "display_data"
    },
    {
     "data": {
      "image/png": "[encoded data removed]",
      "text/plain": [
       "<Figure size 432x288 with 1 Axes>"
      ]
     },
     "metadata": {
      "needs_background": "light"
     },
     "output_type": "display_data"
    },
    {
     "data": {
      "image/png": "[encoded data removed]",
      "text/plain": [
       "<Figure size 432x288 with 1 Axes>"
      ]
     },
     "metadata": {
      "needs_background": "light"
     },
     "output_type": "display_data"
    }
   ],
   "source": [
    "ultra.hist('gb_sum', bins=100, range=(0, 49))\n",
    "ultra.hist('calls_sum_min', bins=100, range=(0, 1673))\n",
    "ultra.hist('message_count', bins=100, range=(0, 224))\n",
    "ultra.hist('monthly_revenue', bins=100, range=(1950, 4800))"
   ]
  },
  {
   "cell_type": "markdown",
   "metadata": {},
   "source": [
    "*Ultra Data Plan Summary:*\n",
    "<ol>\n",
    "<li>In 86% of cases (785 out of 909) users do not go beyond the Ultra package, bringing Megaline 1950 rubles per month.</li>\n",
    "<li>During the entire observation period, none of the clients of this tariff went beyond 224 messages and/or 1673 call minutes.</li>\n",
    "<li>In about 170 cases Ultra tariff users did not send a single message for a whole month, in 10 cases they did not use the Internet, and in about 48 cases they did not spend call minutes at all. Megaline can consider introducing additional data plans for these types of users.</li>\n",
    "<li>In average Ultra users spend 532 minutes with a variance of 320 minutes, send 51 messages with a variance of 48 messages, spend 20 GB of Internet with a variance of 10 GB and spend 2067 rubles with a variance of 369 rubles per month.</li>\n",
    "<li>The distribution by number of minutes and the distribution by total cost of services are similar to normal distribution.</li>\n",
    "</ol>"
   ]
  },
  {
   "cell_type": "markdown",
   "metadata": {},
   "source": [
    "# 5.2. Smart Data Plan\n",
    "<ul>\n",
    "<li>Monthly fee: 550 rubles</li>\n",
    "<li>500 minutes of calls, 50 messages and 15 GB of data included</li>\n",
    "<li>The cost of services beyond the package: <br>\n",
    "     1 minute of conversation: 3 rubles; <br>\n",
    "     1 message: 3 rubles; <br>\n",
    "     1 GB of Internet traffic: 200 rubles.<br>\n",
    "</li>\n",
    "</ul>\n"
   ]
  },
  {
   "cell_type": "code",
   "execution_count": 22,
   "metadata": {},
   "outputs": [
    {
     "data": {
      "text/html": [
       "<div>\n",
       "<style scoped>\n",
       "    .dataframe tbody tr th:only-of-type {\n",
       "        vertical-align: middle;\n",
       "    }\n",
       "\n",
       "    .dataframe tbody tr th {\n",
       "        vertical-align: top;\n",
       "    }\n",
       "\n",
       "    .dataframe thead th {\n",
       "        text-align: right;\n",
       "    }\n",
       "</style>\n",
       "<table border=\"1\" class=\"dataframe\">\n",
       "  <thead>\n",
       "    <tr style=\"text-align: right;\">\n",
       "      <th></th>\n",
       "      <th>calls_sum_min</th>\n",
       "      <th>calls_count</th>\n",
       "      <th>message_count</th>\n",
       "      <th>gb_sum</th>\n",
       "      <th>monthly_revenue</th>\n",
       "    </tr>\n",
       "  </thead>\n",
       "  <tbody>\n",
       "    <tr>\n",
       "      <th>count</th>\n",
       "      <td>3027.000000</td>\n",
       "      <td>3027.000000</td>\n",
       "      <td>3027.000000</td>\n",
       "      <td>3027.00000</td>\n",
       "      <td>3027.000000</td>\n",
       "    </tr>\n",
       "    <tr>\n",
       "      <th>mean</th>\n",
       "      <td>455.553353</td>\n",
       "      <td>63.656426</td>\n",
       "      <td>38.882392</td>\n",
       "      <td>17.35745</td>\n",
       "      <td>1529.969937</td>\n",
       "    </tr>\n",
       "    <tr>\n",
       "      <th>std</th>\n",
       "      <td>242.690614</td>\n",
       "      <td>33.357894</td>\n",
       "      <td>36.503511</td>\n",
       "      <td>7.31713</td>\n",
       "      <td>798.322912</td>\n",
       "    </tr>\n",
       "    <tr>\n",
       "      <th>min</th>\n",
       "      <td>0.000000</td>\n",
       "      <td>0.000000</td>\n",
       "      <td>0.000000</td>\n",
       "      <td>0.00000</td>\n",
       "      <td>550.000000</td>\n",
       "    </tr>\n",
       "    <tr>\n",
       "      <th>25%</th>\n",
       "      <td>287.000000</td>\n",
       "      <td>41.000000</td>\n",
       "      <td>10.000000</td>\n",
       "      <td>13.00000</td>\n",
       "      <td>750.000000</td>\n",
       "    </tr>\n",
       "    <tr>\n",
       "      <th>50%</th>\n",
       "      <td>449.000000</td>\n",
       "      <td>63.000000</td>\n",
       "      <td>30.000000</td>\n",
       "      <td>17.00000</td>\n",
       "      <td>1631.000000</td>\n",
       "    </tr>\n",
       "    <tr>\n",
       "      <th>75%</th>\n",
       "      <td>597.000000</td>\n",
       "      <td>83.000000</td>\n",
       "      <td>58.000000</td>\n",
       "      <td>21.00000</td>\n",
       "      <td>1950.000000</td>\n",
       "    </tr>\n",
       "    <tr>\n",
       "      <th>max</th>\n",
       "      <td>1673.000000</td>\n",
       "      <td>244.000000</td>\n",
       "      <td>224.000000</td>\n",
       "      <td>49.00000</td>\n",
       "      <td>6770.000000</td>\n",
       "    </tr>\n",
       "  </tbody>\n",
       "</table>\n",
       "</div>"
      ],
      "text/plain": [
       "       calls_sum_min  calls_count  message_count      gb_sum  monthly_revenue\n",
       "count    3027.000000  3027.000000    3027.000000  3027.00000      3027.000000\n",
       "mean      455.553353    63.656426      38.882392    17.35745      1529.969937\n",
       "std       242.690614    33.357894      36.503511     7.31713       798.322912\n",
       "min         0.000000     0.000000       0.000000     0.00000       550.000000\n",
       "25%       287.000000    41.000000      10.000000    13.00000       750.000000\n",
       "50%       449.000000    63.000000      30.000000    17.00000      1631.000000\n",
       "75%       597.000000    83.000000      58.000000    21.00000      1950.000000\n",
       "max      1673.000000   244.000000     224.000000    49.00000      6770.000000"
      ]
     },
     "execution_count": 22,
     "metadata": {},
     "output_type": "execute_result"
    }
   ],
   "source": [
    "data.describe()"
   ]
  },
  {
   "cell_type": "code",
   "execution_count": 23,
   "metadata": {},
   "outputs": [
    {
     "data": {
      "text/html": [
       "<div>\n",
       "<style scoped>\n",
       "    .dataframe tbody tr th:only-of-type {\n",
       "        vertical-align: middle;\n",
       "    }\n",
       "\n",
       "    .dataframe tbody tr th {\n",
       "        vertical-align: top;\n",
       "    }\n",
       "\n",
       "    .dataframe thead th {\n",
       "        text-align: right;\n",
       "    }\n",
       "</style>\n",
       "<table border=\"1\" class=\"dataframe\">\n",
       "  <thead>\n",
       "    <tr style=\"text-align: right;\">\n",
       "      <th></th>\n",
       "      <th>calls_sum_min</th>\n",
       "      <th>calls_count</th>\n",
       "      <th>message_count</th>\n",
       "      <th>gb_sum</th>\n",
       "      <th>monthly_revenue</th>\n",
       "    </tr>\n",
       "  </thead>\n",
       "  <tbody>\n",
       "    <tr>\n",
       "      <th>count</th>\n",
       "      <td>2118.000000</td>\n",
       "      <td>2118.000000</td>\n",
       "      <td>2118.000000</td>\n",
       "      <td>2118.000000</td>\n",
       "      <td>2118.000000</td>\n",
       "    </tr>\n",
       "    <tr>\n",
       "      <th>mean</th>\n",
       "      <td>422.773843</td>\n",
       "      <td>59.120869</td>\n",
       "      <td>33.587819</td>\n",
       "      <td>16.390463</td>\n",
       "      <td>1299.489613</td>\n",
       "    </tr>\n",
       "    <tr>\n",
       "      <th>std</th>\n",
       "      <td>191.203948</td>\n",
       "      <td>26.049307</td>\n",
       "      <td>28.440087</td>\n",
       "      <td>5.714185</td>\n",
       "      <td>821.963102</td>\n",
       "    </tr>\n",
       "    <tr>\n",
       "      <th>min</th>\n",
       "      <td>0.000000</td>\n",
       "      <td>0.000000</td>\n",
       "      <td>0.000000</td>\n",
       "      <td>0.000000</td>\n",
       "      <td>550.000000</td>\n",
       "    </tr>\n",
       "    <tr>\n",
       "      <th>25%</th>\n",
       "      <td>287.250000</td>\n",
       "      <td>40.000000</td>\n",
       "      <td>10.000000</td>\n",
       "      <td>13.000000</td>\n",
       "      <td>568.000000</td>\n",
       "    </tr>\n",
       "    <tr>\n",
       "      <th>50%</th>\n",
       "      <td>430.000000</td>\n",
       "      <td>61.000000</td>\n",
       "      <td>28.000000</td>\n",
       "      <td>17.000000</td>\n",
       "      <td>1046.500000</td>\n",
       "    </tr>\n",
       "    <tr>\n",
       "      <th>75%</th>\n",
       "      <td>550.000000</td>\n",
       "      <td>77.000000</td>\n",
       "      <td>51.000000</td>\n",
       "      <td>20.000000</td>\n",
       "      <td>1750.000000</td>\n",
       "    </tr>\n",
       "    <tr>\n",
       "      <th>max</th>\n",
       "      <td>1435.000000</td>\n",
       "      <td>198.000000</td>\n",
       "      <td>143.000000</td>\n",
       "      <td>38.000000</td>\n",
       "      <td>6770.000000</td>\n",
       "    </tr>\n",
       "  </tbody>\n",
       "</table>\n",
       "</div>"
      ],
      "text/plain": [
       "       calls_sum_min  calls_count  message_count       gb_sum  monthly_revenue\n",
       "count    2118.000000  2118.000000    2118.000000  2118.000000      2118.000000\n",
       "mean      422.773843    59.120869      33.587819    16.390463      1299.489613\n",
       "std       191.203948    26.049307      28.440087     5.714185       821.963102\n",
       "min         0.000000     0.000000       0.000000     0.000000       550.000000\n",
       "25%       287.250000    40.000000      10.000000    13.000000       568.000000\n",
       "50%       430.000000    61.000000      28.000000    17.000000      1046.500000\n",
       "75%       550.000000    77.000000      51.000000    20.000000      1750.000000\n",
       "max      1435.000000   198.000000     143.000000    38.000000      6770.000000"
      ]
     },
     "execution_count": 23,
     "metadata": {},
     "output_type": "execute_result"
    }
   ],
   "source": [
    "smart = data[data['tariff']==1]\n",
    "smart.describe()"
   ]
  },
  {
   "cell_type": "code",
   "execution_count": 24,
   "metadata": {
    "scrolled": false
   },
   "outputs": [
    {
     "name": "stdout",
     "output_type": "stream",
     "text": [
      "Users that exceded the number of included minutes, GB and messages: \n"
     ]
    },
    {
     "data": {
      "text/plain": [
       "calls_sum_min      1604\n",
       "calls_count        1604\n",
       "message_count      1604\n",
       "gb_sum             1604\n",
       "city               1604\n",
       "tariff             1604\n",
       "monthly_revenue    1604\n",
       "dtype: int64"
      ]
     },
     "execution_count": 24,
     "metadata": {},
     "output_type": "execute_result"
    }
   ],
   "source": [
    "print(\"Users that exceded the number of included minutes, GB and messages: \")\n",
    "smart[smart['monthly_revenue']>550].count()"
   ]
  },
  {
   "cell_type": "code",
   "execution_count": 25,
   "metadata": {
    "scrolled": false
   },
   "outputs": [
    {
     "name": "stdout",
     "output_type": "stream",
     "text": [
      "monthly_revenue - mean: 1299.49\n",
      "monthly_revenue - variance: 675623.34\n",
      "monthly_revenue - standard deviation: 821.96\n",
      "monthly_revenue - max: 6770.00\n",
      "\n",
      "calls_sum_minutes - mean: 422.77\n",
      "calls_sum_minutes - variance: 36558.95\n",
      "calls_sum_minutes - standard deviation: 191.20\n",
      "calls_sum_minutes - max: 1435.00\n",
      "\n",
      "message_count - mean: 33.59\n",
      "message_count - variance: 808.84\n",
      "message_count - standard deviation: 28.44\n",
      "message_count - max: 143.00\n",
      "\n",
      "gb_sum - mean: 16.39\n",
      "gb_sum - variance: 32.65\n",
      "gb_sum - standard deviation: 5.71\n",
      "gb_sum - max: 38.00\n"
     ]
    }
   ],
   "source": [
    "mean = smart['monthly_revenue'].mean()\n",
    "print('monthly_revenue - mean: {:.2f}'.format(mean))\n",
    "variance_estimate =  np.var(smart['monthly_revenue'], ddof=1)\n",
    "print('monthly_revenue - variance: {:.2f}'.format(variance_estimate))\n",
    "standard_dev = np.std(smart['monthly_revenue'], ddof=1)\n",
    "print('monthly_revenue - standard deviation: {:.2f}'.format(standard_dev))\n",
    "max = smart['monthly_revenue'].max()\n",
    "print('monthly_revenue - max: {:.2f}'.format(max))\n",
    "print()\n",
    "\n",
    "mean = smart['calls_sum_min'].mean()\n",
    "print('calls_sum_minutes - mean: {:.2f}'.format(mean))\n",
    "variance_estimate =  np.var(smart['calls_sum_min'], ddof=1)\n",
    "print('calls_sum_minutes - variance: {:.2f}'.format(variance_estimate))\n",
    "standard_dev = np.std(smart['calls_sum_min'], ddof=1)\n",
    "print('calls_sum_minutes - standard deviation: {:.2f}'.format(standard_dev))\n",
    "max = smart['calls_sum_min'].max()\n",
    "print('calls_sum_minutes - max: {:.2f}'.format(max))\n",
    "print()\n",
    "\n",
    "mean = smart['message_count'].mean()\n",
    "print('message_count - mean: {:.2f}'.format(mean))\n",
    "variance_estimate =  np.var(smart['message_count'], ddof=1)\n",
    "print('message_count - variance: {:.2f}'.format(variance_estimate))\n",
    "standard_dev = np.std(smart['message_count'], ddof=1)\n",
    "print('message_count - standard deviation: {:.2f}'.format(standard_dev))\n",
    "max = smart['message_count'].max()\n",
    "print('message_count - max: {:.2f}'.format(max))\n",
    "print()\n",
    "\n",
    "mean = smart['gb_sum'].mean()\n",
    "print('gb_sum - mean: {:.2f}'.format(mean))\n",
    "variance_estimate =  np.var(smart['gb_sum'], ddof=1)\n",
    "print('gb_sum - variance: {:.2f}'.format(variance_estimate))\n",
    "standard_dev = np.std(smart['gb_sum'], ddof=1)\n",
    "print('gb_sum - standard deviation: {:.2f}'.format(standard_dev))\n",
    "max = smart['gb_sum'].max()\n",
    "print('gb_sum - max: {:.2f}'.format(max))"
   ]
  },
  {
   "cell_type": "code",
   "execution_count": 26,
   "metadata": {},
   "outputs": [
    {
     "data": {
      "text/plain": [
       "array([[<AxesSubplot:title={'center':'monthly_revenue'}>]], dtype=object)"
      ]
     },
     "execution_count": 26,
     "metadata": {},
     "output_type": "execute_result"
    },
    {
     "data": {
      "image/png": "[encoded data removed]",
      "text/plain": [
       "<Figure size 432x288 with 1 Axes>"
      ]
     },
     "metadata": {
      "needs_background": "light"
     },
     "output_type": "display_data"
    },
    {
     "data": {
      "image/png": "[encoded data removed]",
      "text/plain": [
       "<Figure size 432x288 with 1 Axes>"
      ]
     },
     "metadata": {
      "needs_background": "light"
     },
     "output_type": "display_data"
    },
    {
     "data": {
      "image/png": "[encoded data removed]",
      "text/plain": [
       "<Figure size 432x288 with 1 Axes>"
      ]
     },
     "metadata": {
      "needs_background": "light"
     },
     "output_type": "display_data"
    },
    {
     "data": {
      "image/png": "[encoded data removed]",
      "text/plain": [
       "<Figure size 432x288 with 1 Axes>"
      ]
     },
     "metadata": {
      "needs_background": "light"
     },
     "output_type": "display_data"
    }
   ],
   "source": [
    "smart.hist('gb_sum', bins=100, range=(0, 38))\n",
    "smart.hist('calls_sum_min', bins=100, range=(0, 1435))\n",
    "smart.hist('message_count', bins=100, range=(0, 143))\n",
    "smart.hist('monthly_revenue', bins=100, range=(550, 6770))"
   ]
  },
  {
   "cell_type": "markdown",
   "metadata": {},
   "source": [
    "*Smart Data Plan Summary:*\n",
    "<ol>\n",
    "<li>In 76% of cases (1604 out of 2118) users exceed the limits of included minutes, messages and GB of Internet.</li>\n",
    "<li>On average, Smart plan customers spend 423 minutes with a variance of 191 minutes, send 34 messages with a variance of 28 messages, spend 17 GB of Internet with a variance of 6 GB, and spend 1299 rubles with a variance of 822 rubles.</li>\n",
    "<li>In about 28 cases, Smart tariff users did not send a single message for a whole month, in about 10 cases they did not use the Internet, and in about 12 cases they did not spend a minute of conversation at all. Megaline can consider introducing additional data plans for these types of users.</li>\n",
    "<li>Distribution by number of minutes and distribution by number of GB are similar to normal distribution.</li>\n",
    "<li>The distribution by total cost of services and by number of messages is similar to Pearson distribution.</li>\n",
    "</ol>"
   ]
  },
  {
   "cell_type": "markdown",
   "metadata": {},
   "source": [
    "# 6. Hypotheses Testing"
   ]
  },
  {
   "cell_type": "markdown",
   "metadata": {},
   "source": [
    "# 6.1. Hypothesis 1\n",
    "\n",
    "*Null Hypothesis:* The average revenue per user of Ultra and Smart Data Plans are equal<br>\n",
    "*Alternative Hypothesis:* The average revenue per user of Ultra and Smart tariffs are different\n",
    "    \n",
    "The threshold value - alpha is 0.01 (99% accuracy)"
   ]
  },
  {
   "cell_type": "code",
   "execution_count": 27,
   "metadata": {
    "scrolled": false
   },
   "outputs": [
    {
     "name": "stdout",
     "output_type": "stream",
     "text": [
      "p-value: 4.21341783798234e-144\n",
      "Rejecting the null hypothesis\n"
     ]
    }
   ],
   "source": [
    "alpha = 0.01\n",
    "\n",
    "results = st.ttest_ind(ultra['monthly_revenue'], smart['monthly_revenue'])\n",
    "\n",
    "print('p-value:', results.pvalue)\n",
    "\n",
    "if results.pvalue < alpha:\n",
    "    print('Rejecting the null hypothesis')\n",
    "else:\n",
    "    print('Failed to reject null hypothesis') "
   ]
  },
  {
   "cell_type": "markdown",
   "metadata": {},
   "source": [
    "In 99% of cases the average revenue per user of Ultra and Smart Data Plans are different."
   ]
  },
  {
   "cell_type": "markdown",
   "metadata": {},
   "source": [
    "# 6.2. Hypothesis 2\n",
    "\n",
    "*Null Hypothesis:* The average revenue per user from Moscow does not differ from the revenue per user from other regions.<br>\n",
    "*Alternative Hypothesis:* The average revenue per user from Moscow differs from the revenue per user from other regions.\n",
    "    \n",
    "The threshold value - alpha is 0.01 (99% accuracy)"
   ]
  },
  {
   "cell_type": "code",
   "execution_count": 28,
   "metadata": {
    "scrolled": false
   },
   "outputs": [
    {
     "name": "stdout",
     "output_type": "stream",
     "text": [
      "p-value: 0.6177577589717255\n",
      "Failed to reject null hypothesis\n"
     ]
    }
   ],
   "source": [
    "moscow = data[data['city']==1]\n",
    "not_moscow = data[data['city']==0]\n",
    "  \n",
    "alpha = 0.01\n",
    "\n",
    "results = st.ttest_ind(moscow['monthly_revenue'], not_moscow['monthly_revenue'])\n",
    "\n",
    "print('p-value:', results.pvalue)\n",
    "\n",
    "if results.pvalue < alpha:\n",
    "    print('Rejecting the null hypothesis')\n",
    "else:\n",
    "    print('Failed to reject null hypothesis') "
   ]
  },
  {
   "cell_type": "markdown",
   "metadata": {},
   "source": [
    "In 99% of cases the average revenue per user from Moscow is not different from the revenue per user from other regions."
   ]
  },
  {
   "cell_type": "markdown",
   "metadata": {},
   "source": [
    "# 7. Conclusion and Recommendations"
   ]
  },
  {
   "cell_type": "markdown",
   "metadata": {},
   "source": [
    "*Ultra Data Plan Summary:*\n",
    "\n",
    "In 86% of cases (785 out of 909) users do not go beyond the Ultra package, bringing Megaline 1950 rubles per month.\n",
    "During the entire observation period, none of the clients of this tariff went beyond 224 messages and/or 1673 call minutes.\n",
    "In about 170 cases Ultra tariff users did not send a single message for a whole month, in 10 cases they did not use the Internet, and in about 48 cases they did not spend call minutes at all. Megaline can consider introducing additional data plans for these types of users.\n",
    "In average Ultra users spend 532 minutes with a variance of 320 minutes, send 51 messages with a variance of 48 messages, spend 20 GB of Internet with a variance of 10 GB and spend 2067 rubles with a variance of 369 rubles per month.\n",
    "The distribution by number of minutes and the distribution by total cost of services are similar to normal distribution.\n",
    "\n",
    "*Smart Data Plan Summary:*\n",
    "\n",
    "In 76% of cases (1604 out of 2118) users exceed the limits of included minutes, messages and GB of Internet.\n",
    "On average, Smart plan customers spend 423 minutes with a variance of 191 minutes, send 34 messages with a variance of 28 messages, spend 17 GB of Internet with a variance of 6 GB, and spend 1299 rubles with a variance of 822 rubles.\n",
    "In about 28 cases, Smart tariff users did not send a single message for a whole month, in about 10 cases they did not use the Internet, and in about 12 cases they did not spend a minute of conversation at all. Megaline can consider introducing additional data plans for these types of users.\n",
    "Distribution by number of minutes and distribution by number of GB are similar to normal distribution.\n",
    "The distribution by total cost of services and by number of messages is similar to Pearson distribution.\n",
    "\n",
    "In 99% of cases the average revenue per user of Ultra and Smart Data Plans are different.<br>\n",
    "In 99% of cases the average revenue per user from Moscow is not different from the revenue per user from other regions.<br>\n",
    "\n",
    "On average Ultra Data Plan brings Megaline 768 rubles per client more than Smart Data Plan. Ultra customers also spend an average of 109 minutes, 17 messages and 3 GB more every month.<br>\n",
    "\n",
    "*Recommendations:*\n",
    "\n",
    "If the company's goal is to maximize revenue from existing customers per month, I would recommend investing in the ads of Ultra. But I'm not sure that Smart tariff customers, who spend an average of 1299 rubles per month, are ready to pay 1950 rubles.<br>\n",
    "\n",
    "If the company's goal is to attract and retain new customers (and maximize revenue in general for all customers) - I would introduce a new Data Plan that is cheaper than Ultra but more expensive than Smart and covers 95% or 99% of the needs of customers in minutes, messages and calls and would additionally check whether it is worth to introduce Data Plans for calls or Internet only.\n"
   ]
  }
 ],
 "metadata": {
  "ExecuteTimeLog": [
   {
    "duration": 613,
    "start_time": "2021-09-05T17:32:57.688Z"
   },
   {
    "duration": 3,
    "start_time": "2021-09-05T17:33:06.882Z"
   },
   {
    "duration": 165,
    "start_time": "2021-09-05T17:33:08.429Z"
   },
   {
    "duration": 537,
    "start_time": "2021-09-05T17:36:27.998Z"
   },
   {
    "duration": 584,
    "start_time": "2021-09-05T17:36:56.192Z"
   },
   {
    "duration": 870,
    "start_time": "2021-09-05T17:36:56.778Z"
   },
   {
    "duration": 1209,
    "start_time": "2021-09-05T17:38:05.352Z"
   },
   {
    "duration": 609,
    "start_time": "2021-09-05T17:38:35.375Z"
   },
   {
    "duration": 2131,
    "start_time": "2021-09-05T17:38:35.986Z"
   },
   {
    "duration": 2261,
    "start_time": "2021-09-05T17:40:27.032Z"
   },
   {
    "duration": 79,
    "start_time": "2021-09-05T17:40:39.627Z"
   },
   {
    "duration": 2322,
    "start_time": "2021-09-05T17:41:05.612Z"
   },
   {
    "duration": 2268,
    "start_time": "2021-09-05T17:56:03.181Z"
   },
   {
    "duration": 2277,
    "start_time": "2021-09-05T17:56:49.335Z"
   },
   {
    "duration": 2287,
    "start_time": "2021-09-05T17:57:36.028Z"
   },
   {
    "duration": 606,
    "start_time": "2021-09-07T09:39:46.111Z"
   },
   {
    "duration": 3233,
    "start_time": "2021-09-07T09:39:46.719Z"
   },
   {
    "duration": 720,
    "start_time": "2021-09-07T09:45:41.128Z"
   },
   {
    "duration": 22,
    "start_time": "2021-09-07T09:46:07.895Z"
   },
   {
    "duration": 14,
    "start_time": "2021-09-07T09:46:24.565Z"
   },
   {
    "duration": 13,
    "start_time": "2021-09-07T09:47:49.980Z"
   },
   {
    "duration": 13,
    "start_time": "2021-09-07T09:48:39.235Z"
   },
   {
    "duration": 594,
    "start_time": "2021-09-07T09:48:44.115Z"
   },
   {
    "duration": 2131,
    "start_time": "2021-09-07T09:48:44.711Z"
   },
   {
    "duration": 13,
    "start_time": "2021-09-07T09:48:46.844Z"
   },
   {
    "duration": 625,
    "start_time": "2021-09-07T09:49:31.271Z"
   },
   {
    "duration": 2136,
    "start_time": "2021-09-07T09:49:31.898Z"
   },
   {
    "duration": 13,
    "start_time": "2021-09-07T09:49:34.036Z"
   },
   {
    "duration": 337,
    "start_time": "2021-09-07T09:53:09.418Z"
   },
   {
    "duration": 603,
    "start_time": "2021-09-07T09:53:18.615Z"
   },
   {
    "duration": 2125,
    "start_time": "2021-09-07T09:53:19.220Z"
   },
   {
    "duration": 335,
    "start_time": "2021-09-07T09:53:21.347Z"
   },
   {
    "duration": 592,
    "start_time": "2021-09-07T09:54:17.536Z"
   },
   {
    "duration": 2095,
    "start_time": "2021-09-07T09:54:18.130Z"
   },
   {
    "duration": 14,
    "start_time": "2021-09-07T09:54:20.227Z"
   },
   {
    "duration": 556,
    "start_time": "2021-09-07T09:57:16.444Z"
   },
   {
    "duration": 2114,
    "start_time": "2021-09-07T09:57:17.002Z"
   },
   {
    "duration": 6285,
    "start_time": "2021-09-07T09:57:19.118Z"
   },
   {
    "duration": 627,
    "start_time": "2021-09-07T09:58:18.825Z"
   },
   {
    "duration": 3402,
    "start_time": "2021-09-07T09:58:19.454Z"
   },
   {
    "duration": 42,
    "start_time": "2021-09-07T09:58:22.858Z"
   },
   {
    "duration": 7578,
    "start_time": "2021-09-07T10:04:00.249Z"
   },
   {
    "duration": 777,
    "start_time": "2021-09-07T10:04:10.410Z"
   },
   {
    "duration": 2380,
    "start_time": "2021-09-07T10:04:11.189Z"
   },
   {
    "duration": 36,
    "start_time": "2021-09-07T10:04:13.571Z"
   },
   {
    "duration": 780,
    "start_time": "2021-09-07T10:08:30.345Z"
   },
   {
    "duration": 3428,
    "start_time": "2021-09-07T10:08:31.128Z"
   },
   {
    "duration": 51,
    "start_time": "2021-09-07T10:08:34.559Z"
   },
   {
    "duration": 642,
    "start_time": "2021-09-07T10:09:37.670Z"
   },
   {
    "duration": 2134,
    "start_time": "2021-09-07T10:09:38.314Z"
   },
   {
    "duration": 45,
    "start_time": "2021-09-07T10:09:40.450Z"
   },
   {
    "duration": 610,
    "start_time": "2021-09-07T10:12:11.912Z"
   },
   {
    "duration": 2242,
    "start_time": "2021-09-07T10:12:12.524Z"
   },
   {
    "duration": 40,
    "start_time": "2021-09-07T10:12:14.769Z"
   },
   {
    "duration": 573,
    "start_time": "2021-09-07T10:14:27.739Z"
   },
   {
    "duration": 2157,
    "start_time": "2021-09-07T10:14:28.314Z"
   },
   {
    "duration": 45,
    "start_time": "2021-09-07T10:14:30.473Z"
   },
   {
    "duration": 561,
    "start_time": "2021-09-07T10:41:19.041Z"
   },
   {
    "duration": 2256,
    "start_time": "2021-09-07T10:41:19.604Z"
   },
   {
    "duration": 46,
    "start_time": "2021-09-07T10:41:21.862Z"
   },
   {
    "duration": 39,
    "start_time": "2021-09-07T10:41:21.910Z"
   },
   {
    "duration": 552,
    "start_time": "2021-09-07T10:41:45.542Z"
   },
   {
    "duration": 2135,
    "start_time": "2021-09-07T10:41:46.095Z"
   },
   {
    "duration": 26,
    "start_time": "2021-09-07T10:41:48.232Z"
   },
   {
    "duration": 73,
    "start_time": "2021-09-07T10:41:48.259Z"
   },
   {
    "duration": 6917,
    "start_time": "2021-09-07T10:43:54.854Z"
   },
   {
    "duration": 6551,
    "start_time": "2021-09-07T10:45:47.714Z"
   },
   {
    "duration": 563,
    "start_time": "2021-09-07T10:46:00.340Z"
   },
   {
    "duration": 3360,
    "start_time": "2021-09-07T10:46:00.905Z"
   },
   {
    "duration": 48,
    "start_time": "2021-09-07T10:46:04.267Z"
   },
   {
    "duration": 118,
    "start_time": "2021-09-07T10:46:04.317Z"
   },
   {
    "duration": 646,
    "start_time": "2021-09-07T10:46:44.057Z"
   },
   {
    "duration": 2159,
    "start_time": "2021-09-07T10:46:44.705Z"
   },
   {
    "duration": 53,
    "start_time": "2021-09-07T10:46:46.866Z"
   },
   {
    "duration": 426,
    "start_time": "2021-09-07T10:46:46.921Z"
   },
   {
    "duration": 610,
    "start_time": "2021-09-07T10:47:27.283Z"
   },
   {
    "duration": 2357,
    "start_time": "2021-09-07T10:47:27.896Z"
   },
   {
    "duration": 61,
    "start_time": "2021-09-07T10:47:30.255Z"
   },
   {
    "duration": 7106,
    "start_time": "2021-09-07T10:47:30.319Z"
   },
   {
    "duration": 656,
    "start_time": "2021-09-07T10:47:51.503Z"
   },
   {
    "duration": 2151,
    "start_time": "2021-09-07T10:47:52.161Z"
   },
   {
    "duration": 28,
    "start_time": "2021-09-07T10:47:54.314Z"
   },
   {
    "duration": 130,
    "start_time": "2021-09-07T10:47:54.345Z"
   },
   {
    "duration": 631,
    "start_time": "2021-09-07T10:48:27.085Z"
   },
   {
    "duration": 2199,
    "start_time": "2021-09-07T10:48:27.718Z"
   },
   {
    "duration": 31,
    "start_time": "2021-09-07T10:48:29.919Z"
   },
   {
    "duration": 631,
    "start_time": "2021-09-07T10:48:29.952Z"
   },
   {
    "duration": 639,
    "start_time": "2021-09-07T10:48:41.590Z"
   },
   {
    "duration": 2318,
    "start_time": "2021-09-07T10:48:42.231Z"
   },
   {
    "duration": 66,
    "start_time": "2021-09-07T10:48:44.552Z"
   },
   {
    "duration": 154,
    "start_time": "2021-09-07T10:48:44.620Z"
   },
   {
    "duration": 1043,
    "start_time": "2021-09-07T10:58:00.108Z"
   },
   {
    "duration": 3377,
    "start_time": "2021-09-07T10:58:01.153Z"
   },
   {
    "duration": 62,
    "start_time": "2021-09-07T10:58:04.533Z"
   },
   {
    "duration": 115,
    "start_time": "2021-09-07T10:58:04.598Z"
   },
   {
    "duration": 91,
    "start_time": "2021-09-07T10:58:04.715Z"
   },
   {
    "duration": 110,
    "start_time": "2021-09-07T10:58:04.808Z"
   },
   {
    "duration": 7342,
    "start_time": "2021-09-07T10:58:04.920Z"
   },
   {
    "duration": 6292,
    "start_time": "2021-09-07T11:01:32.509Z"
   },
   {
    "duration": 622,
    "start_time": "2021-09-07T11:05:08.484Z"
   },
   {
    "duration": 3339,
    "start_time": "2021-09-07T11:05:09.108Z"
   },
   {
    "duration": 63,
    "start_time": "2021-09-07T11:05:12.450Z"
   },
   {
    "duration": 127,
    "start_time": "2021-09-07T11:05:12.516Z"
   },
   {
    "duration": 101,
    "start_time": "2021-09-07T11:05:12.645Z"
   },
   {
    "duration": 158,
    "start_time": "2021-09-07T11:05:12.748Z"
   },
   {
    "duration": 18,
    "start_time": "2021-09-07T11:05:12.908Z"
   },
   {
    "duration": 4,
    "start_time": "2021-09-07T11:13:56.841Z"
   },
   {
    "duration": 4,
    "start_time": "2021-09-07T11:13:58.812Z"
   },
   {
    "duration": 345,
    "start_time": "2021-09-07T11:17:35.396Z"
   },
   {
    "duration": 5,
    "start_time": "2021-09-07T11:17:39.262Z"
   },
   {
    "duration": 4,
    "start_time": "2021-09-07T11:17:41.888Z"
   },
   {
    "duration": 5,
    "start_time": "2021-09-07T11:17:45.260Z"
   },
   {
    "duration": 5,
    "start_time": "2021-09-07T11:18:32.753Z"
   },
   {
    "duration": 5,
    "start_time": "2021-09-07T11:18:34.882Z"
   },
   {
    "duration": 4,
    "start_time": "2021-09-07T11:18:36.971Z"
   },
   {
    "duration": 4,
    "start_time": "2021-09-07T11:20:27.070Z"
   },
   {
    "duration": 4,
    "start_time": "2021-09-07T11:20:45.164Z"
   },
   {
    "duration": 84,
    "start_time": "2021-09-07T11:35:48.695Z"
   },
   {
    "duration": 595,
    "start_time": "2021-09-07T11:44:27.113Z"
   },
   {
    "duration": 2202,
    "start_time": "2021-09-07T11:44:27.710Z"
   },
   {
    "duration": 26,
    "start_time": "2021-09-07T11:44:29.914Z"
   },
   {
    "duration": 449,
    "start_time": "2021-09-07T11:44:29.942Z"
   },
   {
    "duration": 558,
    "start_time": "2021-09-07T11:44:29.835Z"
   },
   {
    "duration": 551,
    "start_time": "2021-09-07T11:44:29.843Z"
   },
   {
    "duration": 550,
    "start_time": "2021-09-07T11:44:29.845Z"
   },
   {
    "duration": 545,
    "start_time": "2021-09-07T11:44:29.851Z"
   },
   {
    "duration": 543,
    "start_time": "2021-09-07T11:44:29.854Z"
   },
   {
    "duration": 542,
    "start_time": "2021-09-07T11:44:29.856Z"
   },
   {
    "duration": 1265,
    "start_time": "2021-09-07T11:45:59.929Z"
   },
   {
    "duration": 597,
    "start_time": "2021-09-07T11:46:07.650Z"
   },
   {
    "duration": 2159,
    "start_time": "2021-09-07T11:46:08.249Z"
   },
   {
    "duration": 30,
    "start_time": "2021-09-07T11:46:10.410Z"
   },
   {
    "duration": 423,
    "start_time": "2021-09-07T11:46:10.443Z"
   },
   {
    "duration": 572,
    "start_time": "2021-09-07T11:46:10.297Z"
   },
   {
    "duration": 570,
    "start_time": "2021-09-07T11:46:10.300Z"
   },
   {
    "duration": 565,
    "start_time": "2021-09-07T11:46:10.306Z"
   },
   {
    "duration": 563,
    "start_time": "2021-09-07T11:46:10.310Z"
   },
   {
    "duration": 562,
    "start_time": "2021-09-07T11:46:10.312Z"
   },
   {
    "duration": 563,
    "start_time": "2021-09-07T11:46:10.313Z"
   },
   {
    "duration": 324,
    "start_time": "2021-09-07T11:49:32.253Z"
   },
   {
    "duration": 737,
    "start_time": "2021-09-07T11:49:44.225Z"
   },
   {
    "duration": 2843,
    "start_time": "2021-09-07T11:49:46.186Z"
   },
   {
    "duration": 27,
    "start_time": "2021-09-07T11:49:50.853Z"
   },
   {
    "duration": 387,
    "start_time": "2021-09-07T11:49:56.021Z"
   },
   {
    "duration": 627,
    "start_time": "2021-09-07T11:50:45.870Z"
   },
   {
    "duration": 2116,
    "start_time": "2021-09-07T11:50:46.499Z"
   },
   {
    "duration": 25,
    "start_time": "2021-09-07T11:50:48.617Z"
   },
   {
    "duration": 464,
    "start_time": "2021-09-07T11:50:48.644Z"
   },
   {
    "duration": 577,
    "start_time": "2021-09-07T11:50:48.532Z"
   },
   {
    "duration": 500,
    "start_time": "2021-09-07T11:50:48.610Z"
   },
   {
    "duration": 498,
    "start_time": "2021-09-07T11:50:48.613Z"
   },
   {
    "duration": 495,
    "start_time": "2021-09-07T11:50:48.617Z"
   },
   {
    "duration": 492,
    "start_time": "2021-09-07T11:50:48.621Z"
   },
   {
    "duration": 489,
    "start_time": "2021-09-07T11:50:48.625Z"
   },
   {
    "duration": 612,
    "start_time": "2021-09-07T11:51:26.947Z"
   },
   {
    "duration": 2194,
    "start_time": "2021-09-07T11:51:27.560Z"
   },
   {
    "duration": 57,
    "start_time": "2021-09-07T11:51:29.756Z"
   },
   {
    "duration": 523,
    "start_time": "2021-09-07T11:51:29.815Z"
   },
   {
    "duration": 600,
    "start_time": "2021-09-07T11:51:29.740Z"
   },
   {
    "duration": 599,
    "start_time": "2021-09-07T11:51:29.743Z"
   },
   {
    "duration": 565,
    "start_time": "2021-09-07T11:51:29.778Z"
   },
   {
    "duration": 562,
    "start_time": "2021-09-07T11:51:29.782Z"
   },
   {
    "duration": 557,
    "start_time": "2021-09-07T11:51:29.788Z"
   },
   {
    "duration": 551,
    "start_time": "2021-09-07T11:51:29.795Z"
   },
   {
    "duration": 587,
    "start_time": "2021-09-07T11:51:52.049Z"
   },
   {
    "duration": 2030,
    "start_time": "2021-09-07T11:51:52.638Z"
   },
   {
    "duration": 38,
    "start_time": "2021-09-07T11:51:54.670Z"
   },
   {
    "duration": 455,
    "start_time": "2021-09-07T11:51:54.710Z"
   },
   {
    "duration": 581,
    "start_time": "2021-09-07T11:51:54.587Z"
   },
   {
    "duration": 580,
    "start_time": "2021-09-07T11:51:54.589Z"
   },
   {
    "duration": 578,
    "start_time": "2021-09-07T11:51:54.592Z"
   },
   {
    "duration": 575,
    "start_time": "2021-09-07T11:51:54.595Z"
   },
   {
    "duration": 574,
    "start_time": "2021-09-07T11:51:54.597Z"
   },
   {
    "duration": 573,
    "start_time": "2021-09-07T11:51:54.599Z"
   },
   {
    "duration": 1189,
    "start_time": "2021-09-07T11:59:32.637Z"
   },
   {
    "duration": 2098,
    "start_time": "2021-09-07T11:59:33.828Z"
   },
   {
    "duration": 27,
    "start_time": "2021-09-07T11:59:35.929Z"
   },
   {
    "duration": 412,
    "start_time": "2021-09-07T11:59:35.958Z"
   },
   {
    "duration": 610,
    "start_time": "2021-09-07T11:59:35.762Z"
   },
   {
    "duration": 609,
    "start_time": "2021-09-07T11:59:35.765Z"
   },
   {
    "duration": 606,
    "start_time": "2021-09-07T11:59:35.769Z"
   },
   {
    "duration": 603,
    "start_time": "2021-09-07T11:59:35.773Z"
   },
   {
    "duration": 603,
    "start_time": "2021-09-07T11:59:35.775Z"
   },
   {
    "duration": 602,
    "start_time": "2021-09-07T11:59:35.777Z"
   },
   {
    "duration": 751,
    "start_time": "2021-09-07T12:05:16.668Z"
   },
   {
    "duration": 3071,
    "start_time": "2021-09-07T12:05:17.421Z"
   },
   {
    "duration": 27,
    "start_time": "2021-09-07T12:05:20.494Z"
   },
   {
    "duration": 442,
    "start_time": "2021-09-07T12:05:20.523Z"
   },
   {
    "duration": 599,
    "start_time": "2021-09-07T12:05:20.367Z"
   },
   {
    "duration": 596,
    "start_time": "2021-09-07T12:05:20.371Z"
   },
   {
    "duration": 590,
    "start_time": "2021-09-07T12:05:20.378Z"
   },
   {
    "duration": 589,
    "start_time": "2021-09-07T12:05:20.380Z"
   },
   {
    "duration": 587,
    "start_time": "2021-09-07T12:05:20.383Z"
   },
   {
    "duration": 586,
    "start_time": "2021-09-07T12:05:20.385Z"
   },
   {
    "duration": 600,
    "start_time": "2021-09-07T12:05:39.174Z"
   },
   {
    "duration": 2077,
    "start_time": "2021-09-07T12:05:39.776Z"
   },
   {
    "duration": 54,
    "start_time": "2021-09-07T12:05:41.856Z"
   },
   {
    "duration": 515,
    "start_time": "2021-09-07T12:05:41.912Z"
   },
   {
    "duration": 581,
    "start_time": "2021-09-07T12:05:41.848Z"
   },
   {
    "duration": 568,
    "start_time": "2021-09-07T12:05:41.862Z"
   },
   {
    "duration": 556,
    "start_time": "2021-09-07T12:05:41.876Z"
   },
   {
    "duration": 489,
    "start_time": "2021-09-07T12:05:41.944Z"
   },
   {
    "duration": 485,
    "start_time": "2021-09-07T12:05:41.950Z"
   },
   {
    "duration": 150,
    "start_time": "2021-09-07T12:05:42.286Z"
   },
   {
    "duration": 6460,
    "start_time": "2021-09-07T12:06:25.740Z"
   },
   {
    "duration": 618,
    "start_time": "2021-09-07T12:06:36.510Z"
   },
   {
    "duration": 2104,
    "start_time": "2021-09-07T12:06:37.130Z"
   },
   {
    "duration": 29,
    "start_time": "2021-09-07T12:06:39.237Z"
   },
   {
    "duration": 158,
    "start_time": "2021-09-07T12:06:39.292Z"
   },
   {
    "duration": 77,
    "start_time": "2021-09-07T12:06:39.452Z"
   },
   {
    "duration": 115,
    "start_time": "2021-09-07T12:06:39.531Z"
   },
   {
    "duration": 13,
    "start_time": "2021-09-07T12:06:39.648Z"
   },
   {
    "duration": 3,
    "start_time": "2021-09-07T12:06:39.663Z"
   },
   {
    "duration": 4,
    "start_time": "2021-09-07T12:06:39.690Z"
   },
   {
    "duration": 8,
    "start_time": "2021-09-07T12:06:39.695Z"
   },
   {
    "duration": 601,
    "start_time": "2021-09-07T12:15:30.491Z"
   },
   {
    "duration": 2101,
    "start_time": "2021-09-07T12:15:31.094Z"
   },
   {
    "duration": 30,
    "start_time": "2021-09-07T12:15:33.197Z"
   },
   {
    "duration": 176,
    "start_time": "2021-09-07T12:15:33.229Z"
   },
   {
    "duration": 65,
    "start_time": "2021-09-07T12:15:33.406Z"
   },
   {
    "duration": 113,
    "start_time": "2021-09-07T12:15:33.492Z"
   },
   {
    "duration": 15,
    "start_time": "2021-09-07T12:15:33.607Z"
   },
   {
    "duration": 6,
    "start_time": "2021-09-07T12:15:33.625Z"
   },
   {
    "duration": 12,
    "start_time": "2021-09-07T12:15:33.633Z"
   },
   {
    "duration": 8,
    "start_time": "2021-09-07T12:15:33.647Z"
   },
   {
    "duration": 337,
    "start_time": "2021-09-07T12:23:02.980Z"
   },
   {
    "duration": 42,
    "start_time": "2021-09-07T12:23:12.455Z"
   },
   {
    "duration": 278,
    "start_time": "2021-09-07T12:25:37.892Z"
   },
   {
    "duration": 23,
    "start_time": "2021-09-07T12:25:58.537Z"
   },
   {
    "duration": 24,
    "start_time": "2021-09-07T12:26:15.831Z"
   },
   {
    "duration": 37,
    "start_time": "2021-09-07T12:29:21.402Z"
   },
   {
    "duration": 40,
    "start_time": "2021-09-07T12:30:10.145Z"
   },
   {
    "duration": 39,
    "start_time": "2021-09-07T12:30:16.111Z"
   },
   {
    "duration": 36,
    "start_time": "2021-09-07T12:30:33.161Z"
   },
   {
    "duration": 6559,
    "start_time": "2021-09-07T12:33:29.149Z"
   },
   {
    "duration": 758,
    "start_time": "2021-09-07T12:33:50.475Z"
   },
   {
    "duration": 2030,
    "start_time": "2021-09-07T12:33:51.236Z"
   },
   {
    "duration": 44,
    "start_time": "2021-09-07T12:33:53.268Z"
   },
   {
    "duration": 163,
    "start_time": "2021-09-07T12:33:53.314Z"
   },
   {
    "duration": 66,
    "start_time": "2021-09-07T12:33:53.479Z"
   },
   {
    "duration": 112,
    "start_time": "2021-09-07T12:33:53.547Z"
   },
   {
    "duration": 32,
    "start_time": "2021-09-07T12:33:53.661Z"
   },
   {
    "duration": 3,
    "start_time": "2021-09-07T12:33:53.695Z"
   },
   {
    "duration": 9,
    "start_time": "2021-09-07T12:33:53.700Z"
   },
   {
    "duration": 12,
    "start_time": "2021-09-07T12:33:53.710Z"
   },
   {
    "duration": 6397,
    "start_time": "2021-09-07T12:33:53.724Z"
   },
   {
    "duration": 315,
    "start_time": "2021-09-07T12:35:17.959Z"
   },
   {
    "duration": 6839,
    "start_time": "2021-09-07T12:35:35.425Z"
   },
   {
    "duration": 304,
    "start_time": "2021-09-07T12:35:58.939Z"
   },
   {
    "duration": 341,
    "start_time": "2021-09-07T12:36:11.091Z"
   },
   {
    "duration": 70,
    "start_time": "2021-09-07T12:36:25.958Z"
   },
   {
    "duration": 77,
    "start_time": "2021-09-07T12:38:57.273Z"
   },
   {
    "duration": 6942,
    "start_time": "2021-09-07T12:39:22.583Z"
   },
   {
    "duration": 111,
    "start_time": "2021-09-07T12:39:35.063Z"
   },
   {
    "duration": 78,
    "start_time": "2021-09-07T12:42:53.616Z"
   },
   {
    "duration": 313,
    "start_time": "2021-09-07T12:45:44.694Z"
   },
   {
    "duration": 340,
    "start_time": "2021-09-07T12:47:42.708Z"
   },
   {
    "duration": 593,
    "start_time": "2021-09-07T12:48:32.935Z"
   },
   {
    "duration": 2132,
    "start_time": "2021-09-07T12:48:33.530Z"
   },
   {
    "duration": 50,
    "start_time": "2021-09-07T12:48:35.665Z"
   },
   {
    "duration": 167,
    "start_time": "2021-09-07T12:48:35.717Z"
   },
   {
    "duration": 69,
    "start_time": "2021-09-07T12:48:35.886Z"
   },
   {
    "duration": 135,
    "start_time": "2021-09-07T12:48:35.957Z"
   },
   {
    "duration": 17,
    "start_time": "2021-09-07T12:48:36.093Z"
   },
   {
    "duration": 4,
    "start_time": "2021-09-07T12:48:36.112Z"
   },
   {
    "duration": 7,
    "start_time": "2021-09-07T12:48:36.118Z"
   },
   {
    "duration": 6,
    "start_time": "2021-09-07T12:48:36.127Z"
   },
   {
    "duration": 480,
    "start_time": "2021-09-07T12:48:36.135Z"
   },
   {
    "duration": 631,
    "start_time": "2021-09-07T12:49:13.783Z"
   },
   {
    "duration": 2126,
    "start_time": "2021-09-07T12:49:14.416Z"
   },
   {
    "duration": 49,
    "start_time": "2021-09-07T12:49:16.544Z"
   },
   {
    "duration": 160,
    "start_time": "2021-09-07T12:49:16.595Z"
   },
   {
    "duration": 71,
    "start_time": "2021-09-07T12:49:16.756Z"
   },
   {
    "duration": 116,
    "start_time": "2021-09-07T12:49:16.829Z"
   },
   {
    "duration": 19,
    "start_time": "2021-09-07T12:49:16.947Z"
   },
   {
    "duration": 26,
    "start_time": "2021-09-07T12:49:16.968Z"
   },
   {
    "duration": 6,
    "start_time": "2021-09-07T12:49:16.996Z"
   },
   {
    "duration": 7,
    "start_time": "2021-09-07T12:49:17.004Z"
   },
   {
    "duration": 127,
    "start_time": "2021-09-07T12:49:17.013Z"
   },
   {
    "duration": 96,
    "start_time": "2021-09-07T12:50:11.941Z"
   },
   {
    "duration": 100,
    "start_time": "2021-09-07T12:51:24.923Z"
   },
   {
    "duration": 104,
    "start_time": "2021-09-07T12:56:20.273Z"
   },
   {
    "duration": 7196,
    "start_time": "2021-09-07T12:58:39.217Z"
   },
   {
    "duration": 596,
    "start_time": "2021-09-07T12:58:50.010Z"
   },
   {
    "duration": 2090,
    "start_time": "2021-09-07T12:58:50.609Z"
   },
   {
    "duration": 27,
    "start_time": "2021-09-07T12:58:52.701Z"
   },
   {
    "duration": 180,
    "start_time": "2021-09-07T12:58:52.730Z"
   },
   {
    "duration": 63,
    "start_time": "2021-09-07T12:58:52.912Z"
   },
   {
    "duration": 115,
    "start_time": "2021-09-07T12:58:52.992Z"
   },
   {
    "duration": 7563,
    "start_time": "2021-09-07T12:58:53.109Z"
   },
   {
    "duration": 522,
    "start_time": "2021-09-07T12:59:00.152Z"
   },
   {
    "duration": 512,
    "start_time": "2021-09-07T12:59:00.163Z"
   },
   {
    "duration": 506,
    "start_time": "2021-09-07T12:59:00.170Z"
   },
   {
    "duration": 497,
    "start_time": "2021-09-07T12:59:00.180Z"
   },
   {
    "duration": 560,
    "start_time": "2021-09-07T12:59:26.144Z"
   },
   {
    "duration": 2037,
    "start_time": "2021-09-07T12:59:26.706Z"
   },
   {
    "duration": 49,
    "start_time": "2021-09-07T12:59:28.746Z"
   },
   {
    "duration": 168,
    "start_time": "2021-09-07T12:59:28.797Z"
   },
   {
    "duration": 71,
    "start_time": "2021-09-07T12:59:28.967Z"
   },
   {
    "duration": 116,
    "start_time": "2021-09-07T12:59:29.040Z"
   },
   {
    "duration": 38,
    "start_time": "2021-09-07T12:59:29.158Z"
   },
   {
    "duration": 3,
    "start_time": "2021-09-07T12:59:29.198Z"
   },
   {
    "duration": 17,
    "start_time": "2021-09-07T12:59:29.203Z"
   },
   {
    "duration": 26,
    "start_time": "2021-09-07T12:59:29.222Z"
   },
   {
    "duration": 99,
    "start_time": "2021-09-07T12:59:29.249Z"
   },
   {
    "duration": 123,
    "start_time": "2021-09-07T13:02:05.579Z"
   },
   {
    "duration": 731,
    "start_time": "2021-09-07T13:07:26.736Z"
   },
   {
    "duration": 2973,
    "start_time": "2021-09-07T13:07:27.469Z"
   },
   {
    "duration": 57,
    "start_time": "2021-09-07T13:07:30.444Z"
   },
   {
    "duration": 178,
    "start_time": "2021-09-07T13:07:30.503Z"
   },
   {
    "duration": 67,
    "start_time": "2021-09-07T13:07:30.683Z"
   },
   {
    "duration": 145,
    "start_time": "2021-09-07T13:07:30.752Z"
   },
   {
    "duration": 17,
    "start_time": "2021-09-07T13:07:30.899Z"
   },
   {
    "duration": 4,
    "start_time": "2021-09-07T13:07:30.918Z"
   },
   {
    "duration": 11,
    "start_time": "2021-09-07T13:07:30.923Z"
   },
   {
    "duration": 57,
    "start_time": "2021-09-07T13:07:30.936Z"
   },
   {
    "duration": 170,
    "start_time": "2021-09-07T13:07:30.995Z"
   },
   {
    "duration": 6,
    "start_time": "2021-09-07T13:10:12.207Z"
   },
   {
    "duration": 4,
    "start_time": "2021-09-07T13:10:13.768Z"
   },
   {
    "duration": 4,
    "start_time": "2021-09-07T13:10:16.866Z"
   },
   {
    "duration": 457,
    "start_time": "2021-09-07T13:14:14.125Z"
   },
   {
    "duration": 713,
    "start_time": "2021-09-07T13:16:10.623Z"
   },
   {
    "duration": 1983,
    "start_time": "2021-09-07T13:16:11.338Z"
   },
   {
    "duration": 24,
    "start_time": "2021-09-07T13:16:13.324Z"
   },
   {
    "duration": 177,
    "start_time": "2021-09-07T13:16:13.350Z"
   },
   {
    "duration": 76,
    "start_time": "2021-09-07T13:16:13.529Z"
   },
   {
    "duration": 105,
    "start_time": "2021-09-07T13:16:13.606Z"
   },
   {
    "duration": 19,
    "start_time": "2021-09-07T13:16:13.713Z"
   },
   {
    "duration": 3,
    "start_time": "2021-09-07T13:16:13.734Z"
   },
   {
    "duration": 6,
    "start_time": "2021-09-07T13:16:13.739Z"
   },
   {
    "duration": 7,
    "start_time": "2021-09-07T13:16:13.746Z"
   },
   {
    "duration": 448,
    "start_time": "2021-09-07T13:16:13.755Z"
   },
   {
    "duration": 6324,
    "start_time": "2021-09-07T13:19:55.096Z"
   },
   {
    "duration": 140,
    "start_time": "2021-09-07T13:21:06.296Z"
   },
   {
    "duration": 621,
    "start_time": "2021-09-07T13:21:37.473Z"
   },
   {
    "duration": 3040,
    "start_time": "2021-09-07T13:21:38.096Z"
   },
   {
    "duration": 58,
    "start_time": "2021-09-07T13:21:41.139Z"
   },
   {
    "duration": 264,
    "start_time": "2021-09-07T13:21:41.200Z"
   },
   {
    "duration": 79,
    "start_time": "2021-09-07T13:21:41.466Z"
   },
   {
    "duration": 114,
    "start_time": "2021-09-07T13:21:41.548Z"
   },
   {
    "duration": 44,
    "start_time": "2021-09-07T13:21:41.664Z"
   },
   {
    "duration": 4,
    "start_time": "2021-09-07T13:21:41.710Z"
   },
   {
    "duration": 7,
    "start_time": "2021-09-07T13:21:41.716Z"
   },
   {
    "duration": 5,
    "start_time": "2021-09-07T13:21:41.725Z"
   },
   {
    "duration": 187,
    "start_time": "2021-09-07T13:21:41.732Z"
   },
   {
    "duration": 141,
    "start_time": "2021-09-07T13:22:16.812Z"
   },
   {
    "duration": 293,
    "start_time": "2021-09-07T16:46:02.894Z"
   },
   {
    "duration": 542,
    "start_time": "2021-09-07T16:46:09.792Z"
   },
   {
    "duration": 1980,
    "start_time": "2021-09-07T16:46:10.336Z"
   },
   {
    "duration": 34,
    "start_time": "2021-09-07T16:46:12.318Z"
   },
   {
    "duration": 154,
    "start_time": "2021-09-07T16:46:12.354Z"
   },
   {
    "duration": 67,
    "start_time": "2021-09-07T16:46:12.510Z"
   },
   {
    "duration": 111,
    "start_time": "2021-09-07T16:46:12.578Z"
   },
   {
    "duration": 23,
    "start_time": "2021-09-07T16:46:12.690Z"
   },
   {
    "duration": 3,
    "start_time": "2021-09-07T16:46:12.715Z"
   },
   {
    "duration": 25,
    "start_time": "2021-09-07T16:46:12.719Z"
   },
   {
    "duration": 24,
    "start_time": "2021-09-07T16:46:12.745Z"
   },
   {
    "duration": 150,
    "start_time": "2021-09-07T16:46:12.770Z"
   },
   {
    "duration": 26,
    "start_time": "2021-09-07T16:46:12.921Z"
   },
   {
    "duration": 361,
    "start_time": "2021-09-07T16:51:22.135Z"
   },
   {
    "duration": 83,
    "start_time": "2021-09-07T16:51:43.662Z"
   },
   {
    "duration": 48,
    "start_time": "2021-09-07T16:51:50.038Z"
   },
   {
    "duration": 48,
    "start_time": "2021-09-07T16:52:09.104Z"
   },
   {
    "duration": 30,
    "start_time": "2021-09-07T16:53:33.225Z"
   },
   {
    "duration": 26,
    "start_time": "2021-09-07T16:53:36.369Z"
   },
   {
    "duration": 381,
    "start_time": "2021-09-07T16:56:18.913Z"
   },
   {
    "duration": 352,
    "start_time": "2021-09-07T16:56:27.639Z"
   },
   {
    "duration": 23,
    "start_time": "2021-09-07T16:58:09.330Z"
   },
   {
    "duration": 292,
    "start_time": "2021-09-07T16:58:13.300Z"
   },
   {
    "duration": 899,
    "start_time": "2021-09-07T16:59:01.319Z"
   },
   {
    "duration": 30,
    "start_time": "2021-09-07T17:00:22.697Z"
   },
   {
    "duration": 21,
    "start_time": "2021-09-07T17:00:30.278Z"
   },
   {
    "duration": 7,
    "start_time": "2021-09-07T17:00:53.610Z"
   },
   {
    "duration": 24,
    "start_time": "2021-09-07T17:00:56.999Z"
   },
   {
    "duration": 7,
    "start_time": "2021-09-07T17:01:09.972Z"
   },
   {
    "duration": 7,
    "start_time": "2021-09-07T17:01:20.801Z"
   },
   {
    "duration": 273,
    "start_time": "2021-09-07T17:09:08.179Z"
   },
   {
    "duration": 279,
    "start_time": "2021-09-07T17:10:24.188Z"
   },
   {
    "duration": 88,
    "start_time": "2021-09-07T17:10:35.578Z"
   },
   {
    "duration": 88,
    "start_time": "2021-09-07T17:10:43.719Z"
   },
   {
    "duration": 13,
    "start_time": "2021-09-07T17:11:02.370Z"
   },
   {
    "duration": 7,
    "start_time": "2021-09-07T17:11:17.876Z"
   },
   {
    "duration": 10,
    "start_time": "2021-09-07T17:11:21.910Z"
   },
   {
    "duration": 10,
    "start_time": "2021-09-07T17:11:31.089Z"
   },
   {
    "duration": 9,
    "start_time": "2021-09-07T17:11:39.228Z"
   },
   {
    "duration": 9,
    "start_time": "2021-09-07T17:11:42.004Z"
   },
   {
    "duration": 534,
    "start_time": "2021-09-07T17:12:54.276Z"
   },
   {
    "duration": 1944,
    "start_time": "2021-09-07T17:12:54.812Z"
   },
   {
    "duration": 31,
    "start_time": "2021-09-07T17:12:56.758Z"
   },
   {
    "duration": 245,
    "start_time": "2021-09-07T17:12:56.791Z"
   },
   {
    "duration": 63,
    "start_time": "2021-09-07T17:12:57.041Z"
   },
   {
    "duration": 109,
    "start_time": "2021-09-07T17:12:57.106Z"
   },
   {
    "duration": 41,
    "start_time": "2021-09-07T17:12:57.217Z"
   },
   {
    "duration": 4,
    "start_time": "2021-09-07T17:12:57.260Z"
   },
   {
    "duration": 6,
    "start_time": "2021-09-07T17:12:57.265Z"
   },
   {
    "duration": 6,
    "start_time": "2021-09-07T17:12:57.273Z"
   },
   {
    "duration": 171,
    "start_time": "2021-09-07T17:12:57.280Z"
   },
   {
    "duration": 24,
    "start_time": "2021-09-07T17:12:57.453Z"
   },
   {
    "duration": 6,
    "start_time": "2021-09-07T17:12:57.479Z"
   },
   {
    "duration": 8,
    "start_time": "2021-09-07T17:12:57.487Z"
   },
   {
    "duration": 7,
    "start_time": "2021-09-07T17:12:57.496Z"
   },
   {
    "duration": 1031,
    "start_time": "2021-09-07T17:12:57.505Z"
   },
   {
    "duration": 336,
    "start_time": "2021-09-07T17:12:58.537Z"
   },
   {
    "duration": 724,
    "start_time": "2021-09-07T17:13:51.729Z"
   },
   {
    "duration": 1826,
    "start_time": "2021-09-07T17:13:52.455Z"
   },
   {
    "duration": 23,
    "start_time": "2021-09-07T17:13:54.283Z"
   },
   {
    "duration": 170,
    "start_time": "2021-09-07T17:13:54.308Z"
   },
   {
    "duration": 75,
    "start_time": "2021-09-07T17:13:54.479Z"
   },
   {
    "duration": 98,
    "start_time": "2021-09-07T17:13:54.556Z"
   },
   {
    "duration": 20,
    "start_time": "2021-09-07T17:13:54.656Z"
   },
   {
    "duration": 3,
    "start_time": "2021-09-07T17:13:54.678Z"
   },
   {
    "duration": 6,
    "start_time": "2021-09-07T17:13:54.683Z"
   },
   {
    "duration": 12,
    "start_time": "2021-09-07T17:13:54.691Z"
   },
   {
    "duration": 180,
    "start_time": "2021-09-07T17:13:54.705Z"
   },
   {
    "duration": 23,
    "start_time": "2021-09-07T17:13:54.886Z"
   },
   {
    "duration": 6,
    "start_time": "2021-09-07T17:13:54.910Z"
   },
   {
    "duration": 24,
    "start_time": "2021-09-07T17:13:54.918Z"
   },
   {
    "duration": 7,
    "start_time": "2021-09-07T17:13:54.943Z"
   },
   {
    "duration": 1452,
    "start_time": "2021-09-07T17:13:54.952Z"
   },
   {
    "duration": 321,
    "start_time": "2021-09-07T17:13:56.406Z"
   },
   {
    "duration": 622,
    "start_time": "2021-09-07T17:15:01.145Z"
   },
   {
    "duration": 623,
    "start_time": "2021-09-07T17:19:51.143Z"
   },
   {
    "duration": 684,
    "start_time": "2021-09-07T17:22:29.240Z"
   },
   {
    "duration": 605,
    "start_time": "2021-09-07T17:23:03.972Z"
   },
   {
    "duration": 647,
    "start_time": "2021-09-07T17:25:44.914Z"
   },
   {
    "duration": 25,
    "start_time": "2021-09-07T17:26:07.198Z"
   },
   {
    "duration": 26,
    "start_time": "2021-09-07T17:26:39.906Z"
   },
   {
    "duration": 9,
    "start_time": "2021-09-07T17:26:41.931Z"
   },
   {
    "duration": 735,
    "start_time": "2021-09-07T17:27:14.911Z"
   },
   {
    "duration": 1805,
    "start_time": "2021-09-07T17:28:40.950Z"
   },
   {
    "duration": 2051,
    "start_time": "2021-09-07T17:28:51.278Z"
   },
   {
    "duration": 568,
    "start_time": "2021-09-07T17:29:24.955Z"
   },
   {
    "duration": 2272,
    "start_time": "2021-09-07T17:29:25.525Z"
   },
   {
    "duration": 47,
    "start_time": "2021-09-07T17:29:27.799Z"
   },
   {
    "duration": 152,
    "start_time": "2021-09-07T17:29:27.848Z"
   },
   {
    "duration": 70,
    "start_time": "2021-09-07T17:29:28.001Z"
   },
   {
    "duration": 106,
    "start_time": "2021-09-07T17:29:28.072Z"
   },
   {
    "duration": 18,
    "start_time": "2021-09-07T17:29:28.180Z"
   },
   {
    "duration": 4,
    "start_time": "2021-09-07T17:29:28.201Z"
   },
   {
    "duration": 35,
    "start_time": "2021-09-07T17:29:28.207Z"
   },
   {
    "duration": 5,
    "start_time": "2021-09-07T17:29:28.245Z"
   },
   {
    "duration": 173,
    "start_time": "2021-09-07T17:29:28.252Z"
   },
   {
    "duration": 36,
    "start_time": "2021-09-07T17:29:28.427Z"
   },
   {
    "duration": 7,
    "start_time": "2021-09-07T17:29:28.465Z"
   },
   {
    "duration": 742,
    "start_time": "2021-09-07T17:29:28.473Z"
   },
   {
    "duration": 37,
    "start_time": "2021-09-07T17:29:29.217Z"
   },
   {
    "duration": 8,
    "start_time": "2021-09-07T17:29:29.256Z"
   },
   {
    "duration": 1197,
    "start_time": "2021-09-07T17:29:29.266Z"
   },
   {
    "duration": 23,
    "start_time": "2021-09-07T17:31:59.039Z"
   },
   {
    "duration": 8,
    "start_time": "2021-09-07T17:40:45.686Z"
   },
   {
    "duration": 596,
    "start_time": "2021-09-07T17:41:15.152Z"
   },
   {
    "duration": 1892,
    "start_time": "2021-09-07T17:41:15.750Z"
   },
   {
    "duration": 22,
    "start_time": "2021-09-07T17:41:17.644Z"
   },
   {
    "duration": 156,
    "start_time": "2021-09-07T17:41:17.668Z"
   },
   {
    "duration": 71,
    "start_time": "2021-09-07T17:41:17.825Z"
   },
   {
    "duration": 110,
    "start_time": "2021-09-07T17:41:17.898Z"
   },
   {
    "duration": 35,
    "start_time": "2021-09-07T17:41:18.009Z"
   },
   {
    "duration": 3,
    "start_time": "2021-09-07T17:41:18.046Z"
   },
   {
    "duration": 8,
    "start_time": "2021-09-07T17:41:18.050Z"
   },
   {
    "duration": 12,
    "start_time": "2021-09-07T17:41:18.060Z"
   },
   {
    "duration": 149,
    "start_time": "2021-09-07T17:41:18.073Z"
   },
   {
    "duration": 39,
    "start_time": "2021-09-07T17:41:18.224Z"
   },
   {
    "duration": 8,
    "start_time": "2021-09-07T17:41:18.264Z"
   },
   {
    "duration": 715,
    "start_time": "2021-09-07T17:41:18.273Z"
   },
   {
    "duration": 24,
    "start_time": "2021-09-07T17:41:18.990Z"
   },
   {
    "duration": 25,
    "start_time": "2021-09-07T17:41:19.016Z"
   },
   {
    "duration": 24,
    "start_time": "2021-09-07T17:41:19.043Z"
   },
   {
    "duration": 1201,
    "start_time": "2021-09-07T17:41:19.069Z"
   },
   {
    "duration": 614,
    "start_time": "2021-09-07T17:42:02.101Z"
   },
   {
    "duration": 702,
    "start_time": "2021-09-07T17:44:24.351Z"
   },
   {
    "duration": 633,
    "start_time": "2021-09-07T17:44:30.635Z"
   },
   {
    "duration": 1406,
    "start_time": "2021-09-07T17:48:20.317Z"
   },
   {
    "duration": 1322,
    "start_time": "2021-09-07T17:50:25.353Z"
   },
   {
    "duration": 323,
    "start_time": "2021-09-07T17:56:08.085Z"
   },
   {
    "duration": 1602,
    "start_time": "2021-09-07T17:56:26.480Z"
   },
   {
    "duration": 576,
    "start_time": "2021-09-07T18:01:34.162Z"
   },
   {
    "duration": 1969,
    "start_time": "2021-09-07T18:01:34.740Z"
   },
   {
    "duration": 45,
    "start_time": "2021-09-07T18:01:36.711Z"
   },
   {
    "duration": 162,
    "start_time": "2021-09-07T18:01:36.758Z"
   },
   {
    "duration": 70,
    "start_time": "2021-09-07T18:01:36.922Z"
   },
   {
    "duration": 112,
    "start_time": "2021-09-07T18:01:36.994Z"
   },
   {
    "duration": 36,
    "start_time": "2021-09-07T18:01:37.108Z"
   },
   {
    "duration": 3,
    "start_time": "2021-09-07T18:01:37.147Z"
   },
   {
    "duration": 13,
    "start_time": "2021-09-07T18:01:37.152Z"
   },
   {
    "duration": 5,
    "start_time": "2021-09-07T18:01:37.167Z"
   },
   {
    "duration": 176,
    "start_time": "2021-09-07T18:01:37.174Z"
   },
   {
    "duration": 28,
    "start_time": "2021-09-07T18:01:37.352Z"
   },
   {
    "duration": 7,
    "start_time": "2021-09-07T18:01:37.382Z"
   },
   {
    "duration": 777,
    "start_time": "2021-09-07T18:01:37.391Z"
   },
   {
    "duration": 27,
    "start_time": "2021-09-07T18:01:38.170Z"
   },
   {
    "duration": 9,
    "start_time": "2021-09-07T18:01:38.199Z"
   },
   {
    "duration": 57,
    "start_time": "2021-09-07T18:01:38.210Z"
   },
   {
    "duration": 1216,
    "start_time": "2021-09-07T18:01:38.269Z"
   },
   {
    "duration": 562,
    "start_time": "2021-09-07T18:07:17.985Z"
   },
   {
    "duration": 2012,
    "start_time": "2021-09-07T18:07:18.549Z"
   },
   {
    "duration": 25,
    "start_time": "2021-09-07T18:07:20.564Z"
   },
   {
    "duration": 186,
    "start_time": "2021-09-07T18:07:20.592Z"
   },
   {
    "duration": 76,
    "start_time": "2021-09-07T18:07:20.780Z"
   },
   {
    "duration": 112,
    "start_time": "2021-09-07T18:07:20.857Z"
   },
   {
    "duration": 22,
    "start_time": "2021-09-07T18:07:20.971Z"
   },
   {
    "duration": 3,
    "start_time": "2021-09-07T18:07:20.997Z"
   },
   {
    "duration": 8,
    "start_time": "2021-09-07T18:07:21.002Z"
   },
   {
    "duration": 33,
    "start_time": "2021-09-07T18:07:21.011Z"
   },
   {
    "duration": 176,
    "start_time": "2021-09-07T18:07:21.046Z"
   },
   {
    "duration": 46,
    "start_time": "2021-09-07T18:07:21.224Z"
   },
   {
    "duration": 8,
    "start_time": "2021-09-07T18:07:21.272Z"
   },
   {
    "duration": 33,
    "start_time": "2021-09-07T18:07:21.281Z"
   },
   {
    "duration": 854,
    "start_time": "2021-09-07T18:07:21.315Z"
   },
   {
    "duration": 30,
    "start_time": "2021-09-07T18:07:22.171Z"
   },
   {
    "duration": 7,
    "start_time": "2021-09-07T18:07:22.203Z"
   },
   {
    "duration": 52,
    "start_time": "2021-09-07T18:07:22.211Z"
   },
   {
    "duration": 1199,
    "start_time": "2021-09-07T18:07:22.265Z"
   },
   {
    "duration": 1351,
    "start_time": "2021-09-07T18:09:20.620Z"
   },
   {
    "duration": 1279,
    "start_time": "2021-09-07T18:09:45.623Z"
   },
   {
    "duration": 1352,
    "start_time": "2021-09-07T18:10:05.689Z"
   },
   {
    "duration": 403,
    "start_time": "2021-09-07T18:11:34.091Z"
   },
   {
    "duration": 336,
    "start_time": "2021-09-07T18:14:38.569Z"
   },
   {
    "duration": 7,
    "start_time": "2021-09-07T18:15:18.767Z"
   },
   {
    "duration": 6,
    "start_time": "2021-09-07T18:20:15.587Z"
   },
   {
    "duration": 5,
    "start_time": "2021-09-07T18:20:30.277Z"
   },
   {
    "duration": 7,
    "start_time": "2021-09-07T18:20:37.848Z"
   },
   {
    "duration": 5,
    "start_time": "2021-09-07T18:20:44.934Z"
   },
   {
    "duration": 8,
    "start_time": "2021-09-07T18:22:29.505Z"
   },
   {
    "duration": 101,
    "start_time": "2021-09-07T18:24:59.198Z"
   },
   {
    "duration": 935,
    "start_time": "2021-09-07T18:27:00.744Z"
   },
   {
    "duration": 1989,
    "start_time": "2021-09-07T18:27:01.680Z"
   },
   {
    "duration": 25,
    "start_time": "2021-09-07T18:27:03.671Z"
   },
   {
    "duration": 189,
    "start_time": "2021-09-07T18:27:03.698Z"
   },
   {
    "duration": 74,
    "start_time": "2021-09-07T18:27:03.889Z"
   },
   {
    "duration": 113,
    "start_time": "2021-09-07T18:27:03.965Z"
   },
   {
    "duration": 21,
    "start_time": "2021-09-07T18:27:04.079Z"
   },
   {
    "duration": 3,
    "start_time": "2021-09-07T18:27:04.103Z"
   },
   {
    "duration": 6,
    "start_time": "2021-09-07T18:27:04.107Z"
   },
   {
    "duration": 5,
    "start_time": "2021-09-07T18:27:04.115Z"
   },
   {
    "duration": 215,
    "start_time": "2021-09-07T18:27:04.143Z"
   },
   {
    "duration": 27,
    "start_time": "2021-09-07T18:27:04.359Z"
   },
   {
    "duration": 7,
    "start_time": "2021-09-07T18:27:04.388Z"
   },
   {
    "duration": 49,
    "start_time": "2021-09-07T18:27:04.397Z"
   },
   {
    "duration": 708,
    "start_time": "2021-09-07T18:27:04.448Z"
   },
   {
    "duration": 27,
    "start_time": "2021-09-07T18:27:05.158Z"
   },
   {
    "duration": 10,
    "start_time": "2021-09-07T18:27:05.187Z"
   },
   {
    "duration": 47,
    "start_time": "2021-09-07T18:27:05.199Z"
   },
   {
    "duration": 1267,
    "start_time": "2021-09-07T18:27:05.248Z"
   },
   {
    "duration": 8,
    "start_time": "2021-09-07T18:27:06.517Z"
   },
   {
    "duration": 25,
    "start_time": "2021-09-07T18:27:06.526Z"
   },
   {
    "duration": 95,
    "start_time": "2021-09-07T18:30:09.104Z"
   },
   {
    "duration": 1210,
    "start_time": "2021-09-08T05:13:19.624Z"
   },
   {
    "duration": 3023,
    "start_time": "2021-09-08T05:13:20.837Z"
   },
   {
    "duration": 72,
    "start_time": "2021-09-08T05:13:23.865Z"
   },
   {
    "duration": 363,
    "start_time": "2021-09-08T05:13:23.940Z"
   },
   {
    "duration": 138,
    "start_time": "2021-09-08T05:13:24.306Z"
   },
   {
    "duration": 150,
    "start_time": "2021-09-08T05:13:24.447Z"
   },
   {
    "duration": 35,
    "start_time": "2021-09-08T05:13:24.617Z"
   },
   {
    "duration": 5,
    "start_time": "2021-09-08T05:13:24.658Z"
   },
   {
    "duration": 11,
    "start_time": "2021-09-08T05:13:24.667Z"
   },
   {
    "duration": 5,
    "start_time": "2021-09-08T05:13:24.718Z"
   },
   {
    "duration": 337,
    "start_time": "2021-09-08T05:13:24.725Z"
   },
   {
    "duration": 56,
    "start_time": "2021-09-08T05:13:25.065Z"
   },
   {
    "duration": 11,
    "start_time": "2021-09-08T05:13:25.123Z"
   },
   {
    "duration": 57,
    "start_time": "2021-09-08T05:13:25.136Z"
   },
   {
    "duration": 1205,
    "start_time": "2021-09-08T05:13:25.215Z"
   },
   {
    "duration": 42,
    "start_time": "2021-09-08T05:13:26.423Z"
   },
   {
    "duration": 12,
    "start_time": "2021-09-08T05:13:26.467Z"
   },
   {
    "duration": 79,
    "start_time": "2021-09-08T05:13:26.481Z"
   },
   {
    "duration": 2220,
    "start_time": "2021-09-08T05:13:26.562Z"
   },
   {
    "duration": 15,
    "start_time": "2021-09-08T05:13:28.785Z"
   },
   {
    "duration": 25,
    "start_time": "2021-09-08T05:13:28.802Z"
   },
   {
    "duration": 1146,
    "start_time": "2021-09-08T07:59:35.136Z"
   },
   {
    "duration": 357,
    "start_time": "2021-09-08T07:59:36.285Z"
   },
   {
    "duration": 80,
    "start_time": "2021-09-08T07:59:36.565Z"
   },
   {
    "duration": 71,
    "start_time": "2021-09-08T07:59:36.576Z"
   },
   {
    "duration": 54,
    "start_time": "2021-09-08T07:59:36.594Z"
   },
   {
    "duration": 40,
    "start_time": "2021-09-08T07:59:36.610Z"
   },
   {
    "duration": 28,
    "start_time": "2021-09-08T07:59:36.623Z"
   },
   {
    "duration": 16,
    "start_time": "2021-09-08T07:59:36.637Z"
   },
   {
    "duration": 10,
    "start_time": "2021-09-08T07:59:36.644Z"
   },
   {
    "duration": 3,
    "start_time": "2021-09-08T07:59:36.653Z"
   },
   {
    "duration": -25,
    "start_time": "2021-09-08T07:59:36.683Z"
   },
   {
    "duration": -32,
    "start_time": "2021-09-08T07:59:36.691Z"
   },
   {
    "duration": -36,
    "start_time": "2021-09-08T07:59:36.697Z"
   },
   {
    "duration": -76,
    "start_time": "2021-09-08T07:59:36.739Z"
   },
   {
    "duration": -105,
    "start_time": "2021-09-08T07:59:36.769Z"
   },
   {
    "duration": -153,
    "start_time": "2021-09-08T07:59:36.819Z"
   },
   {
    "duration": -158,
    "start_time": "2021-09-08T07:59:36.825Z"
   },
   {
    "duration": -171,
    "start_time": "2021-09-08T07:59:36.839Z"
   },
   {
    "duration": -182,
    "start_time": "2021-09-08T07:59:36.851Z"
   },
   {
    "duration": -191,
    "start_time": "2021-09-08T07:59:36.862Z"
   },
   {
    "duration": -201,
    "start_time": "2021-09-08T07:59:36.873Z"
   },
   {
    "duration": 1065,
    "start_time": "2021-09-08T08:01:07.108Z"
   },
   {
    "duration": 2725,
    "start_time": "2021-09-08T08:01:08.175Z"
   },
   {
    "duration": 35,
    "start_time": "2021-09-08T08:01:10.903Z"
   },
   {
    "duration": 233,
    "start_time": "2021-09-08T08:01:10.941Z"
   },
   {
    "duration": 81,
    "start_time": "2021-09-08T08:01:11.176Z"
   },
   {
    "duration": 1120,
    "start_time": "2021-09-08T08:01:11.282Z"
   },
   {
    "duration": 118,
    "start_time": "2021-09-08T08:01:12.287Z"
   },
   {
    "duration": 109,
    "start_time": "2021-09-08T08:01:12.298Z"
   },
   {
    "duration": 96,
    "start_time": "2021-09-08T08:01:12.312Z"
   },
   {
    "duration": 85,
    "start_time": "2021-09-08T08:01:12.324Z"
   },
   {
    "duration": 77,
    "start_time": "2021-09-08T08:01:12.333Z"
   },
   {
    "duration": 69,
    "start_time": "2021-09-08T08:01:12.343Z"
   },
   {
    "duration": 61,
    "start_time": "2021-09-08T08:01:12.352Z"
   },
   {
    "duration": 22,
    "start_time": "2021-09-08T08:01:12.392Z"
   },
   {
    "duration": 14,
    "start_time": "2021-09-08T08:01:12.401Z"
   },
   {
    "duration": 5,
    "start_time": "2021-09-08T08:01:12.412Z"
   },
   {
    "duration": -7,
    "start_time": "2021-09-08T08:01:12.425Z"
   },
   {
    "duration": -15,
    "start_time": "2021-09-08T08:01:12.435Z"
   },
   {
    "duration": -22,
    "start_time": "2021-09-08T08:01:12.443Z"
   },
   {
    "duration": -32,
    "start_time": "2021-09-08T08:01:12.454Z"
   },
   {
    "duration": -39,
    "start_time": "2021-09-08T08:01:12.462Z"
   },
   {
    "duration": 1368,
    "start_time": "2021-09-08T08:36:15.104Z"
   },
   {
    "duration": 2923,
    "start_time": "2021-09-08T08:36:16.474Z"
   },
   {
    "duration": 39,
    "start_time": "2021-09-08T08:36:19.401Z"
   },
   {
    "duration": 223,
    "start_time": "2021-09-08T08:36:19.443Z"
   },
   {
    "duration": 85,
    "start_time": "2021-09-08T08:36:19.669Z"
   },
   {
    "duration": 3089,
    "start_time": "2021-09-08T08:36:19.756Z"
   },
   {
    "duration": 264,
    "start_time": "2021-09-08T08:36:22.585Z"
   },
   {
    "duration": 256,
    "start_time": "2021-09-08T08:36:22.594Z"
   },
   {
    "duration": 254,
    "start_time": "2021-09-08T08:36:22.598Z"
   },
   {
    "duration": 253,
    "start_time": "2021-09-08T08:36:22.600Z"
   },
   {
    "duration": 251,
    "start_time": "2021-09-08T08:36:22.604Z"
   },
   {
    "duration": 248,
    "start_time": "2021-09-08T08:36:22.608Z"
   },
   {
    "duration": 245,
    "start_time": "2021-09-08T08:36:22.613Z"
   },
   {
    "duration": 243,
    "start_time": "2021-09-08T08:36:22.616Z"
   },
   {
    "duration": 241,
    "start_time": "2021-09-08T08:36:22.620Z"
   },
   {
    "duration": 240,
    "start_time": "2021-09-08T08:36:22.623Z"
   },
   {
    "duration": 237,
    "start_time": "2021-09-08T08:36:22.627Z"
   },
   {
    "duration": 236,
    "start_time": "2021-09-08T08:36:22.630Z"
   },
   {
    "duration": 233,
    "start_time": "2021-09-08T08:36:22.634Z"
   },
   {
    "duration": 232,
    "start_time": "2021-09-08T08:36:22.637Z"
   },
   {
    "duration": 230,
    "start_time": "2021-09-08T08:36:22.641Z"
   },
   {
    "duration": 123,
    "start_time": "2021-09-08T08:37:03.893Z"
   },
   {
    "duration": 1282,
    "start_time": "2021-09-08T08:37:11.400Z"
   },
   {
    "duration": 2731,
    "start_time": "2021-09-08T08:37:12.685Z"
   },
   {
    "duration": 33,
    "start_time": "2021-09-08T08:37:15.419Z"
   },
   {
    "duration": 201,
    "start_time": "2021-09-08T08:37:15.483Z"
   },
   {
    "duration": 104,
    "start_time": "2021-09-08T08:37:15.687Z"
   },
   {
    "duration": 129,
    "start_time": "2021-09-08T08:37:15.793Z"
   },
   {
    "duration": 28,
    "start_time": "2021-09-08T08:37:15.924Z"
   },
   {
    "duration": 5,
    "start_time": "2021-09-08T08:37:15.983Z"
   },
   {
    "duration": 7,
    "start_time": "2021-09-08T08:37:15.990Z"
   },
   {
    "duration": 5,
    "start_time": "2021-09-08T08:37:15.999Z"
   },
   {
    "duration": 308,
    "start_time": "2021-09-08T08:37:16.006Z"
   },
   {
    "duration": 37,
    "start_time": "2021-09-08T08:37:16.317Z"
   },
   {
    "duration": 27,
    "start_time": "2021-09-08T08:37:16.357Z"
   },
   {
    "duration": 43,
    "start_time": "2021-09-08T08:37:16.387Z"
   },
   {
    "duration": 1207,
    "start_time": "2021-09-08T08:37:16.432Z"
   },
   {
    "duration": 53,
    "start_time": "2021-09-08T08:37:17.642Z"
   },
   {
    "duration": 12,
    "start_time": "2021-09-08T08:37:17.697Z"
   },
   {
    "duration": 73,
    "start_time": "2021-09-08T08:37:17.711Z"
   },
   {
    "duration": 2027,
    "start_time": "2021-09-08T08:37:17.787Z"
   },
   {
    "duration": 13,
    "start_time": "2021-09-08T08:37:19.816Z"
   },
   {
    "duration": 19,
    "start_time": "2021-09-08T08:37:19.832Z"
   },
   {
    "duration": 2352,
    "start_time": "2021-09-08T08:38:44.441Z"
   },
   {
    "duration": 972,
    "start_time": "2021-09-08T08:38:46.796Z"
   },
   {
    "duration": 167,
    "start_time": "2021-09-08T08:38:47.604Z"
   },
   {
    "duration": 157,
    "start_time": "2021-09-08T08:38:47.615Z"
   },
   {
    "duration": 150,
    "start_time": "2021-09-08T08:38:47.624Z"
   },
   {
    "duration": 133,
    "start_time": "2021-09-08T08:38:47.642Z"
   },
   {
    "duration": 122,
    "start_time": "2021-09-08T08:38:47.655Z"
   },
   {
    "duration": 110,
    "start_time": "2021-09-08T08:38:47.668Z"
   },
   {
    "duration": 99,
    "start_time": "2021-09-08T08:38:47.680Z"
   },
   {
    "duration": 83,
    "start_time": "2021-09-08T08:38:47.698Z"
   },
   {
    "duration": 50,
    "start_time": "2021-09-08T08:38:47.732Z"
   },
   {
    "duration": 40,
    "start_time": "2021-09-08T08:38:47.744Z"
   },
   {
    "duration": 28,
    "start_time": "2021-09-08T08:38:47.757Z"
   },
   {
    "duration": 15,
    "start_time": "2021-09-08T08:38:47.772Z"
   },
   {
    "duration": 0,
    "start_time": "2021-09-08T08:38:47.788Z"
   },
   {
    "duration": -12,
    "start_time": "2021-09-08T08:38:47.802Z"
   },
   {
    "duration": -18,
    "start_time": "2021-09-08T08:38:47.810Z"
   },
   {
    "duration": -31,
    "start_time": "2021-09-08T08:38:47.825Z"
   },
   {
    "duration": -75,
    "start_time": "2021-09-08T08:38:47.870Z"
   },
   {
    "duration": -86,
    "start_time": "2021-09-08T08:38:47.883Z"
   },
   {
    "duration": -100,
    "start_time": "2021-09-08T08:38:47.899Z"
   },
   {
    "duration": 2830,
    "start_time": "2021-09-08T08:39:10.781Z"
   },
   {
    "duration": 1073,
    "start_time": "2021-09-08T08:57:33.909Z"
   },
   {
    "duration": 3053,
    "start_time": "2021-09-08T08:57:34.985Z"
   },
   {
    "duration": 62,
    "start_time": "2021-09-08T08:57:38.040Z"
   },
   {
    "duration": 219,
    "start_time": "2021-09-08T08:57:38.105Z"
   },
   {
    "duration": 106,
    "start_time": "2021-09-08T08:57:38.326Z"
   },
   {
    "duration": 156,
    "start_time": "2021-09-08T08:57:38.435Z"
   },
   {
    "duration": 32,
    "start_time": "2021-09-08T08:57:38.593Z"
   },
   {
    "duration": 5,
    "start_time": "2021-09-08T08:57:38.628Z"
   },
   {
    "duration": 10,
    "start_time": "2021-09-08T08:57:38.635Z"
   },
   {
    "duration": 4,
    "start_time": "2021-09-08T08:57:38.683Z"
   },
   {
    "duration": 309,
    "start_time": "2021-09-08T08:57:38.689Z"
   },
   {
    "duration": 42,
    "start_time": "2021-09-08T08:57:39.001Z"
   },
   {
    "duration": 37,
    "start_time": "2021-09-08T08:57:39.045Z"
   },
   {
    "duration": 47,
    "start_time": "2021-09-08T08:57:39.085Z"
   },
   {
    "duration": 1287,
    "start_time": "2021-09-08T08:57:39.135Z"
   },
   {
    "duration": 46,
    "start_time": "2021-09-08T08:57:40.425Z"
   },
   {
    "duration": 14,
    "start_time": "2021-09-08T08:57:40.474Z"
   },
   {
    "duration": 47,
    "start_time": "2021-09-08T08:57:40.490Z"
   },
   {
    "duration": 2305,
    "start_time": "2021-09-08T08:57:40.540Z"
   },
   {
    "duration": 14,
    "start_time": "2021-09-08T08:57:42.848Z"
   },
   {
    "duration": 334,
    "start_time": "2021-09-08T08:57:42.864Z"
   },
   {
    "duration": 9101,
    "start_time": "2021-09-08T08:58:08.376Z"
   },
   {
    "duration": 1123,
    "start_time": "2021-09-08T08:58:33.602Z"
   },
   {
    "duration": 2777,
    "start_time": "2021-09-08T08:58:34.728Z"
   },
   {
    "duration": 37,
    "start_time": "2021-09-08T08:58:37.508Z"
   },
   {
    "duration": 239,
    "start_time": "2021-09-08T08:58:37.548Z"
   },
   {
    "duration": 104,
    "start_time": "2021-09-08T08:58:37.789Z"
   },
   {
    "duration": 147,
    "start_time": "2021-09-08T08:58:37.895Z"
   },
   {
    "duration": 44,
    "start_time": "2021-09-08T08:58:38.045Z"
   },
   {
    "duration": 28,
    "start_time": "2021-09-08T08:58:38.092Z"
   },
   {
    "duration": 5,
    "start_time": "2021-09-08T08:58:38.123Z"
   },
   {
    "duration": 46,
    "start_time": "2021-09-08T08:58:38.130Z"
   },
   {
    "duration": 6,
    "start_time": "2021-09-08T08:58:38.179Z"
   },
   {
    "duration": 278,
    "start_time": "2021-09-08T08:58:38.187Z"
   },
   {
    "duration": 50,
    "start_time": "2021-09-08T08:58:38.467Z"
   },
   {
    "duration": 10,
    "start_time": "2021-09-08T08:58:38.519Z"
   },
   {
    "duration": 66,
    "start_time": "2021-09-08T08:58:38.531Z"
   },
   {
    "duration": 1126,
    "start_time": "2021-09-08T08:58:38.599Z"
   },
   {
    "duration": 55,
    "start_time": "2021-09-08T08:58:39.728Z"
   },
   {
    "duration": 10,
    "start_time": "2021-09-08T08:58:39.785Z"
   },
   {
    "duration": 41,
    "start_time": "2021-09-08T08:58:39.797Z"
   },
   {
    "duration": 2248,
    "start_time": "2021-09-08T08:58:39.840Z"
   },
   {
    "duration": 13,
    "start_time": "2021-09-08T08:58:42.091Z"
   },
   {
    "duration": 19,
    "start_time": "2021-09-08T08:58:42.106Z"
   },
   {
    "duration": 41,
    "start_time": "2021-09-08T09:00:53.542Z"
   },
   {
    "duration": 48,
    "start_time": "2021-09-08T09:01:08.786Z"
   },
   {
    "duration": 4,
    "start_time": "2021-09-08T09:01:32.532Z"
   },
   {
    "duration": 4,
    "start_time": "2021-09-08T09:01:35.110Z"
   },
   {
    "duration": 936,
    "start_time": "2021-09-09T11:17:19.984Z"
   },
   {
    "duration": 2122,
    "start_time": "2021-09-09T11:17:20.922Z"
   },
   {
    "duration": 47,
    "start_time": "2021-09-09T11:17:23.046Z"
   },
   {
    "duration": 155,
    "start_time": "2021-09-09T11:17:23.095Z"
   },
   {
    "duration": 70,
    "start_time": "2021-09-09T11:17:23.251Z"
   },
   {
    "duration": 111,
    "start_time": "2021-09-09T11:17:23.323Z"
   },
   {
    "duration": 30,
    "start_time": "2021-09-09T11:17:23.436Z"
   },
   {
    "duration": 33,
    "start_time": "2021-09-09T11:17:23.469Z"
   },
   {
    "duration": 6,
    "start_time": "2021-09-09T11:17:23.504Z"
   },
   {
    "duration": 5,
    "start_time": "2021-09-09T11:17:23.512Z"
   },
   {
    "duration": 4,
    "start_time": "2021-09-09T11:17:23.519Z"
   },
   {
    "duration": 238,
    "start_time": "2021-09-09T11:17:23.525Z"
   },
   {
    "duration": 37,
    "start_time": "2021-09-09T11:17:23.764Z"
   },
   {
    "duration": 7,
    "start_time": "2021-09-09T11:17:23.802Z"
   },
   {
    "duration": 29,
    "start_time": "2021-09-09T11:17:23.810Z"
   },
   {
    "duration": 949,
    "start_time": "2021-09-09T11:17:23.840Z"
   },
   {
    "duration": -153,
    "start_time": "2021-09-09T11:17:24.944Z"
   },
   {
    "duration": -156,
    "start_time": "2021-09-09T11:17:24.948Z"
   },
   {
    "duration": -159,
    "start_time": "2021-09-09T11:17:24.952Z"
   },
   {
    "duration": -163,
    "start_time": "2021-09-09T11:17:24.957Z"
   },
   {
    "duration": -168,
    "start_time": "2021-09-09T11:17:24.963Z"
   },
   {
    "duration": -171,
    "start_time": "2021-09-09T11:17:24.967Z"
   },
   {
    "duration": -175,
    "start_time": "2021-09-09T11:17:24.971Z"
   },
   {
    "duration": 916,
    "start_time": "2021-09-09T11:18:14.899Z"
   },
   {
    "duration": 2089,
    "start_time": "2021-09-09T11:18:15.817Z"
   },
   {
    "duration": 21,
    "start_time": "2021-09-09T11:18:17.908Z"
   },
   {
    "duration": 168,
    "start_time": "2021-09-09T11:18:17.931Z"
   },
   {
    "duration": 60,
    "start_time": "2021-09-09T11:18:18.101Z"
   },
   {
    "duration": 123,
    "start_time": "2021-09-09T11:18:18.163Z"
   },
   {
    "duration": 34,
    "start_time": "2021-09-09T11:18:18.288Z"
   },
   {
    "duration": 26,
    "start_time": "2021-09-09T11:18:18.325Z"
   },
   {
    "duration": 32,
    "start_time": "2021-09-09T11:18:18.354Z"
   },
   {
    "duration": 11,
    "start_time": "2021-09-09T11:18:18.388Z"
   },
   {
    "duration": 7,
    "start_time": "2021-09-09T11:18:18.401Z"
   },
   {
    "duration": 220,
    "start_time": "2021-09-09T11:18:18.409Z"
   },
   {
    "duration": 26,
    "start_time": "2021-09-09T11:18:18.631Z"
   },
   {
    "duration": 27,
    "start_time": "2021-09-09T11:18:18.659Z"
   },
   {
    "duration": 23,
    "start_time": "2021-09-09T11:18:18.687Z"
   },
   {
    "duration": 744,
    "start_time": "2021-09-09T11:18:18.712Z"
   },
   {
    "duration": 36,
    "start_time": "2021-09-09T11:18:19.458Z"
   },
   {
    "duration": 8,
    "start_time": "2021-09-09T11:18:19.496Z"
   },
   {
    "duration": 28,
    "start_time": "2021-09-09T11:18:19.505Z"
   },
   {
    "duration": 5,
    "start_time": "2021-09-09T11:18:19.534Z"
   },
   {
    "duration": 1420,
    "start_time": "2021-09-09T11:18:19.541Z"
   },
   {
    "duration": 8,
    "start_time": "2021-09-09T11:18:20.963Z"
   },
   {
    "duration": 34,
    "start_time": "2021-09-09T11:18:20.973Z"
   },
   {
    "duration": 6,
    "start_time": "2021-09-09T11:23:09.797Z"
   },
   {
    "duration": 6,
    "start_time": "2021-09-09T11:23:21.674Z"
   },
   {
    "duration": 15,
    "start_time": "2021-09-09T11:26:09.624Z"
   },
   {
    "duration": 18,
    "start_time": "2021-09-09T11:26:25.939Z"
   },
   {
    "duration": 16,
    "start_time": "2021-09-09T11:27:56.008Z"
   },
   {
    "duration": 23,
    "start_time": "2021-09-09T11:31:28.547Z"
   },
   {
    "duration": 16,
    "start_time": "2021-09-09T11:31:51.331Z"
   },
   {
    "duration": 16,
    "start_time": "2021-09-09T11:33:29.282Z"
   },
   {
    "duration": 16,
    "start_time": "2021-09-09T11:34:35.990Z"
   },
   {
    "duration": 16,
    "start_time": "2021-09-09T11:34:48.479Z"
   },
   {
    "duration": 13,
    "start_time": "2021-09-09T11:57:49.097Z"
   },
   {
    "duration": 11,
    "start_time": "2021-09-09T11:57:55.559Z"
   },
   {
    "duration": 14,
    "start_time": "2021-09-09T12:00:22.347Z"
   },
   {
    "duration": 25,
    "start_time": "2021-09-09T12:23:44.873Z"
   },
   {
    "duration": 1151,
    "start_time": "2021-09-09T12:23:58.264Z"
   },
   {
    "duration": 2018,
    "start_time": "2021-09-09T12:23:59.416Z"
   },
   {
    "duration": 22,
    "start_time": "2021-09-09T12:24:01.436Z"
   },
   {
    "duration": 150,
    "start_time": "2021-09-09T12:24:01.484Z"
   },
   {
    "duration": 80,
    "start_time": "2021-09-09T12:24:01.635Z"
   },
   {
    "duration": 111,
    "start_time": "2021-09-09T12:24:01.717Z"
   },
   {
    "duration": 33,
    "start_time": "2021-09-09T12:24:01.830Z"
   },
   {
    "duration": 38,
    "start_time": "2021-09-09T12:24:01.865Z"
   },
   {
    "duration": 3,
    "start_time": "2021-09-09T12:24:01.906Z"
   },
   {
    "duration": 19,
    "start_time": "2021-09-09T12:24:01.911Z"
   },
   {
    "duration": 19,
    "start_time": "2021-09-09T12:24:01.932Z"
   },
   {
    "duration": 917,
    "start_time": "2021-09-09T12:24:01.952Z"
   },
   {
    "duration": -128,
    "start_time": "2021-09-09T12:24:02.999Z"
   },
   {
    "duration": -140,
    "start_time": "2021-09-09T12:24:03.013Z"
   },
   {
    "duration": -144,
    "start_time": "2021-09-09T12:24:03.018Z"
   },
   {
    "duration": -155,
    "start_time": "2021-09-09T12:24:03.030Z"
   },
   {
    "duration": -158,
    "start_time": "2021-09-09T12:24:03.035Z"
   },
   {
    "duration": -169,
    "start_time": "2021-09-09T12:24:03.047Z"
   },
   {
    "duration": -171,
    "start_time": "2021-09-09T12:24:03.051Z"
   },
   {
    "duration": -180,
    "start_time": "2021-09-09T12:24:03.061Z"
   },
   {
    "duration": -182,
    "start_time": "2021-09-09T12:24:03.064Z"
   },
   {
    "duration": -185,
    "start_time": "2021-09-09T12:24:03.069Z"
   },
   {
    "duration": -192,
    "start_time": "2021-09-09T12:24:03.077Z"
   },
   {
    "duration": 936,
    "start_time": "2021-09-09T12:24:38.874Z"
   },
   {
    "duration": 2035,
    "start_time": "2021-09-09T12:24:39.811Z"
   },
   {
    "duration": 49,
    "start_time": "2021-09-09T12:24:41.848Z"
   },
   {
    "duration": 147,
    "start_time": "2021-09-09T12:24:41.899Z"
   },
   {
    "duration": 70,
    "start_time": "2021-09-09T12:24:42.048Z"
   },
   {
    "duration": 100,
    "start_time": "2021-09-09T12:24:42.120Z"
   },
   {
    "duration": 28,
    "start_time": "2021-09-09T12:24:42.222Z"
   },
   {
    "duration": 39,
    "start_time": "2021-09-09T12:24:42.253Z"
   },
   {
    "duration": 2,
    "start_time": "2021-09-09T12:24:42.294Z"
   },
   {
    "duration": 18,
    "start_time": "2021-09-09T12:24:42.298Z"
   },
   {
    "duration": 30,
    "start_time": "2021-09-09T12:24:42.317Z"
   },
   {
    "duration": 716,
    "start_time": "2021-09-09T12:24:42.348Z"
   },
   {
    "duration": -110,
    "start_time": "2021-09-09T12:24:43.175Z"
   },
   {
    "duration": -137,
    "start_time": "2021-09-09T12:24:43.203Z"
   },
   {
    "duration": -152,
    "start_time": "2021-09-09T12:24:43.219Z"
   },
   {
    "duration": -168,
    "start_time": "2021-09-09T12:24:43.236Z"
   },
   {
    "duration": -184,
    "start_time": "2021-09-09T12:24:43.253Z"
   },
   {
    "duration": -210,
    "start_time": "2021-09-09T12:24:43.280Z"
   },
   {
    "duration": -216,
    "start_time": "2021-09-09T12:24:43.287Z"
   },
   {
    "duration": -243,
    "start_time": "2021-09-09T12:24:43.315Z"
   },
   {
    "duration": -259,
    "start_time": "2021-09-09T12:24:43.332Z"
   },
   {
    "duration": -277,
    "start_time": "2021-09-09T12:24:43.351Z"
   },
   {
    "duration": -289,
    "start_time": "2021-09-09T12:24:43.365Z"
   },
   {
    "duration": 380,
    "start_time": "2021-09-09T12:25:36.737Z"
   },
   {
    "duration": 911,
    "start_time": "2021-09-09T12:25:55.905Z"
   },
   {
    "duration": 2029,
    "start_time": "2021-09-09T12:25:56.818Z"
   },
   {
    "duration": 43,
    "start_time": "2021-09-09T12:25:58.848Z"
   },
   {
    "duration": 152,
    "start_time": "2021-09-09T12:25:58.893Z"
   },
   {
    "duration": 72,
    "start_time": "2021-09-09T12:25:59.047Z"
   },
   {
    "duration": 105,
    "start_time": "2021-09-09T12:25:59.120Z"
   },
   {
    "duration": 29,
    "start_time": "2021-09-09T12:25:59.227Z"
   },
   {
    "duration": 38,
    "start_time": "2021-09-09T12:25:59.258Z"
   },
   {
    "duration": 3,
    "start_time": "2021-09-09T12:25:59.298Z"
   },
   {
    "duration": 13,
    "start_time": "2021-09-09T12:25:59.302Z"
   },
   {
    "duration": 21,
    "start_time": "2021-09-09T12:25:59.317Z"
   },
   {
    "duration": 524,
    "start_time": "2021-09-09T12:25:59.339Z"
   },
   {
    "duration": -90,
    "start_time": "2021-09-09T12:25:59.955Z"
   },
   {
    "duration": -95,
    "start_time": "2021-09-09T12:25:59.961Z"
   },
   {
    "duration": -101,
    "start_time": "2021-09-09T12:25:59.968Z"
   },
   {
    "duration": -107,
    "start_time": "2021-09-09T12:25:59.974Z"
   },
   {
    "duration": -109,
    "start_time": "2021-09-09T12:25:59.978Z"
   },
   {
    "duration": -119,
    "start_time": "2021-09-09T12:25:59.988Z"
   },
   {
    "duration": -123,
    "start_time": "2021-09-09T12:25:59.993Z"
   },
   {
    "duration": -129,
    "start_time": "2021-09-09T12:26:00.000Z"
   },
   {
    "duration": -135,
    "start_time": "2021-09-09T12:26:00.007Z"
   },
   {
    "duration": -144,
    "start_time": "2021-09-09T12:26:00.017Z"
   },
   {
    "duration": -148,
    "start_time": "2021-09-09T12:26:00.022Z"
   },
   {
    "duration": 878,
    "start_time": "2021-09-09T12:26:52.538Z"
   },
   {
    "duration": 1995,
    "start_time": "2021-09-09T12:26:53.418Z"
   },
   {
    "duration": 20,
    "start_time": "2021-09-09T12:26:55.415Z"
   },
   {
    "duration": 178,
    "start_time": "2021-09-09T12:26:55.437Z"
   },
   {
    "duration": 70,
    "start_time": "2021-09-09T12:26:55.617Z"
   },
   {
    "duration": 102,
    "start_time": "2021-09-09T12:26:55.688Z"
   },
   {
    "duration": 29,
    "start_time": "2021-09-09T12:26:55.792Z"
   },
   {
    "duration": 18,
    "start_time": "2021-09-09T12:26:55.823Z"
   },
   {
    "duration": 3,
    "start_time": "2021-09-09T12:26:55.843Z"
   },
   {
    "duration": 37,
    "start_time": "2021-09-09T12:26:55.848Z"
   },
   {
    "duration": 3,
    "start_time": "2021-09-09T12:26:55.887Z"
   },
   {
    "duration": 211,
    "start_time": "2021-09-09T12:26:55.891Z"
   },
   {
    "duration": 23,
    "start_time": "2021-09-09T12:26:56.104Z"
   },
   {
    "duration": 7,
    "start_time": "2021-09-09T12:26:56.129Z"
   },
   {
    "duration": 15,
    "start_time": "2021-09-09T12:26:56.137Z"
   },
   {
    "duration": 751,
    "start_time": "2021-09-09T12:26:56.153Z"
   },
   {
    "duration": 26,
    "start_time": "2021-09-09T12:26:56.906Z"
   },
   {
    "duration": 7,
    "start_time": "2021-09-09T12:26:56.933Z"
   },
   {
    "duration": 13,
    "start_time": "2021-09-09T12:26:56.942Z"
   },
   {
    "duration": 1330,
    "start_time": "2021-09-09T12:26:56.984Z"
   },
   {
    "duration": 8,
    "start_time": "2021-09-09T12:26:58.316Z"
   },
   {
    "duration": 20,
    "start_time": "2021-09-09T12:26:58.326Z"
   },
   {
    "duration": 34,
    "start_time": "2021-09-09T12:26:58.349Z"
   },
   {
    "duration": 961,
    "start_time": "2021-09-09T12:29:22.861Z"
   },
   {
    "duration": 2166,
    "start_time": "2021-09-09T12:29:23.824Z"
   },
   {
    "duration": 33,
    "start_time": "2021-09-09T12:29:25.992Z"
   },
   {
    "duration": 186,
    "start_time": "2021-09-09T12:29:26.027Z"
   },
   {
    "duration": 77,
    "start_time": "2021-09-09T12:29:26.215Z"
   },
   {
    "duration": 112,
    "start_time": "2021-09-09T12:29:26.293Z"
   },
   {
    "duration": 33,
    "start_time": "2021-09-09T12:29:26.407Z"
   },
   {
    "duration": 44,
    "start_time": "2021-09-09T12:29:26.443Z"
   },
   {
    "duration": 5,
    "start_time": "2021-09-09T12:29:26.489Z"
   },
   {
    "duration": 5,
    "start_time": "2021-09-09T12:29:26.496Z"
   },
   {
    "duration": 8,
    "start_time": "2021-09-09T12:29:26.503Z"
   },
   {
    "duration": 228,
    "start_time": "2021-09-09T12:29:26.513Z"
   },
   {
    "duration": 43,
    "start_time": "2021-09-09T12:29:26.743Z"
   },
   {
    "duration": 9,
    "start_time": "2021-09-09T12:29:26.788Z"
   },
   {
    "duration": 18,
    "start_time": "2021-09-09T12:29:26.799Z"
   },
   {
    "duration": 805,
    "start_time": "2021-09-09T12:29:26.819Z"
   },
   {
    "duration": 26,
    "start_time": "2021-09-09T12:29:27.627Z"
   },
   {
    "duration": 7,
    "start_time": "2021-09-09T12:29:27.654Z"
   },
   {
    "duration": 41,
    "start_time": "2021-09-09T12:29:27.663Z"
   },
   {
    "duration": 1525,
    "start_time": "2021-09-09T12:29:27.706Z"
   },
   {
    "duration": 8,
    "start_time": "2021-09-09T12:29:29.233Z"
   },
   {
    "duration": 25,
    "start_time": "2021-09-09T12:29:29.243Z"
   },
   {
    "duration": 38,
    "start_time": "2021-09-09T12:29:29.271Z"
   },
   {
    "duration": 873,
    "start_time": "2021-09-09T12:32:10.834Z"
   },
   {
    "duration": 2033,
    "start_time": "2021-09-09T12:32:11.708Z"
   },
   {
    "duration": 42,
    "start_time": "2021-09-09T12:32:13.743Z"
   },
   {
    "duration": 150,
    "start_time": "2021-09-09T12:32:13.787Z"
   },
   {
    "duration": 77,
    "start_time": "2021-09-09T12:32:13.938Z"
   },
   {
    "duration": 106,
    "start_time": "2021-09-09T12:32:14.017Z"
   },
   {
    "duration": 28,
    "start_time": "2021-09-09T12:32:14.125Z"
   },
   {
    "duration": 38,
    "start_time": "2021-09-09T12:32:14.155Z"
   },
   {
    "duration": 3,
    "start_time": "2021-09-09T12:32:14.195Z"
   },
   {
    "duration": 6,
    "start_time": "2021-09-09T12:32:14.199Z"
   },
   {
    "duration": 6,
    "start_time": "2021-09-09T12:32:14.206Z"
   },
   {
    "duration": 7269,
    "start_time": "2021-09-09T12:32:14.214Z"
   },
   {
    "duration": -91,
    "start_time": "2021-09-09T12:32:21.576Z"
   },
   {
    "duration": -100,
    "start_time": "2021-09-09T12:32:21.586Z"
   },
   {
    "duration": -103,
    "start_time": "2021-09-09T12:32:21.590Z"
   },
   {
    "duration": -107,
    "start_time": "2021-09-09T12:32:21.594Z"
   },
   {
    "duration": -109,
    "start_time": "2021-09-09T12:32:21.597Z"
   },
   {
    "duration": -113,
    "start_time": "2021-09-09T12:32:21.602Z"
   },
   {
    "duration": -116,
    "start_time": "2021-09-09T12:32:21.606Z"
   },
   {
    "duration": -119,
    "start_time": "2021-09-09T12:32:21.610Z"
   },
   {
    "duration": -122,
    "start_time": "2021-09-09T12:32:21.614Z"
   },
   {
    "duration": -127,
    "start_time": "2021-09-09T12:32:21.620Z"
   },
   {
    "duration": -164,
    "start_time": "2021-09-09T12:32:21.658Z"
   },
   {
    "duration": 943,
    "start_time": "2021-09-09T12:34:41.294Z"
   },
   {
    "duration": 2052,
    "start_time": "2021-09-09T12:34:42.239Z"
   },
   {
    "duration": 21,
    "start_time": "2021-09-09T12:34:44.293Z"
   },
   {
    "duration": 160,
    "start_time": "2021-09-09T12:34:44.316Z"
   },
   {
    "duration": 67,
    "start_time": "2021-09-09T12:34:44.477Z"
   },
   {
    "duration": 116,
    "start_time": "2021-09-09T12:34:44.546Z"
   },
   {
    "duration": 42,
    "start_time": "2021-09-09T12:34:44.663Z"
   },
   {
    "duration": 22,
    "start_time": "2021-09-09T12:34:44.709Z"
   },
   {
    "duration": 4,
    "start_time": "2021-09-09T12:34:44.734Z"
   },
   {
    "duration": 5,
    "start_time": "2021-09-09T12:34:44.740Z"
   },
   {
    "duration": 40,
    "start_time": "2021-09-09T12:34:44.746Z"
   },
   {
    "duration": 24885,
    "start_time": "2021-09-09T12:34:44.788Z"
   },
   {
    "duration": -101,
    "start_time": "2021-09-09T12:35:09.776Z"
   },
   {
    "duration": -104,
    "start_time": "2021-09-09T12:35:09.780Z"
   },
   {
    "duration": -108,
    "start_time": "2021-09-09T12:35:09.785Z"
   },
   {
    "duration": -111,
    "start_time": "2021-09-09T12:35:09.789Z"
   },
   {
    "duration": -114,
    "start_time": "2021-09-09T12:35:09.793Z"
   },
   {
    "duration": -116,
    "start_time": "2021-09-09T12:35:09.797Z"
   },
   {
    "duration": -119,
    "start_time": "2021-09-09T12:35:09.801Z"
   },
   {
    "duration": -124,
    "start_time": "2021-09-09T12:35:09.807Z"
   },
   {
    "duration": -129,
    "start_time": "2021-09-09T12:35:09.813Z"
   },
   {
    "duration": -133,
    "start_time": "2021-09-09T12:35:09.818Z"
   },
   {
    "duration": -136,
    "start_time": "2021-09-09T12:35:09.822Z"
   },
   {
    "duration": 1301,
    "start_time": "2021-09-09T12:35:40.222Z"
   },
   {
    "duration": 2079,
    "start_time": "2021-09-09T12:35:41.525Z"
   },
   {
    "duration": 22,
    "start_time": "2021-09-09T12:35:43.606Z"
   },
   {
    "duration": 170,
    "start_time": "2021-09-09T12:35:43.630Z"
   },
   {
    "duration": 59,
    "start_time": "2021-09-09T12:35:43.802Z"
   },
   {
    "duration": 109,
    "start_time": "2021-09-09T12:35:43.862Z"
   },
   {
    "duration": 28,
    "start_time": "2021-09-09T12:35:43.985Z"
   },
   {
    "duration": 19,
    "start_time": "2021-09-09T12:35:44.016Z"
   },
   {
    "duration": 3,
    "start_time": "2021-09-09T12:35:44.037Z"
   },
   {
    "duration": 6,
    "start_time": "2021-09-09T12:35:44.041Z"
   },
   {
    "duration": 37,
    "start_time": "2021-09-09T12:35:44.049Z"
   },
   {
    "duration": 22577,
    "start_time": "2021-09-09T12:35:44.088Z"
   },
   {
    "duration": -132,
    "start_time": "2021-09-09T12:36:06.799Z"
   },
   {
    "duration": -137,
    "start_time": "2021-09-09T12:36:06.805Z"
   },
   {
    "duration": -142,
    "start_time": "2021-09-09T12:36:06.811Z"
   },
   {
    "duration": -146,
    "start_time": "2021-09-09T12:36:06.816Z"
   },
   {
    "duration": -148,
    "start_time": "2021-09-09T12:36:06.819Z"
   },
   {
    "duration": -152,
    "start_time": "2021-09-09T12:36:06.824Z"
   },
   {
    "duration": -157,
    "start_time": "2021-09-09T12:36:06.830Z"
   },
   {
    "duration": -161,
    "start_time": "2021-09-09T12:36:06.835Z"
   },
   {
    "duration": -165,
    "start_time": "2021-09-09T12:36:06.840Z"
   },
   {
    "duration": -168,
    "start_time": "2021-09-09T12:36:06.844Z"
   },
   {
    "duration": -193,
    "start_time": "2021-09-09T12:36:06.870Z"
   },
   {
    "duration": 945,
    "start_time": "2021-09-09T12:38:18.271Z"
   },
   {
    "duration": 2024,
    "start_time": "2021-09-09T12:38:19.218Z"
   },
   {
    "duration": 22,
    "start_time": "2021-09-09T12:38:21.243Z"
   },
   {
    "duration": 154,
    "start_time": "2021-09-09T12:38:21.267Z"
   },
   {
    "duration": 95,
    "start_time": "2021-09-09T12:38:21.422Z"
   },
   {
    "duration": 124,
    "start_time": "2021-09-09T12:38:21.518Z"
   },
   {
    "duration": 53,
    "start_time": "2021-09-09T12:38:21.643Z"
   },
   {
    "duration": 19,
    "start_time": "2021-09-09T12:38:21.699Z"
   },
   {
    "duration": 3,
    "start_time": "2021-09-09T12:38:21.721Z"
   },
   {
    "duration": 60,
    "start_time": "2021-09-09T12:38:21.726Z"
   },
   {
    "duration": 3,
    "start_time": "2021-09-09T12:38:21.788Z"
   },
   {
    "duration": 14764,
    "start_time": "2021-09-09T12:38:21.793Z"
   },
   {
    "duration": -139,
    "start_time": "2021-09-09T12:38:36.698Z"
   },
   {
    "duration": -161,
    "start_time": "2021-09-09T12:38:36.721Z"
   },
   {
    "duration": -177,
    "start_time": "2021-09-09T12:38:36.738Z"
   },
   {
    "duration": -186,
    "start_time": "2021-09-09T12:38:36.748Z"
   },
   {
    "duration": -190,
    "start_time": "2021-09-09T12:38:36.753Z"
   },
   {
    "duration": -196,
    "start_time": "2021-09-09T12:38:36.761Z"
   },
   {
    "duration": -201,
    "start_time": "2021-09-09T12:38:36.767Z"
   },
   {
    "duration": -205,
    "start_time": "2021-09-09T12:38:36.772Z"
   },
   {
    "duration": -209,
    "start_time": "2021-09-09T12:38:36.777Z"
   },
   {
    "duration": -212,
    "start_time": "2021-09-09T12:38:36.782Z"
   },
   {
    "duration": 7887,
    "start_time": "2021-09-09T12:39:53.888Z"
   },
   {
    "duration": 897,
    "start_time": "2021-09-09T12:40:14.014Z"
   },
   {
    "duration": 2003,
    "start_time": "2021-09-09T12:40:14.912Z"
   },
   {
    "duration": 20,
    "start_time": "2021-09-09T12:40:16.917Z"
   },
   {
    "duration": 160,
    "start_time": "2021-09-09T12:40:16.939Z"
   },
   {
    "duration": 58,
    "start_time": "2021-09-09T12:40:17.101Z"
   },
   {
    "duration": 107,
    "start_time": "2021-09-09T12:40:17.160Z"
   },
   {
    "duration": 42,
    "start_time": "2021-09-09T12:40:17.269Z"
   },
   {
    "duration": 18,
    "start_time": "2021-09-09T12:40:17.313Z"
   },
   {
    "duration": 22,
    "start_time": "2021-09-09T12:40:17.333Z"
   },
   {
    "duration": 6,
    "start_time": "2021-09-09T12:40:17.356Z"
   },
   {
    "duration": 18,
    "start_time": "2021-09-09T12:40:17.363Z"
   },
   {
    "duration": 9726,
    "start_time": "2021-09-09T12:40:17.385Z"
   },
   {
    "duration": -148,
    "start_time": "2021-09-09T12:40:27.261Z"
   },
   {
    "duration": -165,
    "start_time": "2021-09-09T12:40:27.279Z"
   },
   {
    "duration": -170,
    "start_time": "2021-09-09T12:40:27.285Z"
   },
   {
    "duration": -175,
    "start_time": "2021-09-09T12:40:27.291Z"
   },
   {
    "duration": -209,
    "start_time": "2021-09-09T12:40:27.326Z"
   },
   {
    "duration": -212,
    "start_time": "2021-09-09T12:40:27.330Z"
   },
   {
    "duration": -219,
    "start_time": "2021-09-09T12:40:27.338Z"
   },
   {
    "duration": -222,
    "start_time": "2021-09-09T12:40:27.342Z"
   },
   {
    "duration": -224,
    "start_time": "2021-09-09T12:40:27.345Z"
   },
   {
    "duration": -230,
    "start_time": "2021-09-09T12:40:27.352Z"
   },
   {
    "duration": 1057,
    "start_time": "2021-09-09T12:40:58.656Z"
   },
   {
    "duration": 2037,
    "start_time": "2021-09-09T12:40:59.714Z"
   },
   {
    "duration": 46,
    "start_time": "2021-09-09T12:41:01.753Z"
   },
   {
    "duration": 165,
    "start_time": "2021-09-09T12:41:01.801Z"
   },
   {
    "duration": 68,
    "start_time": "2021-09-09T12:41:01.968Z"
   },
   {
    "duration": 105,
    "start_time": "2021-09-09T12:41:02.038Z"
   },
   {
    "duration": 41,
    "start_time": "2021-09-09T12:41:02.145Z"
   },
   {
    "duration": 18,
    "start_time": "2021-09-09T12:41:02.188Z"
   },
   {
    "duration": 3,
    "start_time": "2021-09-09T12:41:02.208Z"
   },
   {
    "duration": 19,
    "start_time": "2021-09-09T12:41:02.212Z"
   },
   {
    "duration": 7,
    "start_time": "2021-09-09T12:41:02.233Z"
   },
   {
    "duration": 156,
    "start_time": "2021-09-09T12:41:02.241Z"
   },
   {
    "duration": 23,
    "start_time": "2021-09-09T12:41:02.399Z"
   },
   {
    "duration": 12,
    "start_time": "2021-09-09T12:41:02.423Z"
   },
   {
    "duration": 22,
    "start_time": "2021-09-09T12:41:02.437Z"
   },
   {
    "duration": 738,
    "start_time": "2021-09-09T12:41:02.461Z"
   },
   {
    "duration": 26,
    "start_time": "2021-09-09T12:41:03.200Z"
   },
   {
    "duration": 8,
    "start_time": "2021-09-09T12:41:03.227Z"
   },
   {
    "duration": 15,
    "start_time": "2021-09-09T12:41:03.236Z"
   },
   {
    "duration": 1403,
    "start_time": "2021-09-09T12:41:03.253Z"
   },
   {
    "duration": 33,
    "start_time": "2021-09-09T12:41:04.657Z"
   },
   {
    "duration": 12,
    "start_time": "2021-09-09T12:41:04.691Z"
   },
   {
    "duration": 1175,
    "start_time": "2021-09-10T05:56:23.311Z"
   },
   {
    "duration": 2992,
    "start_time": "2021-09-10T05:56:24.489Z"
   },
   {
    "duration": 37,
    "start_time": "2021-09-10T05:56:27.484Z"
   },
   {
    "duration": 237,
    "start_time": "2021-09-10T05:56:27.524Z"
   },
   {
    "duration": 101,
    "start_time": "2021-09-10T05:56:27.767Z"
   },
   {
    "duration": 143,
    "start_time": "2021-09-10T05:56:27.870Z"
   },
   {
    "duration": 71,
    "start_time": "2021-09-10T05:56:28.015Z"
   },
   {
    "duration": 33,
    "start_time": "2021-09-10T05:56:28.090Z"
   },
   {
    "duration": 5,
    "start_time": "2021-09-10T05:56:28.126Z"
   },
   {
    "duration": 35,
    "start_time": "2021-09-10T05:56:28.133Z"
   },
   {
    "duration": 9,
    "start_time": "2021-09-10T05:56:28.170Z"
   },
   {
    "duration": 216,
    "start_time": "2021-09-10T05:56:28.181Z"
   },
   {
    "duration": 41,
    "start_time": "2021-09-10T05:56:28.399Z"
   },
   {
    "duration": 31,
    "start_time": "2021-09-10T05:56:28.443Z"
   },
   {
    "duration": 22,
    "start_time": "2021-09-10T05:56:28.477Z"
   },
   {
    "duration": 1229,
    "start_time": "2021-09-10T05:56:28.501Z"
   },
   {
    "duration": 53,
    "start_time": "2021-09-10T05:56:29.733Z"
   },
   {
    "duration": 12,
    "start_time": "2021-09-10T05:56:29.789Z"
   },
   {
    "duration": 22,
    "start_time": "2021-09-10T05:56:29.803Z"
   },
   {
    "duration": 2269,
    "start_time": "2021-09-10T05:56:29.828Z"
   },
   {
    "duration": 15,
    "start_time": "2021-09-10T05:56:32.100Z"
   },
   {
    "duration": 21,
    "start_time": "2021-09-10T05:56:32.118Z"
   },
   {
    "duration": 22,
    "start_time": "2021-09-10T06:01:43.652Z"
   },
   {
    "duration": 22,
    "start_time": "2021-09-10T06:01:49.602Z"
   },
   {
    "duration": 24,
    "start_time": "2021-09-10T06:01:55.686Z"
   },
   {
    "duration": 98,
    "start_time": "2021-09-10T09:52:23.664Z"
   },
   {
    "duration": 933,
    "start_time": "2021-09-10T09:52:27.682Z"
   },
   {
    "duration": 114,
    "start_time": "2021-09-10T09:52:30.341Z"
   },
   {
    "duration": 2145,
    "start_time": "2021-09-10T09:52:42.781Z"
   },
   {
    "duration": 2380,
    "start_time": "2021-09-10T09:53:10.672Z"
   },
   {
    "duration": 929,
    "start_time": "2021-09-10T09:57:08.881Z"
   },
   {
    "duration": 2076,
    "start_time": "2021-09-10T09:57:09.811Z"
   },
   {
    "duration": 22,
    "start_time": "2021-09-10T09:57:11.888Z"
   },
   {
    "duration": 134,
    "start_time": "2021-09-10T09:57:11.912Z"
   },
   {
    "duration": 50,
    "start_time": "2021-09-10T09:57:12.048Z"
   },
   {
    "duration": 89,
    "start_time": "2021-09-10T09:57:12.100Z"
   },
   {
    "duration": 28,
    "start_time": "2021-09-10T09:57:12.190Z"
   },
   {
    "duration": 20,
    "start_time": "2021-09-10T09:57:12.221Z"
   },
   {
    "duration": 3,
    "start_time": "2021-09-10T09:57:12.243Z"
   },
   {
    "duration": 6,
    "start_time": "2021-09-10T09:57:12.247Z"
   },
   {
    "duration": 3,
    "start_time": "2021-09-10T09:57:12.285Z"
   },
   {
    "duration": 140,
    "start_time": "2021-09-10T09:57:12.289Z"
   },
   {
    "duration": 25,
    "start_time": "2021-09-10T09:57:12.431Z"
   },
   {
    "duration": 6,
    "start_time": "2021-09-10T09:57:12.457Z"
   },
   {
    "duration": 29,
    "start_time": "2021-09-10T09:57:12.465Z"
   },
   {
    "duration": 753,
    "start_time": "2021-09-10T09:57:12.496Z"
   },
   {
    "duration": 39,
    "start_time": "2021-09-10T09:57:13.251Z"
   },
   {
    "duration": 7,
    "start_time": "2021-09-10T09:57:13.292Z"
   },
   {
    "duration": 14,
    "start_time": "2021-09-10T09:57:13.301Z"
   },
   {
    "duration": 1346,
    "start_time": "2021-09-10T09:57:13.317Z"
   },
   {
    "duration": 7,
    "start_time": "2021-09-10T09:57:14.665Z"
   },
   {
    "duration": 10,
    "start_time": "2021-09-10T09:57:14.685Z"
   },
   {
    "duration": 938,
    "start_time": "2021-09-10T13:18:43.360Z"
   },
   {
    "duration": 2095,
    "start_time": "2021-09-10T13:18:44.300Z"
   },
   {
    "duration": 25,
    "start_time": "2021-09-10T13:18:46.397Z"
   },
   {
    "duration": 137,
    "start_time": "2021-09-10T13:18:46.424Z"
   },
   {
    "duration": 55,
    "start_time": "2021-09-10T13:18:46.563Z"
   },
   {
    "duration": 79,
    "start_time": "2021-09-10T13:18:46.620Z"
   },
   {
    "duration": 28,
    "start_time": "2021-09-10T13:18:46.701Z"
   },
   {
    "duration": 18,
    "start_time": "2021-09-10T13:18:46.731Z"
   },
   {
    "duration": 3,
    "start_time": "2021-09-10T13:18:46.751Z"
   },
   {
    "duration": 4,
    "start_time": "2021-09-10T13:18:46.785Z"
   },
   {
    "duration": 6,
    "start_time": "2021-09-10T13:18:46.790Z"
   },
   {
    "duration": 157,
    "start_time": "2021-09-10T13:18:46.798Z"
   },
   {
    "duration": 32,
    "start_time": "2021-09-10T13:18:46.956Z"
   },
   {
    "duration": 6,
    "start_time": "2021-09-10T13:18:46.990Z"
   },
   {
    "duration": 13,
    "start_time": "2021-09-10T13:18:46.998Z"
   },
   {
    "duration": 751,
    "start_time": "2021-09-10T13:18:47.012Z"
   },
   {
    "duration": 33,
    "start_time": "2021-09-10T13:18:47.764Z"
   },
   {
    "duration": 7,
    "start_time": "2021-09-10T13:18:47.798Z"
   },
   {
    "duration": 14,
    "start_time": "2021-09-10T13:18:47.807Z"
   },
   {
    "duration": 1370,
    "start_time": "2021-09-10T13:18:47.822Z"
   },
   {
    "duration": 8,
    "start_time": "2021-09-10T13:18:49.194Z"
   },
   {
    "duration": 21,
    "start_time": "2021-09-10T13:18:49.203Z"
   },
   {
    "duration": 894,
    "start_time": "2021-09-10T13:20:05.357Z"
   },
   {
    "duration": 2080,
    "start_time": "2021-09-10T13:20:06.253Z"
   },
   {
    "duration": 19,
    "start_time": "2021-09-10T13:20:08.335Z"
   },
   {
    "duration": 146,
    "start_time": "2021-09-10T13:20:08.356Z"
   },
   {
    "duration": 44,
    "start_time": "2021-09-10T13:20:08.504Z"
   },
   {
    "duration": 93,
    "start_time": "2021-09-10T13:20:08.550Z"
   },
   {
    "duration": 49,
    "start_time": "2021-09-10T13:20:08.645Z"
   },
   {
    "duration": 19,
    "start_time": "2021-09-10T13:20:08.697Z"
   },
   {
    "duration": 3,
    "start_time": "2021-09-10T13:20:08.719Z"
   },
   {
    "duration": 13,
    "start_time": "2021-09-10T13:20:08.723Z"
   },
   {
    "duration": 7,
    "start_time": "2021-09-10T13:20:08.738Z"
   },
   {
    "duration": 159,
    "start_time": "2021-09-10T13:20:08.747Z"
   },
   {
    "duration": 25,
    "start_time": "2021-09-10T13:20:08.908Z"
   },
   {
    "duration": 7,
    "start_time": "2021-09-10T13:20:08.935Z"
   },
   {
    "duration": 23,
    "start_time": "2021-09-10T13:20:08.943Z"
   },
   {
    "duration": 764,
    "start_time": "2021-09-10T13:20:08.985Z"
   },
   {
    "duration": 35,
    "start_time": "2021-09-10T13:20:09.751Z"
   },
   {
    "duration": 8,
    "start_time": "2021-09-10T13:20:09.787Z"
   },
   {
    "duration": 13,
    "start_time": "2021-09-10T13:20:09.797Z"
   },
   {
    "duration": 1349,
    "start_time": "2021-09-10T13:20:09.812Z"
   },
   {
    "duration": 8,
    "start_time": "2021-09-10T13:20:11.163Z"
   },
   {
    "duration": 19,
    "start_time": "2021-09-10T13:20:11.172Z"
   },
   {
    "duration": 886,
    "start_time": "2021-09-10T13:21:23.323Z"
   },
   {
    "duration": 2112,
    "start_time": "2021-09-10T13:21:24.211Z"
   },
   {
    "duration": 24,
    "start_time": "2021-09-10T13:21:26.325Z"
   },
   {
    "duration": 146,
    "start_time": "2021-09-10T13:21:26.351Z"
   },
   {
    "duration": 44,
    "start_time": "2021-09-10T13:21:26.498Z"
   },
   {
    "duration": 90,
    "start_time": "2021-09-10T13:21:26.543Z"
   },
   {
    "duration": 27,
    "start_time": "2021-09-10T13:21:26.635Z"
   },
   {
    "duration": 19,
    "start_time": "2021-09-10T13:21:26.684Z"
   },
   {
    "duration": 3,
    "start_time": "2021-09-10T13:21:26.705Z"
   },
   {
    "duration": 6,
    "start_time": "2021-09-10T13:21:26.709Z"
   },
   {
    "duration": 6,
    "start_time": "2021-09-10T13:21:26.716Z"
   },
   {
    "duration": 166,
    "start_time": "2021-09-10T13:21:26.724Z"
   },
   {
    "duration": 26,
    "start_time": "2021-09-10T13:21:26.892Z"
   },
   {
    "duration": 7,
    "start_time": "2021-09-10T13:21:26.919Z"
   },
   {
    "duration": 13,
    "start_time": "2021-09-10T13:21:26.928Z"
   },
   {
    "duration": 786,
    "start_time": "2021-09-10T13:21:26.943Z"
   },
   {
    "duration": 30,
    "start_time": "2021-09-10T13:21:27.731Z"
   },
   {
    "duration": 28,
    "start_time": "2021-09-10T13:21:27.763Z"
   },
   {
    "duration": 14,
    "start_time": "2021-09-10T13:21:27.793Z"
   },
   {
    "duration": 1384,
    "start_time": "2021-09-10T13:21:27.809Z"
   },
   {
    "duration": 9,
    "start_time": "2021-09-10T13:21:29.195Z"
   },
   {
    "duration": 10,
    "start_time": "2021-09-10T13:21:29.205Z"
   },
   {
    "duration": 24,
    "start_time": "2021-09-10T13:25:16.903Z"
   },
   {
    "duration": 646,
    "start_time": "2021-09-10T13:26:16.575Z"
   },
   {
    "duration": 580,
    "start_time": "2021-09-10T13:27:37.391Z"
   },
   {
    "duration": 1421,
    "start_time": "2021-09-10T13:28:01.363Z"
   },
   {
    "duration": 863,
    "start_time": "2021-09-10T13:30:05.952Z"
   },
   {
    "duration": 2137,
    "start_time": "2021-09-10T13:30:06.817Z"
   },
   {
    "duration": 43,
    "start_time": "2021-09-10T13:30:08.956Z"
   },
   {
    "duration": 142,
    "start_time": "2021-09-10T13:30:09.001Z"
   },
   {
    "duration": 60,
    "start_time": "2021-09-10T13:30:09.145Z"
   },
   {
    "duration": 90,
    "start_time": "2021-09-10T13:30:09.207Z"
   },
   {
    "duration": 28,
    "start_time": "2021-09-10T13:30:09.299Z"
   },
   {
    "duration": 19,
    "start_time": "2021-09-10T13:30:09.329Z"
   },
   {
    "duration": 3,
    "start_time": "2021-09-10T13:30:09.350Z"
   },
   {
    "duration": 32,
    "start_time": "2021-09-10T13:30:09.355Z"
   },
   {
    "duration": 5,
    "start_time": "2021-09-10T13:30:09.389Z"
   },
   {
    "duration": 159,
    "start_time": "2021-09-10T13:30:09.396Z"
   },
   {
    "duration": 36,
    "start_time": "2021-09-10T13:30:09.557Z"
   },
   {
    "duration": 8,
    "start_time": "2021-09-10T13:30:09.595Z"
   },
   {
    "duration": 18,
    "start_time": "2021-09-10T13:30:09.604Z"
   },
   {
    "duration": 1402,
    "start_time": "2021-09-10T13:30:09.623Z"
   },
   {
    "duration": 27,
    "start_time": "2021-09-10T13:30:11.027Z"
   },
   {
    "duration": 8,
    "start_time": "2021-09-10T13:30:11.055Z"
   },
   {
    "duration": 33,
    "start_time": "2021-09-10T13:30:11.065Z"
   },
   {
    "duration": 1375,
    "start_time": "2021-09-10T13:30:11.100Z"
   },
   {
    "duration": 13,
    "start_time": "2021-09-10T13:30:12.476Z"
   },
   {
    "duration": 11,
    "start_time": "2021-09-10T13:30:12.491Z"
   },
   {
    "duration": 1361,
    "start_time": "2021-09-10T13:31:22.455Z"
   },
   {
    "duration": 8,
    "start_time": "2021-09-10T13:51:26.885Z"
   },
   {
    "duration": 26,
    "start_time": "2021-09-10T13:52:00.216Z"
   },
   {
    "duration": 8,
    "start_time": "2021-09-10T13:52:09.057Z"
   },
   {
    "duration": 26,
    "start_time": "2021-09-10T14:04:36.647Z"
   },
   {
    "duration": 1422,
    "start_time": "2021-09-10T14:06:06.686Z"
   },
   {
    "duration": 1372,
    "start_time": "2021-09-10T14:06:26.133Z"
   },
   {
    "duration": 1297,
    "start_time": "2021-09-10T14:06:50.929Z"
   },
   {
    "duration": 919,
    "start_time": "2021-09-10T14:07:55.395Z"
   },
   {
    "duration": 2134,
    "start_time": "2021-09-10T14:07:56.316Z"
   },
   {
    "duration": 44,
    "start_time": "2021-09-10T14:07:58.452Z"
   },
   {
    "duration": 119,
    "start_time": "2021-09-10T14:07:58.498Z"
   },
   {
    "duration": 44,
    "start_time": "2021-09-10T14:07:58.618Z"
   },
   {
    "duration": 69,
    "start_time": "2021-09-10T14:07:58.684Z"
   },
   {
    "duration": 49,
    "start_time": "2021-09-10T14:07:58.755Z"
   },
   {
    "duration": 18,
    "start_time": "2021-09-10T14:07:58.806Z"
   },
   {
    "duration": 3,
    "start_time": "2021-09-10T14:07:58.826Z"
   },
   {
    "duration": 5,
    "start_time": "2021-09-10T14:07:58.831Z"
   },
   {
    "duration": 6,
    "start_time": "2021-09-10T14:07:58.837Z"
   },
   {
    "duration": 166,
    "start_time": "2021-09-10T14:07:58.845Z"
   },
   {
    "duration": 22,
    "start_time": "2021-09-10T14:07:59.012Z"
   },
   {
    "duration": 6,
    "start_time": "2021-09-10T14:07:59.036Z"
   },
   {
    "duration": 13,
    "start_time": "2021-09-10T14:07:59.044Z"
   },
   {
    "duration": 1381,
    "start_time": "2021-09-10T14:07:59.059Z"
   },
   {
    "duration": 22,
    "start_time": "2021-09-10T14:08:00.442Z"
   },
   {
    "duration": 39,
    "start_time": "2021-09-10T14:08:00.466Z"
   },
   {
    "duration": 9,
    "start_time": "2021-09-10T14:08:00.506Z"
   },
   {
    "duration": 28,
    "start_time": "2021-09-10T14:08:00.516Z"
   },
   {
    "duration": 1386,
    "start_time": "2021-09-10T14:08:00.545Z"
   },
   {
    "duration": 8,
    "start_time": "2021-09-10T14:08:01.933Z"
   },
   {
    "duration": 33,
    "start_time": "2021-09-10T14:08:01.944Z"
   },
   {
    "duration": 8,
    "start_time": "2021-09-10T14:09:11.011Z"
   }
  ],
  "kernelspec": {
   "display_name": "Python 3",
   "language": "python",
   "name": "python3"
  },
  "language_info": {
   "codemirror_mode": {
    "name": "ipython",
    "version": 3
   },
   "file_extension": ".py",
   "mimetype": "text/x-python",
   "name": "python",
   "nbconvert_exporter": "python",
   "pygments_lexer": "ipython3",
   "version": "3.8.8"
  },
  "toc": {
   "base_numbering": 1,
   "nav_menu": {},
   "number_sections": true,
   "sideBar": true,
   "skip_h1_title": true,
   "title_cell": "Table of Contents",
   "title_sidebar": "Contents",
   "toc_cell": false,
   "toc_position": {},
   "toc_section_display": true,
   "toc_window_display": false
  }
 },
 "nbformat": 4,
 "nbformat_minor": 2
}
